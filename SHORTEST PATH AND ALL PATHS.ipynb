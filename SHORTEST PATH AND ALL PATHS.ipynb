{
 "cells": [
  {
   "cell_type": "code",
   "execution_count": 1,
   "id": "6bc360a3",
   "metadata": {},
   "outputs": [],
   "source": [
    "class DiGraph:\n",
    "    def __init__(self):\n",
    "        self.g={}\n",
    "    def add_node(self,node):\n",
    "        if node not in self.g:\n",
    "            self.g[node]=[]\n",
    "        else:\n",
    "            raise ValueError(\"NODE ALREADY IN GRAPH\")\n",
    "    def add_edge(self,source,destination):\n",
    "        if source not in self.g:\n",
    "            raise KeyError(\"SOURCE NODE NOT IN GRAPH\")\n",
    "        if destination not in self.g:\n",
    "            raise KeyError(\"DESTINATION NODE NOT IN GRAPH\")\n",
    "        if destination not in self.g[source]:\n",
    "            self.g[source].append(destination)\n",
    "    def __str__(self):\n",
    "        return str(self.g)\n",
    "  "
   ]
  },
  {
   "cell_type": "code",
   "execution_count": 2,
   "id": "3a9d65f5",
   "metadata": {},
   "outputs": [],
   "source": [
    "g=DiGraph()\n",
    "nodes=['a','b','c','d','e','f']\n",
    "edges=[('a','b'),('a','c'),('b','c') ,('b','d'),('c','d'),('d','c'),('e','f'),('f','c')]\n",
    "for i in nodes:\n",
    "    g.add_node(i)\n",
    "for i in edges:\n",
    "    g.add_edge(i[0],i[1])"
   ]
  },
  {
   "cell_type": "code",
   "execution_count": 3,
   "id": "6345e0ea",
   "metadata": {},
   "outputs": [],
   "source": [
    "import pprint\n"
   ]
  },
  {
   "cell_type": "code",
   "execution_count": 4,
   "id": "99f6dffd",
   "metadata": {},
   "outputs": [
    {
     "name": "stdout",
     "output_type": "stream",
     "text": [
      "{'a': ['b', 'c'], 'b': ['c', 'd'], 'c': ['d'], 'd': ['c'], 'e': ['f'], 'f': ['c']}\n"
     ]
    }
   ],
   "source": [
    "print(g)"
   ]
  },
  {
   "cell_type": "markdown",
   "id": "771f3700",
   "metadata": {},
   "source": [
    "# Find All Paths"
   ]
  },
  {
   "cell_type": "code",
   "execution_count": 76,
   "id": "f53f98b2",
   "metadata": {},
   "outputs": [],
   "source": [
    "def find_all_paths(self,start,end,path=[]):\n",
    "        if start not in self.g or end not in self.g:\n",
    "            raise NodeError(\"NODE NOT IN GRAPH\")\n",
    "        path=path+[start]\n",
    "\n",
    "        if start==end:\n",
    "            return [path]\n",
    "        all_path=[]\n",
    "        for nodes in self.g[start]:\n",
    "            if nodes not in path:\n",
    "                all_newpath=self.find_all_paths(nodes,end,path)\n",
    "                for new_path in all_newpath:\n",
    "                    all_path.append(new_path)\n",
    "        return all_path\n",
    "\n",
    "DiGraph.find_all_paths=find_all_paths"
   ]
  },
  {
   "cell_type": "code",
   "execution_count": 95,
   "id": "43f2bf9e",
   "metadata": {},
   "outputs": [
    {
     "data": {
      "text/plain": [
       "[['a']]"
      ]
     },
     "execution_count": 95,
     "metadata": {},
     "output_type": "execute_result"
    }
   ],
   "source": [
    "g.find_all_paths('a','a')"
   ]
  },
  {
   "cell_type": "markdown",
   "id": "79646c77",
   "metadata": {},
   "source": [
    "# SHORTEST PATH"
   ]
  },
  {
   "cell_type": "code",
   "execution_count": 107,
   "id": "44092ea0",
   "metadata": {},
   "outputs": [],
   "source": [
    "def find_shortest_paths(self,start,end,path=[]):\n",
    "        if start not in self.g or end not in self.g:\n",
    "            raise NodeError(\"NODE NOT IN GRAPH\")\n",
    "        path=path+[start]\n",
    "\n",
    "        if start==end:\n",
    "            return path\n",
    "        shortest_path=None    \n",
    "        for nodes in self.g[start]:\n",
    "            if nodes not in path:\n",
    "                newpath=self.find_shortest_paths(nodes,end,path)\n",
    "                if newpath:\n",
    "                    if shortest_path is None or len(newpath)<len(shortest_path):\n",
    "                        shortest_path=newpath\n",
    "       \n",
    "        return shortest_path\n",
    "\n",
    "DiGraph.find_shortest_paths=find_shortest_paths"
   ]
  },
  {
   "cell_type": "code",
   "execution_count": 108,
   "id": "953c02d3",
   "metadata": {},
   "outputs": [
    {
     "data": {
      "text/plain": [
       "['a', 'b', 'd']"
      ]
     },
     "execution_count": 108,
     "metadata": {},
     "output_type": "execute_result"
    }
   ],
   "source": [
    "g.find_shortest_paths('a','d')"
   ]
  },
  {
   "cell_type": "code",
   "execution_count": 109,
   "id": "658a867b",
   "metadata": {},
   "outputs": [],
   "source": [
    "import networkx as nx\n",
    "import matplotlib.pyplot as plt\n",
    "\n",
    "def visualize_graph(graph):\n",
    "    G = nx.DiGraph()\n",
    "\n",
    "    # Add nodes to the graph\n",
    "    for node in graph.g.keys():\n",
    "        G.add_node(node)\n",
    "\n",
    "    # Add edges to the graph\n",
    "    for source, destinations in graph.g.items():\n",
    "        for destination in destinations:\n",
    "            G.add_edge(source, destination)\n",
    "\n",
    "    # Create a layout for the graph\n",
    "    pos = nx.spring_layout(G)\n",
    "\n",
    "    # Draw the graph\n",
    "    nx.draw(G, pos, with_labels=True, node_color='lightblue', node_size=500, edge_color='gray', arrows=True)\n",
    "\n",
    "    # Show the graph\n",
    "    plt.show()\n"
   ]
  },
  {
   "cell_type": "code",
   "execution_count": 90,
   "id": "a2c95842",
   "metadata": {},
   "outputs": [
    {
     "data": {
      "image/png": "[encoded data removed]",
      "text/plain": [
       "<Figure size 640x480 with 1 Axes>"
      ]
     },
     "metadata": {},
     "output_type": "display_data"
    }
   ],
   "source": [
    "visualize_graph(g)"
   ]
  },
  {
   "cell_type": "code",
   "execution_count": null,
   "id": "1e6f214e",
   "metadata": {},
   "outputs": [],
   "source": []
  }
 ],
 "metadata": {
  "kernelspec": {
   "display_name": "Python 3 (ipykernel)",
   "language": "python",
   "name": "python3"
  },
  "language_info": {
   "codemirror_mode": {
    "name": "ipython",
    "version": 3
   },
   "file_extension": ".py",
   "mimetype": "text/x-python",
   "name": "python",
   "nbconvert_exporter": "python",
   "pygments_lexer": "ipython3",
   "version": "3.9.13"
  }
 },
 "nbformat": 4,
 "nbformat_minor": 5
}

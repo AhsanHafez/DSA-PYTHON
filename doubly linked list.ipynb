{
 "cells": [
  {
   "cell_type": "code",
   "execution_count": 1,
   "id": "575377af",
   "metadata": {},
   "outputs": [],
   "source": [
    "class node:\n",
    "    def __init__(self,data=0):\n",
    "        self.val=data\n",
    "        self.next=None\n",
    "        self.previous = None\n",
    "        "
   ]
  },
  {
   "cell_type": "code",
   "execution_count": 2,
   "id": "e5932a77",
   "metadata": {},
   "outputs": [],
   "source": [
    "class doubly:\n",
    "    def __init__(self):\n",
    "        self.head=None\n",
    "    def push(self,value):\n",
    "        new_node=node(value)\n",
    "        if self.head is None:\n",
    "            #no element in list\n",
    "            self.head=new_node\n",
    "            return\n",
    "        #pushing at node except head\n",
    "        temp=self.head\n",
    "        while temp.next is not None:\n",
    "            prev=temp\n",
    "            temp=temp.next\n",
    "        temp.next=new_node\n",
    "        new_node.previous=temp\n",
    "    def __str__(self):\n",
    "        ret=\"[\"\n",
    "        temp=self.head\n",
    "        while temp is not None:\n",
    "            #print(hex(id(temp.previous)),hex(id(temp)),hex(id(temp.next))    )\n",
    "            ret+= str(temp.val) +\",\"\n",
    "            temp=temp.next\n",
    "        ret=ret.strip(\",\")\n",
    "        ret+=\"]\"\n",
    "        return ret\n",
    "    def pop(self):\n",
    "        if self.head is None:\n",
    "            raise Exception(\"POP CANNOT BE PERFORMED ON EMPTY LIST\")\n",
    "        elif self.head is not None and self.head.next is None:\n",
    "            #removing head\n",
    "            val=self.head\n",
    "            self.head=None\n",
    "            return val\n",
    "        temp=self.head\n",
    "        while temp.next is not None:\n",
    "            temp=temp.next\n",
    "        temp.previous.next=None\n",
    "        val=temp.val\n",
    "        temp=None\n",
    "        return val\n",
    "    def insert(self,index,value):\n",
    "        new_node=node(value)\n",
    "        if index==0:\n",
    "            #inserting at head\n",
    "            if(self.head is None):\n",
    "                #head doesnot exist\n",
    "                self.head=new_node\n",
    "                return\n",
    "                \n",
    "            else:    \n",
    "                #head exist\n",
    "                t=self.head\n",
    "                self.head=new_node\n",
    "                new_node.next=t\n",
    "                t.previous=new_node\n",
    "                return\n",
    "        counter =0\n",
    "        temp=self.head\n",
    "        while temp.next is not None and counter<index:\n",
    "            counter+=1\n",
    "            temp=temp.next\n",
    "            \n",
    "            \n",
    "        temp.previous.next=new_node\n",
    "        new_node.next=temp\n",
    "        new_node.prev=temp.previous\n",
    "        temp.prev=new_node\n",
    "    def remove(self,value):\n",
    "        if self.head is None:\n",
    "            raise Exception(\"CANNOT REMOVE FROM EMPTY LIST\")\n",
    "        temp=self.head\n",
    "        while temp is not None:\n",
    "            if temp.val==value:\n",
    "                if temp.next is not None:      \n",
    "                    self.head=self.head.next\n",
    "                    self.head.previous=None\n",
    "                    return\n",
    "                else:\n",
    "                    self.head=None\n",
    "                    return\n",
    "            temp=temp.next\n",
    "        \n",
    "        if temp is None:\n",
    "            print(\"VALUE IS NOT PRESENT IN LIST \")\n",
    "            return\n",
    "        prev=temp\n",
    "        temp.previous.next=temp.next\n",
    "        prev.next.previous=prev.previous\n",
    "        temp=None\n",
    "        prev=None\n",
    "\n"
   ]
  },
  {
   "cell_type": "code",
   "execution_count": 43,
   "id": "0d18afa4",
   "metadata": {},
   "outputs": [
    {
     "data": {
      "text/plain": [
       "'0x7ff9dd55bcd8'"
      ]
     },
     "execution_count": 43,
     "metadata": {},
     "output_type": "execute_result"
    }
   ],
   "source": [
    "hex(id(None))"
   ]
  },
  {
   "cell_type": "code",
   "execution_count": 50,
   "id": "4b5a00f0",
   "metadata": {},
   "outputs": [
    {
     "name": "stdout",
     "output_type": "stream",
     "text": [
      "[32,33,32]\n",
      "[33,32]\n"
     ]
    }
   ],
   "source": [
    "d=doubly()\n",
    "d.push(32)\n",
    "d.push(33)\n",
    "d.push(32)\n",
    "print(d)\n",
    "d.remove(32)\n",
    "print(d)"
   ]
  },
  {
   "cell_type": "code",
   "execution_count": null,
   "id": "b9e73914",
   "metadata": {},
   "outputs": [],
   "source": []
  }
 ],
 "metadata": {
  "kernelspec": {
   "display_name": "Python 3 (ipykernel)",
   "language": "python",
   "name": "python3"
  },
  "language_info": {
   "codemirror_mode": {
    "name": "ipython",
    "version": 3
   },
   "file_extension": ".py",
   "mimetype": "text/x-python",
   "name": "python",
   "nbconvert_exporter": "python",
   "pygments_lexer": "ipython3",
   "version": "3.9.13"
  }
 },
 "nbformat": 4,
 "nbformat_minor": 5
}

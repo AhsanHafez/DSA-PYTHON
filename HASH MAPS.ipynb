{
 "cells": [
  {
   "cell_type": "markdown",
   "id": "d8495689",
   "metadata": {},
   "source": [
    "# MAP USING LIST"
   ]
  },
  {
   "cell_type": "code",
   "execution_count": 22,
   "id": "0bcf55d2",
   "metadata": {},
   "outputs": [
    {
     "data": {
      "text/plain": [
       "[[17, 'seventeen'], [26, 'twenty six'], [35, 'thirty five']]"
      ]
     },
     "execution_count": 22,
     "metadata": {},
     "output_type": "execute_result"
    }
   ],
   "source": [
    "l1=[17,\"seventeen\"]\n",
    "l2=[26,'twenty six']\n",
    "l3=[35,'thirty five']\n",
    "q=[]\n",
    "q.append(l1)\n",
    "q.append(l2)\n",
    "q.append(l3)\n",
    "q # now you have to loop over whole list to find a value"
   ]
  },
  {
   "cell_type": "markdown",
   "id": "5558be19",
   "metadata": {},
   "source": [
    "## HASH MAPS"
   ]
  },
  {
   "cell_type": "markdown",
   "id": "8a05ec6b",
   "metadata": {},
   "source": [
    "### HASH FUNCTION PRODUCES SAME OUTPUT FOR SAME INPUT AND ITS OUTPUT IS OF FIXED SIZE"
   ]
  },
  {
   "cell_type": "markdown",
   "id": "0e0b66b4",
   "metadata": {},
   "source": [
    "### MAPS WHICH DECIDE LOCATION OF KEYS BASED ON HASH FUNTION IS CALLED HASH MAPS"
   ]
  },
  {
   "cell_type": "code",
   "execution_count": 134,
   "id": "265d976c",
   "metadata": {},
   "outputs": [],
   "source": [
    "class HashMap:\n",
    "    def __init__(self):\n",
    "        self.size=10\n",
    "        self.map=[None]*self.size\n",
    "    def add(self,key,value):\n",
    "        key_hash=self.get_hash(key)\n",
    "        key_value=[key,value]\n",
    "        if self.map[key_hash] is None:\n",
    "                self.map[key_hash]=[ key_value  ]\n",
    "                return True\n",
    "        else:\n",
    "            for pair in self.map[key_hash]:\n",
    "                if pair[0]==key:\n",
    "                    pair[1]=value\n",
    "                    return True\n",
    "            self.map[key_hash].append(key_value)\n",
    "            return True\n"
   ]
  },
  {
   "cell_type": "code",
   "execution_count": 135,
   "id": "7158123e",
   "metadata": {},
   "outputs": [],
   "source": [
    "def get_hash(self,key):\n",
    "    return key%self.size\n",
    "HashMap.get_hash=get_hash"
   ]
  },
  {
   "cell_type": "code",
   "execution_count": null,
   "id": "b03fd03f",
   "metadata": {},
   "outputs": [],
   "source": []
  },
  {
   "cell_type": "code",
   "execution_count": 136,
   "id": "15d72df7",
   "metadata": {},
   "outputs": [],
   "source": [
    "def get(self,key):\n",
    "    key_hash=self.get_hash(key)\n",
    "    if self.map[key_hash] is not None:\n",
    "        for pair in self.map[key_hash]:\n",
    "            if pair[0]==key:\n",
    "                return pair[1]\n",
    "    else:\n",
    "        raise KeyError(str(key))\n",
    "HashMap.get=get"
   ]
  },
  {
   "cell_type": "code",
   "execution_count": 137,
   "id": "75df2cef",
   "metadata": {},
   "outputs": [
    {
     "name": "stdout",
     "output_type": "stream",
     "text": [
      "0 . a\n",
      "1 . b\n",
      "2 . c\n",
      "3 . d\n"
     ]
    }
   ],
   "source": [
    "w=['a','b','c','d']\n",
    "for i,item in enumerate(w):\n",
    "    print(i,\".\",item)"
   ]
  },
  {
   "cell_type": "code",
   "execution_count": 138,
   "id": "044652a2",
   "metadata": {},
   "outputs": [],
   "source": [
    "def __str__(self):\n",
    "    ret= \"\"\n",
    "    for i,item in enumerate(self.map):\n",
    "        if item is not None:\n",
    "            ret+=str(i)+ \" : \" + str(item) + \"\\n\"\n",
    "    return ret\n",
    "HashMap.__str__=__str__    "
   ]
  },
  {
   "cell_type": "code",
   "execution_count": 139,
   "id": "f47e2987",
   "metadata": {},
   "outputs": [
    {
     "data": {
      "text/plain": [
       "True"
      ]
     },
     "execution_count": 139,
     "metadata": {},
     "output_type": "execute_result"
    }
   ],
   "source": [
    "h=HashMap()\n",
    "h.add(17,\"seventeen\")\n",
    "h.add(26,\"twenty six\")\n",
    "h.add(35,\"thirty five\")\n",
    "h.add(26,\"twenty six updated\")\n"
   ]
  },
  {
   "cell_type": "code",
   "execution_count": 140,
   "id": "1b93d6f1",
   "metadata": {},
   "outputs": [
    {
     "name": "stdout",
     "output_type": "stream",
     "text": [
      "5 : [[35, 'thirty five']]\n",
      "6 : [[26, 'twenty six updated']]\n",
      "7 : [[17, 'seventeen']]\n",
      "\n"
     ]
    }
   ],
   "source": [
    "print(h)"
   ]
  },
  {
   "cell_type": "code",
   "execution_count": 141,
   "id": "3ff7bbe4",
   "metadata": {},
   "outputs": [
    {
     "name": "stdout",
     "output_type": "stream",
     "text": [
      "twenty six updated\n"
     ]
    }
   ],
   "source": [
    "print(h.get(26))"
   ]
  },
  {
   "cell_type": "markdown",
   "id": "717f3318",
   "metadata": {},
   "source": [
    "## COLLISIONS AND AVOIDANCE"
   ]
  },
  {
   "cell_type": "code",
   "execution_count": 167,
   "id": "94591fa1",
   "metadata": {},
   "outputs": [
    {
     "name": "stdout",
     "output_type": "stream",
     "text": [
      "5 : [[35, 'thirty five'], [25, 'twenty five']]\n",
      "6 : [[26, 'twenty six updated']]\n",
      "7 : [[17, 'seventeen']]\n",
      "\n"
     ]
    }
   ],
   "source": [
    "h=HashMap()\n",
    "h.add(17,\"seventeen\")\n",
    "h.add(26,\"twenty six\")\n",
    "h.add(35,\"thirty five\")#hash collision\n",
    "h.add(25,\"twenty five\")#hash collision \n",
    "h.add(26,\"twenty six updated\")\n",
    "print(h)\n"
   ]
  },
  {
   "cell_type": "code",
   "execution_count": 172,
   "id": "fcab2f59",
   "metadata": {},
   "outputs": [],
   "source": [
    "def delete(self,key):\n",
    "    key_hash=self.get_hash(key)\n",
    "    if self.map[key_hash] is not None:\n",
    "        for pair in self.map[key_hash]:\n",
    "            if pair[0]==key:\n",
    "                self.map[key_hash].remove(pair)\n",
    "                return\n",
    "    else:\n",
    "        raise KeyError(str(key))\n",
    "HashMap.delete=delete"
   ]
  },
  {
   "cell_type": "code",
   "execution_count": 173,
   "id": "217cc27f",
   "metadata": {},
   "outputs": [
    {
     "name": "stdout",
     "output_type": "stream",
     "text": [
      "5 : [[35, 'thirty five']]\n",
      "6 : [[26, 'twenty six updated']]\n",
      "7 : [[17, 'seventeen']]\n",
      "\n"
     ]
    }
   ],
   "source": [
    "h.delete(25)\n",
    "print(h)"
   ]
  },
  {
   "cell_type": "code",
   "execution_count": null,
   "id": "82ec928d",
   "metadata": {},
   "outputs": [],
   "source": []
  },
  {
   "cell_type": "code",
   "execution_count": null,
   "id": "fa2b5812",
   "metadata": {},
   "outputs": [],
   "source": []
  }
 ],
 "metadata": {
  "kernelspec": {
   "display_name": "Python 3 (ipykernel)",
   "language": "python",
   "name": "python3"
  },
  "language_info": {
   "codemirror_mode": {
    "name": "ipython",
    "version": 3
   },
   "file_extension": ".py",
   "mimetype": "text/x-python",
   "name": "python",
   "nbconvert_exporter": "python",
   "pygments_lexer": "ipython3",
   "version": "3.9.13"
  }
 },
 "nbformat": 4,
 "nbformat_minor": 5
}

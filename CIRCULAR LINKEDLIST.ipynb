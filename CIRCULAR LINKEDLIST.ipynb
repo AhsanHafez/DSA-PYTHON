{
 "cells": [
  {
   "cell_type": "code",
   "execution_count": 18,
   "id": "2a0f5c5c",
   "metadata": {},
   "outputs": [],
   "source": [
    "class node:\n",
    "    def __init__(self,data=0):\n",
    "        self.val=data\n",
    "        self.next=None\n",
    "        self.previous=None\n",
    "        "
   ]
  },
  {
   "cell_type": "code",
   "execution_count": 19,
   "id": "a6110a0b",
   "metadata": {},
   "outputs": [],
   "source": [
    "class CircularList:\n",
    "    def __init__(self):\n",
    "        self.head=None\n",
    "        self.last=None\n",
    "    def push(self,val):\n",
    "        new_node=node(val)\n",
    "        if self.head is None:\n",
    "            self.head=new_node\n",
    "            last=self.head\n",
    "            return\n",
    "        if self.head.next is None:\n",
    "            self.head.next=new_node\n",
    "            new_node.next=self.head\n",
    "            new_node.previous=self.head\n",
    "            return\n",
    "        self.last=self.head\n",
    "        while self.last.next!=self.head:\n",
    "            self.last=self.last.next\n",
    "        self.last.next=new_node\n",
    "        new_node.previous=self.last\n",
    "        new_node.next=self.head\n",
    "    def __str__(self):\n",
    "        ret=\"[\"\n",
    "        h=self.head\n",
    "        if h is None:\n",
    "            ret+=\"]\"\n",
    "            return ret\n",
    "            return\n",
    "        if h.next is None:\n",
    "            ret+=str(h.val)+\"]\"\n",
    "            return ret\n",
    "        while h.next!=self.head:\n",
    "            ret+=str(h.val)+\",\"\n",
    "            h=h.next\n",
    "        ret+=str(h.val)+\",\"\n",
    "        ret=ret.strip(\",\")\n",
    "        ret+=\"]\"\n",
    "        return ret\n",
    "    def insert(self,index,value):\n",
    "        new_node=node(value)\n",
    "        if self.head is None:\n",
    "            self.head=new_node\n",
    "            return\n",
    "        if self.head.next is None:\n",
    "            self.head.next=new_node\n",
    "            new_node.next=self.head\n",
    "            new_node.previous=self.head\n",
    "            return\n",
    "        if index==0:\n",
    "            l=self.head\n",
    "            self.head=new_node\n",
    "            l.next=new_node\n",
    "            new_node.previous=l\n",
    "            l.previous.next=new_node\n",
    "            return\n",
    "        self.last=self.head\n",
    "        counter=1\n",
    "        while self.last.next !=self.head and counter<=index:\n",
    "            self.last=self.last.next\n",
    "            counter+=1\n",
    "        if counter==index:\n",
    "            self.last.previous.next=new_node\n",
    "            new_node.previous=self.last.previous\n",
    "            new_node.next=self.last\n",
    "        else:\n",
    "            self.last.next=new_node\n",
    "            new_node.previous=self.last\n",
    "            new_node.next=self.head\n",
    "    def remove(self,value):\n",
    "        if self.head is None:\n",
    "            raise Exception(\"CANNOT REMOVE FROM EMPTY LIST\")\n",
    "        last=self.head\n",
    "        if last.next is None:\n",
    "            if last.val==value:\n",
    "                last=None\n",
    "                return\n",
    "            else:\n",
    "                print(\"THE VALUE IS NOT PRESENT IN THE LIST\")\n",
    "                return\n",
    "        while last.next!=self.head and last.val!=value:\n",
    "            last=last.next\n",
    "        if last.val==value:\n",
    "            last.previous.next=last.next\n",
    "            last.next.previous=last.previous\n",
    "        else:\n",
    "            print(\"VALUE IS NOT IN THE LIST\")\n",
    "    def pop(self):\n",
    "        if self.head is None:\n",
    "            raise Exception(\"CANNOT POP ON EMPTY LIST \")\n",
    "        if self.head.next is None:\n",
    "            val=self.head.val\n",
    "            self.head=None\n",
    "            return val\n",
    "        last=self.head\n",
    "        while last.next!=self.head:\n",
    "            last=last.next\n",
    "        val=last.val\n",
    "        last.previous.next=last.next\n",
    "        last.next.previous=last.previous\n",
    "        return val\n",
    "    def get_last(self):\n",
    "        if self.head is None:\n",
    "            raise Exception(\"NO LAST IN EMPTY LAST\\n\")\n",
    "        if self.head.next is None:\n",
    "            return self.head\n",
    "        temp=self.head\n",
    "        while temp.next!=self.head:\n",
    "            temp=temp.next\n",
    "        return temp\n",
    "\n"
   ]
  },
  {
   "cell_type": "code",
   "execution_count": 20,
   "id": "f95c9675",
   "metadata": {},
   "outputs": [
    {
     "name": "stdout",
     "output_type": "stream",
     "text": [
      "[36,37,38,39,40]\n",
      "[36,37,38,39]\n"
     ]
    },
    {
     "data": {
      "text/plain": [
       "<__main__.node at 0x24fa207ddc0>"
      ]
     },
     "execution_count": 20,
     "metadata": {},
     "output_type": "execute_result"
    }
   ],
   "source": [
    "c=CircularList()\n",
    "c.insert(1,36)#1 based indexing as per program\n",
    "c.insert(2,37)\n",
    "c.insert(3,38)\n",
    "c.insert(4,39)\n",
    "c.insert(5,40)\n",
    "print(c)\n",
    "c.pop()\n",
    "print(c)\n",
    "c.get_last()\n",
    "\n"
   ]
  },
  {
   "cell_type": "code",
   "execution_count": null,
   "id": "7f4b3cb8",
   "metadata": {},
   "outputs": [],
   "source": [
    "\n"
   ]
  },
  {
   "cell_type": "code",
   "execution_count": null,
   "id": "e532ad36",
   "metadata": {},
   "outputs": [],
   "source": []
  },
  {
   "cell_type": "code",
   "execution_count": null,
   "id": "3b480ddd",
   "metadata": {},
   "outputs": [],
   "source": []
  }
 ],
 "metadata": {
  "kernelspec": {
   "display_name": "Python 3 (ipykernel)",
   "language": "python",
   "name": "python3"
  },
  "language_info": {
   "codemirror_mode": {
    "name": "ipython",
    "version": 3
   },
   "file_extension": ".py",
   "mimetype": "text/x-python",
   "name": "python",
   "nbconvert_exporter": "python",
   "pygments_lexer": "ipython3",
   "version": "3.9.13"
  }
 },
 "nbformat": 4,
 "nbformat_minor": 5
}

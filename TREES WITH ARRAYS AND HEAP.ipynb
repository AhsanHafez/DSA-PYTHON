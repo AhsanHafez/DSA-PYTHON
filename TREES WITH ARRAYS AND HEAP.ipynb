{
 "cells": [
  {
   "cell_type": "markdown",
   "id": "823e805e",
   "metadata": {},
   "source": [
    "# HEAP DATA STRUCTURE AND HEAP SORT"
   ]
  },
  {
   "cell_type": "markdown",
   "id": "e7098244",
   "metadata": {},
   "source": [
    "## HEAP DATA STRUCTURE -MAX HEAP / MIN HEAP"
   ]
  },
  {
   "cell_type": "code",
   "execution_count": 9,
   "id": "6682cc07",
   "metadata": {},
   "outputs": [
    {
     "data": {
      "text/plain": [
       "'IN MAX HEAP THE ROOT IS GREATER THAN BOTH CHILD \\n    IN MIN HEAP THE ROOT IS SMALLER THAN BOTH CHILD'"
      ]
     },
     "execution_count": 9,
     "metadata": {},
     "output_type": "execute_result"
    }
   ],
   "source": [
    "\"\"\"IN MAX HEAP THE ROOT IS GREATER THAN BOTH CHILD \n",
    "    IN MIN HEAP THE ROOT IS SMALLER THAN BOTH CHILD\"\"\""
   ]
  },
  {
   "cell_type": "code",
   "execution_count": 10,
   "id": "d0cddbad",
   "metadata": {},
   "outputs": [],
   "source": [
    "def  heapify(lst,n,root):\n",
    "    \"\"\"heapfy root element of list which has n elements in total \"\"\"\n",
    "    largest=root\n",
    "    left=2*root+1\n",
    "    right=2*root+2\n",
    "    if left<n and lst[left]>lst[largest]:\n",
    "        largest=left;\n",
    "    if right<n and lst[right]>lst[largest]:                     \n",
    "        largest=right\n",
    "    if largest!=root:\n",
    "        lst[root],lst[largest]=lst[largest],lst[root]\n",
    "        heapify(lst,n,largest)#recusion to heapify changed value bcz largest is index that is replaced"
   ]
  },
  {
   "cell_type": "code",
   "execution_count": 11,
   "id": "a47f558f",
   "metadata": {},
   "outputs": [],
   "source": [
    "def build_heap(lst):\n",
    "    n=len(lst)\n",
    "    for i in reversed(range(n//2)):#starting from mid bcz last half is leave\n",
    "        heapify(lst,n,i)"
   ]
  },
  {
   "cell_type": "code",
   "execution_count": 12,
   "id": "a39bb5ae",
   "metadata": {},
   "outputs": [],
   "source": [
    "heap=[100,5,3,2,8,15,6,102]"
   ]
  },
  {
   "cell_type": "code",
   "execution_count": 13,
   "id": "6421ce51",
   "metadata": {
    "scrolled": true
   },
   "outputs": [
    {
     "name": "stdout",
     "output_type": "stream",
     "text": [
      "[9, 8, 6, 7, 4, 5, 2, 0, 3, 1]\n"
     ]
    }
   ],
   "source": [
    "#print(heap)\n",
    "#build_heap(heap)\n",
    "#print(heap)\n",
    "x=list(range(10))\n",
    "build_heap(x)\n",
    "print(x)\n",
    "\n"
   ]
  },
  {
   "cell_type": "markdown",
   "id": "d03b0299",
   "metadata": {},
   "source": [
    "## Heap Sort"
   ]
  },
  {
   "cell_type": "code",
   "execution_count": 21,
   "id": "1e954b23",
   "metadata": {},
   "outputs": [],
   "source": [
    "def heap_sorting(lst):\n",
    "    \"\"\"Perform Heap Sort by building Max Heap from list and repeatedly retrieving\"\"\"\n",
    "    n=len(lst)\n",
    "    \n",
    "    build_heap(heap)\n",
    "    \n",
    "    for i in reversed(range(n)):\n",
    "        lst[i],lst[0]=lst[0],lst[i] #sending maximum to i(last of unsorted list)\n",
    "        \n",
    "        heapify(lst,i,0)#heapifying so we get maximum of unsorted list at 0 index"
   ]
  },
  {
   "cell_type": "code",
   "execution_count": 22,
   "id": "6ac91652",
   "metadata": {},
   "outputs": [
    {
     "name": "stdout",
     "output_type": "stream",
     "text": [
      "[100, 5, 3, 2, 8, 15, 6, 102]\n",
      "[102, 100, 15, 5, 8, 3, 6, 2]\n",
      "[2, 3, 5, 6, 8, 15, 100, 102]\n"
     ]
    }
   ],
   "source": [
    "heap=[100,5,3,2,8,15,6,102]\n",
    "print(heap)\n",
    "heap_sorting(heap)\n",
    "print(heap)"
   ]
  },
  {
   "cell_type": "code",
   "execution_count": null,
   "id": "aa7cd684",
   "metadata": {},
   "outputs": [],
   "source": []
  },
  {
   "cell_type": "code",
   "execution_count": 19,
   "id": "9e5ad0dd",
   "metadata": {},
   "outputs": [
    {
     "name": "stdout",
     "output_type": "stream",
     "text": [
      "[1, 2, 3, 4, 5, 6, 7, 8, 9, 10, 11, 12, 13, 14, 15, 16, 17, 18, 19, 0]\n"
     ]
    }
   ],
   "source": []
  },
  {
   "cell_type": "code",
   "execution_count": null,
   "id": "2b6adefb",
   "metadata": {},
   "outputs": [],
   "source": []
  }
 ],
 "metadata": {
  "kernelspec": {
   "display_name": "Python 3 (ipykernel)",
   "language": "python",
   "name": "python3"
  },
  "language_info": {
   "codemirror_mode": {
    "name": "ipython",
    "version": 3
   },
   "file_extension": ".py",
   "mimetype": "text/x-python",
   "name": "python",
   "nbconvert_exporter": "python",
   "pygments_lexer": "ipython3",
   "version": "3.9.13"
  }
 },
 "nbformat": 4,
 "nbformat_minor": 5
}

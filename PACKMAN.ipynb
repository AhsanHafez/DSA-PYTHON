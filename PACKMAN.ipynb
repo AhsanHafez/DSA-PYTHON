{
 "cells": [
  {
   "cell_type": "code",
   "execution_count": 1,
   "id": "26056b5e",
   "metadata": {},
   "outputs": [],
   "source": [
    "def packman():\n",
    "    \n",
    "    state=[[0,0],[3,4],[1,1],[2,2]]\n",
    "    m=0\n",
    "    food=1\n",
    "    ghost1=2\n",
    "    pallot=3\n",
    "    score=0\n",
    "    palt=False\n",
    "    while True:\n",
    "        s=input(\"WHERE TO MOVE \\n\")\n",
    "        if s=='forward':\n",
    "            state[m][0]+=1\n",
    "        elif s=='backward':\n",
    "            state[m][0]-=1\n",
    "        elif s=='right':\n",
    "            state[m][1]+=1\n",
    "        elif s=='left':\n",
    "            state[m][1]-=1\n",
    "        elif s=='none':\n",
    "            score-=5\n",
    "        print(state[m])\n",
    "        if state[m]==state[ghost1] and palt==False:\n",
    "            print('YOU LOST')\n",
    "            print('Your Score : ',score)\n",
    "            break\n",
    "        elif state[m]==state[food]:\n",
    "            score+=10\n",
    "        elif state[m]==state[ghost1] and palt==True:\n",
    "            print(\"YOU Won\")\n",
    "            print('Your Score',score)\n",
    "            break\n",
    "        elif state[m]==state[pallot]:\n",
    "            score+=100\n",
    "            palt=True"
   ]
  },
  {
   "cell_type": "code",
   "execution_count": 2,
   "id": "c0ab4b1e",
   "metadata": {},
   "outputs": [
    {
     "name": "stdout",
     "output_type": "stream",
     "text": [
      "WHERE TO MOVE \n",
      "right\n",
      "[0, 1]\n",
      "WHERE TO MOVE \n",
      "right\n",
      "[0, 2]\n",
      "WHERE TO MOVE \n",
      "upward\n",
      "[0, 2]\n",
      "WHERE TO MOVE \n",
      "forward\n",
      "[1, 2]\n",
      "WHERE TO MOVE \n",
      "forward\n",
      "[2, 2]\n",
      "WHERE TO MOVE \n",
      "backward\n",
      "[1, 2]\n",
      "WHERE TO MOVE \n",
      "left\n",
      "[1, 1]\n",
      "YOU Won\n",
      "Your Score 100\n"
     ]
    }
   ],
   "source": [
    "packman()"
   ]
  },
  {
   "cell_type": "code",
   "execution_count": null,
   "id": "d700c04e",
   "metadata": {},
   "outputs": [],
   "source": []
  },
  {
   "cell_type": "code",
   "execution_count": null,
   "id": "e6da9f9e",
   "metadata": {},
   "outputs": [],
   "source": []
  },
  {
   "cell_type": "code",
   "execution_count": null,
   "id": "f9b5cdb5",
   "metadata": {},
   "outputs": [],
   "source": []
  },
  {
   "cell_type": "code",
   "execution_count": null,
   "id": "4991e342",
   "metadata": {},
   "outputs": [],
   "source": []
  },
  {
   "cell_type": "code",
   "execution_count": null,
   "id": "f6b635cd",
   "metadata": {},
   "outputs": [],
   "source": []
  }
 ],
 "metadata": {
  "kernelspec": {
   "display_name": "Python 3 (ipykernel)",
   "language": "python",
   "name": "python3"
  },
  "language_info": {
   "codemirror_mode": {
    "name": "ipython",
    "version": 3
   },
   "file_extension": ".py",
   "mimetype": "text/x-python",
   "name": "python",
   "nbconvert_exporter": "python",
   "pygments_lexer": "ipython3",
   "version": "3.9.13"
  }
 },
 "nbformat": 4,
 "nbformat_minor": 5
}

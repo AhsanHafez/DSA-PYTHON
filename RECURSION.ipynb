{
 "cells": [
  {
   "cell_type": "markdown",
   "id": "abcefbeb",
   "metadata": {},
   "source": [
    "# RECURSION"
   ]
  },
  {
   "cell_type": "code",
   "execution_count": 15,
   "id": "3fc2c9c0",
   "metadata": {},
   "outputs": [],
   "source": [
    "def fac(n):\n",
    "    if n<=1:\n",
    "        return 1\n",
    "    else:\n",
    "        return n*fac(n-1) #head recusrsion\n",
    "        "
   ]
  },
  {
   "cell_type": "code",
   "execution_count": 16,
   "id": "54feb4b7",
   "metadata": {},
   "outputs": [],
   "source": [
    "def fib(n):\n",
    "    if n<0:\n",
    "        raise Exception(\"CANNOT FIND FACTORIAL OF NEGATIVE NUMBERS\")\n",
    "    if n<=1:#base case\n",
    "        return 1\n",
    "    else:#induction case\n",
    "        return fib(n-1)+fib(n-2 )"
   ]
  },
  {
   "cell_type": "code",
   "execution_count": 17,
   "id": "0e6b6a0f",
   "metadata": {},
   "outputs": [],
   "source": [
    "def fib(n):\n",
    "    a=1\n",
    "    b=1\n",
    "    for i in range(n):\n",
    "        a,b=b,a+b\n",
    "    return a"
   ]
  },
  {
   "cell_type": "code",
   "execution_count": 18,
   "id": "9bef1629",
   "metadata": {},
   "outputs": [
    {
     "data": {
      "text/plain": [
       "2"
      ]
     },
     "execution_count": 18,
     "metadata": {},
     "output_type": "execute_result"
    }
   ],
   "source": [
    "fib(2)"
   ]
  },
  {
   "cell_type": "code",
   "execution_count": 19,
   "id": "8c6eda26",
   "metadata": {},
   "outputs": [],
   "source": [
    "def fib(n,a=0,b=1):\n",
    "    if n==0: \n",
    "        return a\n",
    "    return fib(n-1,b,a+b)  #tail recursion"
   ]
  },
  {
   "cell_type": "code",
   "execution_count": 28,
   "id": "80875bbc",
   "metadata": {},
   "outputs": [],
   "source": [
    "def move_disk(n,from1,to,aux):\n",
    "    if n==0:\n",
    "        print(\"CANNOT MOVE THERE IS NO DISK\")\n",
    "    if n==1:\n",
    "        print_move(1,from1,to)\n",
    "        return\n",
    "    \n",
    "    move_disk(n-1,from1,aux,to)\n",
    "    print_move(n,from1,to)\n",
    "    move_disk(n-1,aux,to,from1)\n",
    "        \n",
    "    \n",
    "def print_move(n,from1,to):\n",
    "    print(\"moving disk \",n,\" to \",to) "
   ]
  },
  {
   "cell_type": "code",
   "execution_count": 29,
   "id": "0927a7e4",
   "metadata": {},
   "outputs": [
    {
     "name": "stdout",
     "output_type": "stream",
     "text": [
      "moving disk  1  to  C\n",
      "moving disk  2  to  B\n",
      "moving disk  1  to  B\n",
      "moving disk  3  to  C\n",
      "moving disk  1  to  A\n",
      "moving disk  2  to  C\n",
      "moving disk  1  to  C\n"
     ]
    }
   ],
   "source": [
    "move_disk(3,'A','C','B')"
   ]
  },
  {
   "cell_type": "code",
   "execution_count": 30,
   "id": "bca5e1bc",
   "metadata": {},
   "outputs": [],
   "source": [
    "def sum_list_itrt(lst):\n",
    "    sum1=0\n",
    "    for i in lst:\n",
    "        sum1+=i\n",
    "    return sum1"
   ]
  },
  {
   "cell_type": "code",
   "execution_count": 35,
   "id": "1a144bb3",
   "metadata": {},
   "outputs": [],
   "source": [
    "def sum_list_recursion(lst):\n",
    "    if len(lst)==0: return 0\n",
    "    return lst[0]+ sum_list_recursion(lst[1:])"
   ]
  },
  {
   "cell_type": "code",
   "execution_count": 36,
   "id": "e1124911",
   "metadata": {},
   "outputs": [
    {
     "data": {
      "text/plain": [
       "10"
      ]
     },
     "execution_count": 36,
     "metadata": {},
     "output_type": "execute_result"
    }
   ],
   "source": [
    "l=[1,2,3,4] \n",
    "sum_list_recursion(l)"
   ]
  },
  {
   "cell_type": "code",
   "execution_count": 1,
   "id": "f51fca68",
   "metadata": {},
   "outputs": [],
   "source": [
    "#aspect oriented programming\n",
    "#functional programming"
   ]
  },
  {
   "cell_type": "code",
   "execution_count": null,
   "id": "4cfb03d9",
   "metadata": {},
   "outputs": [],
   "source": []
  }
 ],
 "metadata": {
  "kernelspec": {
   "display_name": "Python 3 (ipykernel)",
   "language": "python",
   "name": "python3"
  },
  "language_info": {
   "codemirror_mode": {
    "name": "ipython",
    "version": 3
   },
   "file_extension": ".py",
   "mimetype": "text/x-python",
   "name": "python",
   "nbconvert_exporter": "python",
   "pygments_lexer": "ipython3",
   "version": "3.9.13"
  }
 },
 "nbformat": 4,
 "nbformat_minor": 5
}

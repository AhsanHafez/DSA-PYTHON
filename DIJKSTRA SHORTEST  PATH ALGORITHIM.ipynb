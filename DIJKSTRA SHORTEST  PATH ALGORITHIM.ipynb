{
 "cells": [
  {
   "cell_type": "code",
   "execution_count": 2,
   "id": "c382de55",
   "metadata": {},
   "outputs": [],
   "source": [
    "class WeightedDiGraph:\n",
    "    def __init__(self):\n",
    "        self.g={}\n",
    "    def add_node(self,node):\n",
    "        if node in self.g:\n",
    "            raise KeyError(\"NODE ALREADY IN GRAPH ....\")\n",
    "        self.g[node]=[]\n",
    "    def add_edge(self,src,destination,weight):\n",
    "        if src not in self.g:\n",
    "            raise KeyError(\"SOURCE NOT IN GRAPH\")\n",
    "        if destination not in self.g:\n",
    "            raise KeyError(\"DESTINATION NOT IN GRAPH\")\n",
    "        if destination in self.g[src]:\n",
    "            return\n",
    "        else:\n",
    "            self.g[src].append((destination,weight))"
   ]
  },
  {
   "cell_type": "code",
   "execution_count": 3,
   "id": "e09a48fc",
   "metadata": {},
   "outputs": [],
   "source": [
    "import networkx as nx\n",
    "import matplotlib.pyplot as plt\n",
    "\n",
    "def visualize_graph(graph):\n",
    "    G = nx.DiGraph()\n",
    "\n",
    "    # Add nodes to the graph\n",
    "    for node in graph.g.keys():\n",
    "        G.add_node(node)\n",
    "\n",
    "    # Add edges to the graph with weights\n",
    "    for source, destinations in graph.g.items():\n",
    "        for destination, weight in destinations:\n",
    "            G.add_edge(source, destination, weight=weight)\n",
    "\n",
    "    # Create a layout for the graph\n",
    "    pos = nx.spring_layout(G)\n",
    "\n",
    "    # Draw the graph\n",
    "    nx.draw(G, pos, with_labels=True, node_color='lightblue', node_size=500, edge_color='gray', arrows=True)\n",
    "\n",
    "    # Add edge labels\n",
    "    labels = nx.get_edge_attributes(G, 'weight')\n",
    "    nx.draw_networkx_edge_labels(G, pos, edge_labels=labels)\n",
    "\n",
    "    # Show the graph\n",
    "    plt.show()\n",
    "WeightedDiGraph.visualize_graph=visualize_graph"
   ]
  },
  {
   "cell_type": "code",
   "execution_count": 4,
   "id": "85c027a4",
   "metadata": {},
   "outputs": [],
   "source": [
    "def dijkstra(self,start):\n",
    "    not_visited=list(self.g.keys())\n",
    "    inf=float('inf')\n",
    "    dists={node:inf for node in not_visited}\n",
    "    dists[start]=0\n",
    "    \n",
    "    while not_visited:\n",
    "        current=min(not_visited,key=lambda node:dists[node])\n",
    "        \n",
    "        \n",
    "        if dists[current]==inf:\n",
    "            break\n",
    "        not_visited.remove(current)\n",
    "        nexts=self.g[current]\n",
    "        un_visited_neighbour=[]\n",
    "        for n in nexts:\n",
    "            if n[0] in not_visited:\n",
    "                label=n[0]\n",
    "                dists_to=n[1]\n",
    "\n",
    "                old_distance=dists[label]\n",
    "                new_distance=dists[current]+dists_to\n",
    "                if new_distance<old_distance:\n",
    "                    dists[label]=new_distance\n",
    "    print(\"ALL DISTANCE\"+str(dists))\n",
    "WeightedDiGraph.dijkstra=dijkstra       "
   ]
  },
  {
   "cell_type": "code",
   "execution_count": 5,
   "id": "9ff7863a",
   "metadata": {},
   "outputs": [],
   "source": [
    "def dijkstra_shortest_path(self,src,dest):\n",
    "    #marks all nodes unvisited and store them\n",
    "    to_visit=list(self.g.keys())\n",
    "    print(\"TO VISIT : \"+str(to_visit))\n",
    "    #set distance to zero for initial node and infinity to rest of nodes\n",
    "    inf=float('inf') #that's python for infinity\n",
    "    dists={node:inf for node in to_visit}\n",
    "    dists[src]=0\n",
    "    print(\"ALL DISTANCES\" + str(dists))\n",
    "    best_paths={}\n",
    "    best_paths[(src,src)]=[src ]  \n",
    "    #lets loop\n",
    "    while to_visit:\n",
    "        print(\"-------------\")\n",
    "        \n",
    "        #select the unvisited node with smallest distance\n",
    "        #can't compare 'a' with 'b'  so,we compare dists['a'] with dists['b']\n",
    "        current=min(to_visit,key=lambda node:dists[node])\n",
    "        print(\"CURRENT : \"+current)\n",
    "        \n",
    "        #current is now visited\n",
    "        to_visit.remove(current) \n",
    "        \n",
    "        #check to make sure min distance isn't infinity\n",
    "        if dists[current]==inf:\n",
    "            break\n",
    "        \n",
    "        #find unvisited neighbour for current node\n",
    "        nexts=self.g[current]\n",
    "        unvisited_neighbors=[]\n",
    "        for n in nexts:\n",
    "            if n[0] in to_visit: #recall that n is e.g('b',5)\n",
    "                unvisited_neighbors.append(n)\n",
    "        print(\"UNVISITED NEIGHBORS OF \" + current + \" : \" + str(unvisited_neighbors))\n",
    "        \n",
    "        #calculated distance through the current node\n",
    "        for n in unvisited_neighbors:\n",
    "            label=n[0]  #node eg \"a\",\"b\" e.t.c\n",
    "            dist_to=n[1] #weight\n",
    "            \n",
    "            old_distance=dists[label]\n",
    "            new_distance=dists[current]+dist_to\n",
    "            \n",
    "            #see which is better new or old one \n",
    "            if new_distance<old_distance:\n",
    "                print(\"\\nFound new best path ......\")\n",
    "                dists[label]=new_distance\n",
    "                #also save the path\n",
    "                #best way to get from src to label is src->current->label\n",
    "                path_to_current=best_paths[(src,current)][:] # creating copy\n",
    "                best_paths[(src,label)]=path_to_current\n",
    "                best_paths[(src,label)].append(label)\n",
    "                print(\"PREVIOUS BEST PATH TO CURRENT : \",best_paths[(src,current)])\n",
    "                print(\"BEST PATH TO : \",best_paths[(src,label)])\n",
    "                \n",
    "                \n",
    "        print(\"ALL DISTANCES \" + str(dists))\n",
    "    return best_paths[(src,dest)],dists[dest]\n",
    "        \n",
    "WeightedDiGraph.dijkstra_shortest_path=dijkstra_shortest_path\n",
    "                        \n"
   ]
  },
  {
   "cell_type": "code",
   "execution_count": 6,
   "id": "18f23d3b",
   "metadata": {},
   "outputs": [],
   "source": [
    "d=WeightedDiGraph()\n",
    "nodes=['a','b','c','d','e']\n",
    "edges=[('a','b',4),('a','c',1),('c','e',25),('b','d',8),('e','d',3)]\n",
    "for i in nodes:\n",
    "    d.add_node(i)\n",
    "for i in edges:\n",
    "    d.add_edge(i[0],i[1],i[2])\n",
    "\n",
    " "
   ]
  },
  {
   "cell_type": "code",
   "execution_count": 7,
   "id": "6e795ef8",
   "metadata": {},
   "outputs": [
    {
     "name": "stdout",
     "output_type": "stream",
     "text": [
      "TO VISIT : ['a', 'b', 'c', 'd', 'e']\n",
      "ALL DISTANCES{'a': 0, 'b': inf, 'c': inf, 'd': inf, 'e': inf}\n",
      "-------------\n",
      "CURRENT : a\n",
      "UNVISITED NEIGHBORS OF a : [('b', 4), ('c', 1)]\n",
      "\n",
      "Found new best path ......\n",
      "PREVIOUS BEST PATH TO CURRENT :  ['a']\n",
      "BEST PATH TO :  ['a', 'b']\n",
      "\n",
      "Found new best path ......\n",
      "PREVIOUS BEST PATH TO CURRENT :  ['a']\n",
      "BEST PATH TO :  ['a', 'c']\n",
      "ALL DISTANCES {'a': 0, 'b': 4, 'c': 1, 'd': inf, 'e': inf}\n",
      "-------------\n",
      "CURRENT : c\n",
      "UNVISITED NEIGHBORS OF c : [('e', 25)]\n",
      "\n",
      "Found new best path ......\n",
      "PREVIOUS BEST PATH TO CURRENT :  ['a', 'c']\n",
      "BEST PATH TO :  ['a', 'c', 'e']\n",
      "ALL DISTANCES {'a': 0, 'b': 4, 'c': 1, 'd': inf, 'e': 26}\n",
      "-------------\n",
      "CURRENT : b\n",
      "UNVISITED NEIGHBORS OF b : [('d', 8)]\n",
      "\n",
      "Found new best path ......\n",
      "PREVIOUS BEST PATH TO CURRENT :  ['a', 'b']\n",
      "BEST PATH TO :  ['a', 'b', 'd']\n",
      "ALL DISTANCES {'a': 0, 'b': 4, 'c': 1, 'd': 12, 'e': 26}\n",
      "-------------\n",
      "CURRENT : d\n",
      "UNVISITED NEIGHBORS OF d : []\n",
      "ALL DISTANCES {'a': 0, 'b': 4, 'c': 1, 'd': 12, 'e': 26}\n",
      "-------------\n",
      "CURRENT : e\n",
      "UNVISITED NEIGHBORS OF e : []\n",
      "ALL DISTANCES {'a': 0, 'b': 4, 'c': 1, 'd': 12, 'e': 26}\n"
     ]
    },
    {
     "data": {
      "text/plain": [
       "(['a', 'c', 'e'], 26)"
      ]
     },
     "execution_count": 7,
     "metadata": {},
     "output_type": "execute_result"
    }
   ],
   "source": [
    "d.dijkstra_shortest_path('a','e')"
   ]
  },
  {
   "cell_type": "code",
   "execution_count": 97,
   "id": "929dc402",
   "metadata": {},
   "outputs": [
    {
     "name": "stdout",
     "output_type": "stream",
     "text": [
      "TO VISIT : ['a', 'b', 'c', 'd', 'e', 'f']\n",
      "ALL DISTANCES{'a': 0, 'b': inf, 'c': inf, 'd': inf, 'e': inf, 'f': inf}\n",
      "-------------\n",
      "CURRENT : a\n",
      "UNVISITED NEIGHBORS OF a : [('b', 4), ('c', 1)]\n",
      "\n",
      "Found new best path ......\n",
      "PREVIOUS BEST PATH TO CURRENT :  ['a']\n",
      "BEST PATH TO :  ['a', 'b']\n",
      "\n",
      "Found new best path ......\n",
      "PREVIOUS BEST PATH TO CURRENT :  ['a']\n",
      "BEST PATH TO :  ['a', 'c']\n",
      "ALL DISTANCES {'a': 0, 'b': 4, 'c': 1, 'd': inf, 'e': inf, 'f': inf}\n",
      "-------------\n",
      "CURRENT : c\n",
      "UNVISITED NEIGHBORS OF c : [('e', 25), ('d', 3)]\n",
      "\n",
      "Found new best path ......\n",
      "PREVIOUS BEST PATH TO CURRENT :  ['a', 'c']\n",
      "BEST PATH TO :  ['a', 'c', 'e']\n",
      "\n",
      "Found new best path ......\n",
      "PREVIOUS BEST PATH TO CURRENT :  ['a', 'c']\n",
      "BEST PATH TO :  ['a', 'c', 'd']\n",
      "ALL DISTANCES {'a': 0, 'b': 4, 'c': 1, 'd': 4, 'e': 26, 'f': inf}\n",
      "-------------\n",
      "CURRENT : b\n",
      "UNVISITED NEIGHBORS OF b : [('d', 8)]\n",
      "ALL DISTANCES {'a': 0, 'b': 4, 'c': 1, 'd': 4, 'e': 26, 'f': inf}\n",
      "-------------\n",
      "CURRENT : d\n",
      "UNVISITED NEIGHBORS OF d : []\n",
      "ALL DISTANCES {'a': 0, 'b': 4, 'c': 1, 'd': 4, 'e': 26, 'f': inf}\n",
      "-------------\n",
      "CURRENT : e\n",
      "UNVISITED NEIGHBORS OF e : [('f', 8)]\n",
      "\n",
      "Found new best path ......\n",
      "PREVIOUS BEST PATH TO CURRENT :  ['a', 'c', 'e']\n",
      "BEST PATH TO :  ['a', 'c', 'e', 'f']\n",
      "ALL DISTANCES {'a': 0, 'b': 4, 'c': 1, 'd': 4, 'e': 26, 'f': 34}\n",
      "-------------\n",
      "CURRENT : f\n",
      "UNVISITED NEIGHBORS OF f : []\n",
      "ALL DISTANCES {'a': 0, 'b': 4, 'c': 1, 'd': 4, 'e': 26, 'f': 34}\n"
     ]
    },
    {
     "data": {
      "text/plain": [
       "(['a', 'c', 'e'], 26)"
      ]
     },
     "execution_count": 97,
     "metadata": {},
     "output_type": "execute_result"
    }
   ],
   "source": [
    "g=WeightedDiGraph()\n",
    "nodes=['a','b','c','d','e','f']\n",
    "edges=[('a','b',4),('a','c',1),('b','c',7),('b','d',8) ,('c','e',25),('c','d',3),('d','c',4),('e','f',8),('f','c',7)   ]\n",
    "for i in nodes:\n",
    "    g.add_node(i)\n",
    "for i in edges:\n",
    "    g.add_edge(i[0],i[1],i[2])\n",
    "g.dijkstra_shortest_path('a','e')"
   ]
  },
  {
   "cell_type": "code",
   "execution_count": 99,
   "id": "b861ad70",
   "metadata": {},
   "outputs": [
    {
     "data": {
      "image/png": "[encoded data removed]",
      "text/plain": [
       "<Figure size 640x480 with 1 Axes>"
      ]
     },
     "metadata": {},
     "output_type": "display_data"
    }
   ],
   "source": [
    "g=WeightedDiGraph()\n",
    "nodes=['a','b','c','d','e','f']\n",
    "edges=[('a','b',4),('a','c',1),('b','c',7),('b','d',8) ,('c','e',25),('c','d',3),('d','c',4),('e','f',8),('f','c',7)   ]\n",
    "for i in nodes:\n",
    "    g.add_node(i)\n",
    "for i in edges:\n",
    "    g.add_edge(i[0],i[1],i[2])\n",
    "g.visualize_graph()"
   ]
  },
  {
   "cell_type": "code",
   "execution_count": 100,
   "id": "153cf8c6",
   "metadata": {},
   "outputs": [
    {
     "name": "stdout",
     "output_type": "stream",
     "text": [
      "TO VISIT : ['a', 'b', 'c', 'd', 'e', 'f']\n",
      "ALL DISTANCES{'a': 0, 'b': inf, 'c': inf, 'd': inf, 'e': inf, 'f': inf}\n",
      "-------------\n",
      "CURRENT : a\n",
      "UNVISITED NEIGHBORS OF a : [('b', 4), ('c', 1)]\n",
      "\n",
      "Found new best path ......\n",
      "PREVIOUS BEST PATH TO CURRENT :  ['a']\n",
      "BEST PATH TO :  ['a', 'b']\n",
      "\n",
      "Found new best path ......\n",
      "PREVIOUS BEST PATH TO CURRENT :  ['a']\n",
      "BEST PATH TO :  ['a', 'c']\n",
      "ALL DISTANCES {'a': 0, 'b': 4, 'c': 1, 'd': inf, 'e': inf, 'f': inf}\n",
      "-------------\n",
      "CURRENT : c\n",
      "UNVISITED NEIGHBORS OF c : [('e', 25), ('d', 3)]\n",
      "\n",
      "Found new best path ......\n",
      "PREVIOUS BEST PATH TO CURRENT :  ['a', 'c']\n",
      "BEST PATH TO :  ['a', 'c', 'e']\n",
      "\n",
      "Found new best path ......\n",
      "PREVIOUS BEST PATH TO CURRENT :  ['a', 'c']\n",
      "BEST PATH TO :  ['a', 'c', 'd']\n",
      "ALL DISTANCES {'a': 0, 'b': 4, 'c': 1, 'd': 4, 'e': 26, 'f': inf}\n",
      "-------------\n",
      "CURRENT : b\n",
      "UNVISITED NEIGHBORS OF b : [('d', 8)]\n",
      "ALL DISTANCES {'a': 0, 'b': 4, 'c': 1, 'd': 4, 'e': 26, 'f': inf}\n",
      "-------------\n",
      "CURRENT : d\n",
      "UNVISITED NEIGHBORS OF d : []\n",
      "ALL DISTANCES {'a': 0, 'b': 4, 'c': 1, 'd': 4, 'e': 26, 'f': inf}\n",
      "-------------\n",
      "CURRENT : e\n",
      "UNVISITED NEIGHBORS OF e : [('f', 8)]\n",
      "\n",
      "Found new best path ......\n",
      "PREVIOUS BEST PATH TO CURRENT :  ['a', 'c', 'e']\n",
      "BEST PATH TO :  ['a', 'c', 'e', 'f']\n",
      "ALL DISTANCES {'a': 0, 'b': 4, 'c': 1, 'd': 4, 'e': 26, 'f': 34}\n",
      "-------------\n",
      "CURRENT : f\n",
      "UNVISITED NEIGHBORS OF f : []\n",
      "ALL DISTANCES {'a': 0, 'b': 4, 'c': 1, 'd': 4, 'e': 26, 'f': 34}\n"
     ]
    },
    {
     "data": {
      "text/plain": [
       "(['a', 'c', 'e', 'f'], 34)"
      ]
     },
     "execution_count": 100,
     "metadata": {},
     "output_type": "execute_result"
    }
   ],
   "source": [
    "g.dijkstra_shortest_path('a','f')"
   ]
  },
  {
   "cell_type": "code",
   "execution_count": null,
   "id": "7b050f81",
   "metadata": {},
   "outputs": [],
   "source": []
  }
 ],
 "metadata": {
  "kernelspec": {
   "display_name": "Python 3 (ipykernel)",
   "language": "python",
   "name": "python3"
  },
  "language_info": {
   "codemirror_mode": {
    "name": "ipython",
    "version": 3
   },
   "file_extension": ".py",
   "mimetype": "text/x-python",
   "name": "python",
   "nbconvert_exporter": "python",
   "pygments_lexer": "ipython3",
   "version": "3.9.13"
  }
 },
 "nbformat": 4,
 "nbformat_minor": 5
}

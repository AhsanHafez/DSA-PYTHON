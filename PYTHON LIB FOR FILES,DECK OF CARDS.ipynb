{
 "cells": [
  {
   "cell_type": "markdown",
   "id": "d751825c",
   "metadata": {},
   "source": [
    "# OS WALK"
   ]
  },
  {
   "cell_type": "code",
   "execution_count": 79,
   "id": "b0d760af",
   "metadata": {},
   "outputs": [],
   "source": [
    "import os\n",
    "import glob"
   ]
  },
  {
   "cell_type": "code",
   "execution_count": 80,
   "id": "6f46bf59",
   "metadata": {},
   "outputs": [
    {
     "name": "stdout",
     "output_type": "stream",
     "text": [
      "C:\\Users\\ok\\Desktop\\OS-TEST\n"
     ]
    }
   ],
   "source": [
    "print(os.getcwd())"
   ]
  },
  {
   "cell_type": "code",
   "execution_count": 100,
   "id": "8cd66894",
   "metadata": {},
   "outputs": [],
   "source": [
    "os.chdir(r'C:\\Users\\ok\\Desktop\\OS-TEST') #change directory"
   ]
  },
  {
   "cell_type": "code",
   "execution_count": 101,
   "id": "5cce3816",
   "metadata": {},
   "outputs": [
    {
     "name": "stdout",
     "output_type": "stream",
     "text": [
      "C:\\Users\\ok\\Desktop\\OS-TEST\n"
     ]
    }
   ],
   "source": [
    "print(os.getcwd()) #get current working directory"
   ]
  },
  {
   "cell_type": "code",
   "execution_count": 102,
   "id": "5c70812f",
   "metadata": {},
   "outputs": [
    {
     "data": {
      "text/plain": [
       "['Saved Pictures',\n",
       " 'tempfile-PF ASSIGHMENT 2.docx',\n",
       " 'tempfile-PF ASSIGHMENT.docx']"
      ]
     },
     "execution_count": 102,
     "metadata": {},
     "output_type": "execute_result"
    }
   ],
   "source": [
    "os.listdir() #list directeries"
   ]
  },
  {
   "cell_type": "code",
   "execution_count": 103,
   "id": "c42ba8ba",
   "metadata": {},
   "outputs": [
    {
     "data": {
      "text/plain": [
       "['tempfile-PF ASSIGHMENT 2.docx', 'tempfile-PF ASSIGHMENT.docx']"
      ]
     },
     "execution_count": 103,
     "metadata": {},
     "output_type": "execute_result"
    }
   ],
   "source": [
    "glob.glob('*.*')  #files with . in names"
   ]
  },
  {
   "cell_type": "code",
   "execution_count": 36,
   "id": "11f3e128",
   "metadata": {},
   "outputs": [
    {
     "name": "stdout",
     "output_type": "stream",
     "text": [
      "renaming PF ASSIGHMENT 2.docx to tempfile-PF ASSIGHMENT 2.docx\n",
      "renaming PF ASSIGHMENT.docx to tempfile-PF ASSIGHMENT.docx\n"
     ]
    }
   ],
   "source": [
    "for old_name in glob.glob('*.*'):\n",
    "    new_name='tempfile-'+old_name\n",
    "    print('renaming '+old_name + ' to ' +new_name)\n",
    "    os.rename(old_name,new_name)"
   ]
  },
  {
   "cell_type": "code",
   "execution_count": 97,
   "id": "7118a256",
   "metadata": {},
   "outputs": [],
   "source": [
    "file_sizes=[]\n",
    "for f,dir_path,files in os.walk(\"\"):\n",
    "    print(\"runing in {}\".format(os.getcwd()))\n",
    "    for f in files:\n",
    "        file_full_path=os.path.join(dir_path,f)\n",
    "        file_size=os.path.getsize(file_full_path)\n",
    "\n",
    "        file_sizes.append((file_full_path,file_size))\n",
    "    print(\"\")"
   ]
  },
  {
   "cell_type": "code",
   "execution_count": 106,
   "id": "5754051f",
   "metadata": {},
   "outputs": [
    {
     "name": "stdout",
     "output_type": "stream",
     "text": [
      ". ['Saved Pictures'] ['tempfile-PF ASSIGHMENT 2.docx', 'tempfile-PF ASSIGHMENT.docx']\n",
      ".\\Saved Pictures [] ['desktop.ini']\n"
     ]
    }
   ],
   "source": [
    "for a,b,c in os.walk(\".\"):\n",
    "    print(a,b,c)"
   ]
  },
  {
   "cell_type": "code",
   "execution_count": 99,
   "id": "d0f34e92",
   "metadata": {},
   "outputs": [
    {
     "name": "stdout",
     "output_type": "stream",
     "text": [
      "[]\n"
     ]
    }
   ],
   "source": [
    "import pprint\n",
    "pprint.pprint(file_sizes)"
   ]
  },
  {
   "cell_type": "markdown",
   "id": "2e923337",
   "metadata": {},
   "source": [
    "# CARDS AND DECK"
   ]
  },
  {
   "cell_type": "code",
   "execution_count": 109,
   "id": "488b4c70",
   "metadata": {},
   "outputs": [],
   "source": [
    "class Card:\n",
    "    def __init__(self,suit,val):\n",
    "        self.suit=suit\n",
    "        self.val=val\n",
    "    def __str__(self):\n",
    "        return str(self.val) + ' of ' + self.suit\n",
    "class Deck:\n",
    "    def __init__(self):\n",
    "        self.cards=[]\n",
    "        self.build()\n",
    "        \n",
    "    def build(self):\n",
    "        for s in [\"Spades\",\"Hearts\",\"Diamonds\",\"Clubs\"]:\n",
    "            for v in range(1,14):\n",
    "                self.cards.append(Card(s , v))\n",
    "    def __str__(self):\n",
    "        ret=\"\"\n",
    "        for c in self.cards:\n",
    "            ret+=str(c)+\"\\n\"\n",
    "        return ret\n",
    "            "
   ]
  },
  {
   "cell_type": "code",
   "execution_count": 110,
   "id": "19990c74",
   "metadata": {},
   "outputs": [],
   "source": [
    "c1=Card(\"Hearts\",5) "
   ]
  },
  {
   "cell_type": "code",
   "execution_count": 111,
   "id": "9c7e5a00",
   "metadata": {},
   "outputs": [
    {
     "name": "stdout",
     "output_type": "stream",
     "text": [
      "5 of Hearts\n"
     ]
    }
   ],
   "source": [
    "print(c1)"
   ]
  },
  {
   "cell_type": "code",
   "execution_count": 126,
   "id": "126c7731",
   "metadata": {},
   "outputs": [],
   "source": [
    "d=Deck()"
   ]
  },
  {
   "cell_type": "code",
   "execution_count": 127,
   "id": "369d3dd4",
   "metadata": {},
   "outputs": [
    {
     "name": "stdout",
     "output_type": "stream",
     "text": [
      "1 of Spades\n",
      "2 of Spades\n",
      "3 of Spades\n",
      "4 of Spades\n",
      "5 of Spades\n",
      "6 of Spades\n",
      "7 of Spades\n",
      "8 of Spades\n",
      "9 of Spades\n",
      "10 of Spades\n",
      "11 of Spades\n",
      "12 of Spades\n",
      "13 of Spades\n",
      "1 of Hearts\n",
      "2 of Hearts\n",
      "3 of Hearts\n",
      "4 of Hearts\n",
      "5 of Hearts\n",
      "6 of Hearts\n",
      "7 of Hearts\n",
      "8 of Hearts\n",
      "9 of Hearts\n",
      "10 of Hearts\n",
      "11 of Hearts\n",
      "12 of Hearts\n",
      "13 of Hearts\n",
      "1 of Diamonds\n",
      "2 of Diamonds\n",
      "3 of Diamonds\n",
      "4 of Diamonds\n",
      "5 of Diamonds\n",
      "6 of Diamonds\n",
      "7 of Diamonds\n",
      "8 of Diamonds\n",
      "9 of Diamonds\n",
      "10 of Diamonds\n",
      "11 of Diamonds\n",
      "12 of Diamonds\n",
      "13 of Diamonds\n",
      "1 of Clubs\n",
      "2 of Clubs\n",
      "3 of Clubs\n",
      "4 of Clubs\n",
      "5 of Clubs\n",
      "6 of Clubs\n",
      "7 of Clubs\n",
      "8 of Clubs\n",
      "9 of Clubs\n",
      "10 of Clubs\n",
      "11 of Clubs\n",
      "12 of Clubs\n",
      "13 of Clubs\n",
      "\n"
     ]
    }
   ],
   "source": [
    "print(d)"
   ]
  },
  {
   "cell_type": "code",
   "execution_count": 128,
   "id": "8087d363",
   "metadata": {},
   "outputs": [],
   "source": [
    "import random as r"
   ]
  },
  {
   "cell_type": "code",
   "execution_count": 129,
   "id": "3e76cd0d",
   "metadata": {},
   "outputs": [],
   "source": [
    "def shuffle(self):\n",
    "    for i in range(0,len(self.cards)):\n",
    "        ro=r.randint(0,i)\n",
    "        self.cards[i],self.cards[ro]=self.cards[ro],self.cards[i]\n",
    "Deck.shuffle=shuffle"
   ]
  },
  {
   "cell_type": "code",
   "execution_count": 130,
   "id": "c5496737",
   "metadata": {},
   "outputs": [],
   "source": [
    "def draw(self):\n",
    "    ro=r.randint(0,len(self.cards))\n",
    "    c=self.cards.pop(ro)\n",
    "    return c\n",
    "Deck.draw=draw"
   ]
  },
  {
   "cell_type": "code",
   "execution_count": 131,
   "id": "d16b6e3c",
   "metadata": {},
   "outputs": [
    {
     "name": "stdout",
     "output_type": "stream",
     "text": [
      "2 of Diamonds\n",
      "12 of Hearts\n",
      "11 of Spades\n",
      "10 of Diamonds\n",
      "13 of Spades\n",
      "6 of Clubs\n",
      "7 of Spades\n",
      "3 of Spades\n",
      "9 of Spades\n",
      "10 of Clubs\n",
      "9 of Hearts\n",
      "5 of Spades\n",
      "8 of Hearts\n",
      "11 of Hearts\n",
      "11 of Diamonds\n",
      "1 of Spades\n",
      "9 of Clubs\n",
      "2 of Spades\n",
      "6 of Spades\n",
      "5 of Diamonds\n",
      "13 of Diamonds\n",
      "5 of Clubs\n",
      "10 of Hearts\n",
      "7 of Hearts\n",
      "4 of Spades\n",
      "13 of Clubs\n",
      "6 of Hearts\n",
      "7 of Clubs\n",
      "4 of Clubs\n",
      "9 of Diamonds\n",
      "3 of Hearts\n",
      "2 of Clubs\n",
      "13 of Hearts\n",
      "7 of Diamonds\n",
      "1 of Diamonds\n",
      "10 of Spades\n",
      "1 of Clubs\n",
      "5 of Hearts\n",
      "1 of Hearts\n",
      "3 of Diamonds\n",
      "4 of Hearts\n",
      "8 of Clubs\n",
      "12 of Spades\n",
      "12 of Clubs\n",
      "8 of Spades\n",
      "2 of Hearts\n",
      "6 of Diamonds\n",
      "11 of Clubs\n",
      "8 of Diamonds\n",
      "4 of Diamonds\n",
      "12 of Diamonds\n",
      "3 of Clubs\n",
      "\n"
     ]
    }
   ],
   "source": [
    "d.shuffle()\n",
    "print(d)"
   ]
  },
  {
   "cell_type": "code",
   "execution_count": 133,
   "id": "2158bcb2",
   "metadata": {},
   "outputs": [
    {
     "name": "stdout",
     "output_type": "stream",
     "text": [
      "13 of Clubs\n"
     ]
    }
   ],
   "source": [
    "print(d.draw())"
   ]
  },
  {
   "cell_type": "code",
   "execution_count": null,
   "id": "f59aa113",
   "metadata": {},
   "outputs": [],
   "source": []
  }
 ],
 "metadata": {
  "kernelspec": {
   "display_name": "Python 3 (ipykernel)",
   "language": "python",
   "name": "python3"
  },
  "language_info": {
   "codemirror_mode": {
    "name": "ipython",
    "version": 3
   },
   "file_extension": ".py",
   "mimetype": "text/x-python",
   "name": "python",
   "nbconvert_exporter": "python",
   "pygments_lexer": "ipython3",
   "version": "3.9.13"
  }
 },
 "nbformat": 4,
 "nbformat_minor": 5
}

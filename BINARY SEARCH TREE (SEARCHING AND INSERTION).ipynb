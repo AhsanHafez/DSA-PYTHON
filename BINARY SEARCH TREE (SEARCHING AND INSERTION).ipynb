{
 "cells": [
  {
   "cell_type": "markdown",
   "id": "282ab48e",
   "metadata": {},
   "source": [
    "# BINARY SEARCH TREE"
   ]
  },
  {
   "cell_type": "code",
   "execution_count": 1,
   "id": "c77a8b4d",
   "metadata": {},
   "outputs": [
    {
     "data": {
      "text/plain": [
       "'THE ELEMENT WHICH HAS NO ELEMENT NEXT TO IT IS CALLED LEAF(LAST ELEMENT)'"
      ]
     },
     "execution_count": 1,
     "metadata": {},
     "output_type": "execute_result"
    }
   ],
   "source": [
    "class TreeNode:\n",
    "    def __init__(self,data=0):\n",
    "        self.val=data\n",
    "        self.left=None #BRACNCHES  LEVELS\n",
    "        self.right=None\n",
    "#head is root\n",
    "\"\"\"IN BINARY TREE EACH ELEMENT CAN HAVE MAXIMUM TWO BARCNHES OR NODES\"\"\"\n",
    "\"\"\"THE ELEMENT WHICH HAS NO ELEMENT NEXT TO IT IS CALLED LEAF(LAST ELEMENT)\"\"\""
   ]
  },
  {
   "cell_type": "code",
   "execution_count": 2,
   "id": "1eb7b0b3",
   "metadata": {},
   "outputs": [],
   "source": [
    "class BST(TreeNode): #BINARY SEARCH TREE\n",
    "    def __init__(self,val,parent=None):\n",
    "        super().__init__(val)\n",
    "        self.parent=parent\n",
    "    def insert(self,value):\n",
    "        new_node=BST(value,parent=self)\n",
    "        if self is None:\n",
    "            self=new_node\n",
    "            return\n",
    "        if value>self.val:\n",
    "            if self.right is None:\n",
    "                self.right=new_node\n",
    "                return\n",
    "            else:\n",
    "                self.right.insert(value)\n",
    "                return\n",
    "\n",
    "        if value<self.val:\n",
    "            if self.left is None:\n",
    "                self.left=new_node\n",
    "            else:\n",
    "                self.left.insert(value)\n"
   ]
  },
  {
   "cell_type": "markdown",
   "id": "30f16b7b",
   "metadata": {},
   "source": [
    "# TREE VISUALIZATION"
   ]
  },
  {
   "cell_type": "code",
   "execution_count": 33,
   "id": "159e355d",
   "metadata": {},
   "outputs": [],
   "source": [
    "from graphviz import Digraph\n",
    "def visualize_tree(tree):\n",
    "    if tree is None:\n",
    "        return \"NOTHING IN TREE\"\n",
    "    def add_nodes_edges(tree,dot=None):\n",
    "        if dot is None:\n",
    "            dot=Digraph()\n",
    "            dot.attr('node' ,shape='circle')\n",
    "            dot.node(name=str(tree),label=str(tree.val))\n",
    "        for child in [tree.left,tree.right]:\n",
    "            if child is not None:\n",
    "                if child==tree.left: dot.attr('node',shape='circle',style='filled',fillcolors='lightblue')\n",
    "                if child==tree.right:dot.attr('node',shape='doublecircle',style='filled',fillcolors='red')\n",
    "                dot.node(name=str(child),label=str(child.val))\n",
    "                dot.edge(str(tree),str(child))\n",
    "                dot=add_nodes_edges(child,dot=dot)\n",
    "            \n",
    "        return dot\n",
    "    dot=add_nodes_edges(tree)\n",
    "    \n",
    "    display(dot)\n",
    "            \n",
    "                \n",
    "TreeNode.visualize_tree=visualize_tree              "
   ]
  },
  {
   "cell_type": "code",
   "execution_count": 34,
   "id": "43e620e3",
   "metadata": {},
   "outputs": [
    {
     "name": "stdout",
     "output_type": "stream",
     "text": [
      "5\n"
     ]
    }
   ],
   "source": [
    "b=BST(5)\n",
    "print(b.val)\n",
    "b.insert(1)\n",
    "b.insert(20)\n",
    "b.insert(10)\n",
    "b.insert(50)\n",
    "b.insert(30)\n",
    "b.insert(40)\n",
    "b.insert(60)\n",
    "\n"
   ]
  },
  {
   "cell_type": "code",
   "execution_count": 35,
   "id": "40bf5f96",
   "metadata": {},
   "outputs": [],
   "source": [
    "def search(self,value):\n",
    "    if self.val==value:\n",
    "        return True\n",
    "    if value>self.val:\n",
    "        return self.right.search(value)\n",
    "    if value<self.val:\n",
    "        return self.left.search(value)\n",
    "BST.search=search"
   ]
  },
  {
   "cell_type": "code",
   "execution_count": 36,
   "id": "f5b98f3a",
   "metadata": {},
   "outputs": [
    {
     "name": "stdout",
     "output_type": "stream",
     "text": [
      "True\n"
     ]
    }
   ],
   "source": [
    "print(b.search(60))"
   ]
  },
  {
   "cell_type": "code",
   "execution_count": 37,
   "id": "d29baa28",
   "metadata": {},
   "outputs": [],
   "source": [
    "def in_order_traversal(self):\n",
    "    if self.left:\n",
    "        in_order_traversal(self.left)\n",
    "    print(self.val)\n",
    "    if self.right:\n",
    "        in_order_traversal(self.right)\n",
    "BST.in_order_traversal=in_order_traversal"
   ]
  },
  {
   "cell_type": "code",
   "execution_count": 38,
   "id": "349a0908",
   "metadata": {},
   "outputs": [],
   "source": [
    "def count(self,i=0):\n",
    "    if self.right and self.left:\n",
    "        return 1 + self.right.count() + self.left.count()\n",
    "    elif self.right:\n",
    "        return 1+self.right.count()\n",
    "    elif self.left:\n",
    "        return 1+self.left.count()\n",
    "    else:\n",
    "        return 1\n",
    "            \n",
    "BST.count=count"
   ]
  },
  {
   "cell_type": "code",
   "execution_count": 39,
   "id": "40c45917",
   "metadata": {},
   "outputs": [
    {
     "name": "stdout",
     "output_type": "stream",
     "text": [
      "1\n",
      "5\n",
      "10\n",
      "20\n",
      "30\n",
      "40\n",
      "50\n",
      "60\n"
     ]
    }
   ],
   "source": [
    "b.in_order_traversal() #when you apply in order traversal to binary tree you got sorted values"
   ]
  },
  {
   "cell_type": "code",
   "execution_count": 40,
   "id": "f9730a7f",
   "metadata": {},
   "outputs": [
    {
     "name": "stdout",
     "output_type": "stream",
     "text": [
      "8\n"
     ]
    }
   ],
   "source": [
    "print(b.count())"
   ]
  },
  {
   "cell_type": "code",
   "execution_count": 41,
   "id": "5af8d9e9",
   "metadata": {},
   "outputs": [],
   "source": [
    "def hght(self):\n",
    "    s=0\n",
    "    s1=0\n",
    "    if self.left is None and self.right is None:\n",
    "        return 1\n",
    "    if self.left:\n",
    "        s = 1 + self.left.hght()\n",
    "    if self.right:\n",
    "        s1=1+self.right.hght()\n",
    "    return max(s,s1)\n",
    "BST.hght=hght"
   ]
  },
  {
   "cell_type": "code",
   "execution_count": 44,
   "id": "800d5a4d",
   "metadata": {},
   "outputs": [],
   "source": [
    "def make_sure_bst(self):\n",
    "    if self.right is None and self.left is None:\n",
    "        return True\n",
    "    if self.left and self.right:\n",
    "        if self.right.val>self.val and self.left.val<self.val:\n",
    "            return self.left.make_sure_bst() and self.right.make_sure_bst()\n",
    "        else:\n",
    "            return False\n",
    "    if self.left:\n",
    "        if self.left.val<self.val:\n",
    "            return self.left.make_sure_bst()\n",
    "        else:\n",
    "            return False\n",
    "    if self.right:\n",
    "        if self.right.val>self.val:\n",
    "            return self.right.make_sure_bst()\n",
    "        else:\n",
    "            return False\n",
    "BST.make_sure_bst=make_sure_bst\n",
    "            "
   ]
  },
  {
   "cell_type": "code",
   "execution_count": 45,
   "id": "8f9cc214",
   "metadata": {},
   "outputs": [
    {
     "data": {
      "text/plain": [
       "True"
      ]
     },
     "execution_count": 45,
     "metadata": {},
     "output_type": "execute_result"
    }
   ],
   "source": [
    "b.make_sure_bst()"
   ]
  },
  {
   "cell_type": "code",
   "execution_count": null,
   "id": "1b67ea5d",
   "metadata": {},
   "outputs": [],
   "source": []
  }
 ],
 "metadata": {
  "kernelspec": {
   "display_name": "Python 3 (ipykernel)",
   "language": "python",
   "name": "python3"
  },
  "language_info": {
   "codemirror_mode": {
    "name": "ipython",
    "version": 3
   },
   "file_extension": ".py",
   "mimetype": "text/x-python",
   "name": "python",
   "nbconvert_exporter": "python",
   "pygments_lexer": "ipython3",
   "version": "3.9.13"
  }
 },
 "nbformat": 4,
 "nbformat_minor": 5
}

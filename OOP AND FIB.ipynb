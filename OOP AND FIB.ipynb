{
 "cells": [
  {
   "cell_type": "code",
   "execution_count": 58,
   "id": "fc5b4830",
   "metadata": {},
   "outputs": [],
   "source": [
    "class point:\n",
    "    def __init__(self,x=0,y=0):#every method must have self argument\n",
    "        self.x=x\n",
    "        self.y=y\n",
    "    def __str__(self): #object to string conversion\n",
    "        return \"[\"+ str(self.x) + \",\" + str(self.y) + \"]\""
   ]
  },
  {
   "cell_type": "code",
   "execution_count": 59,
   "id": "0b058c30",
   "metadata": {},
   "outputs": [
    {
     "name": "stdout",
     "output_type": "stream",
     "text": [
      "2\n",
      "[2,6]\n",
      "2\n",
      "[2,4]\n"
     ]
    }
   ],
   "source": [
    "p1=point(2,6) #reference variable which stores object\n",
    "print(p1.x)\n",
    "print(p1)#pointer\n",
    "\n",
    "p2=point(2,4) #reference variable which stores object\n",
    "print(p2.x)\n",
    "print(p2)#pointer"
   ]
  },
  {
   "cell_type": "code",
   "execution_count": 60,
   "id": "e1995cf8",
   "metadata": {},
   "outputs": [],
   "source": [
    "class Shape:\n",
    "    def __init__(self,points):\n",
    "        self.points=points\n",
    "        print(\"CREATING A SHAPE\")\n",
    "    def __str__(self):\n",
    "        ret=\"\"\n",
    "        for i in self.points:\n",
    "            ret+=str(i)+\" - \"\n",
    "        return ret"
   ]
  },
  {
   "cell_type": "code",
   "execution_count": 61,
   "id": "e2d36644",
   "metadata": {},
   "outputs": [
    {
     "name": "stdout",
     "output_type": "stream",
     "text": [
      "CREATING A SHAPE\n",
      "[5,5] - [10,5] - [5,10] - \n"
     ]
    }
   ],
   "source": [
    "p1=point(5,5)\n",
    "p2=point(10,5)\n",
    "p3=point(5,10)\n",
    "p=[p1,p2,p3]\n",
    "s1=Shape(p)\n",
    "print(s1)"
   ]
  },
  {
   "cell_type": "code",
   "execution_count": 66,
   "id": "7f361694",
   "metadata": {},
   "outputs": [],
   "source": [
    "def print_points(self):\n",
    "    for i in self.points:\n",
    "        print(i)\n",
    "Shape.print_points=print_points     #print ponts function is added to class shape   "
   ]
  },
  {
   "cell_type": "code",
   "execution_count": 63,
   "id": "e7de10c6",
   "metadata": {},
   "outputs": [
    {
     "name": "stdout",
     "output_type": "stream",
     "text": [
      "[5,5]\n",
      "[10,5]\n",
      "[5,10]\n"
     ]
    }
   ],
   "source": [
    "s1.print_points()\n"
   ]
  },
  {
   "cell_type": "code",
   "execution_count": 64,
   "id": "1aa5aa9f",
   "metadata": {},
   "outputs": [],
   "source": [
    "class Triangle(Shape):\n",
    "    pass"
   ]
  },
  {
   "cell_type": "code",
   "execution_count": 65,
   "id": "857de221",
   "metadata": {},
   "outputs": [
    {
     "name": "stdout",
     "output_type": "stream",
     "text": [
      "CREATING A SHAPE\n",
      "[5,5]\n",
      "[10,5]\n",
      "[5,10]\n"
     ]
    }
   ],
   "source": [
    "t=Triangle(p)\n",
    "t.print_points()"
   ]
  },
  {
   "cell_type": "code",
   "execution_count": 95,
   "id": "05ca993a",
   "metadata": {},
   "outputs": [],
   "source": [
    "class Rectangle:\n",
    "    def __init__(self,width=0,height=0):\n",
    "        print(\"CREATING RECTANGLE\")\n",
    "        self.width=width\n",
    "        self.height=height\n",
    "    def get_area(self):\n",
    "        return self.width*self.height\n",
    "    def __str__(self):\n",
    "        return \"L : \" +str(self.width) + \" w :\" + str(self.height)"
   ]
  },
  {
   "cell_type": "code",
   "execution_count": 108,
   "id": "019db444",
   "metadata": {},
   "outputs": [],
   "source": [
    "class Square(Rectangle):\n",
    "    def __init__(self,length):\n",
    "        super().__init__(length,length) #calling parent or super class constructor\n",
    "    def __str__(self):\n",
    "        return \"SQUARE \" + super().__str__()\n",
    "    def get_area(self):\n",
    "        return self.width**2"
   ]
  },
  {
   "cell_type": "code",
   "execution_count": 109,
   "id": "67f00d1b",
   "metadata": {},
   "outputs": [
    {
     "name": "stdout",
     "output_type": "stream",
     "text": [
      "CREATING RECTANGLE\n",
      "CREATING RECTANGLE\n",
      "16\n",
      "L : 12 w :5\n",
      "SQUARE L : 4 w :4\n",
      "60\n"
     ]
    }
   ],
   "source": [
    "r1=Rectangle(12,5)\n",
    "sq=Square(4)\n",
    "print(sq.get_area())\n",
    "print(r1)\n",
    "print(sq)\n",
    "print(r1.get_area())"
   ]
  },
  {
   "cell_type": "code",
   "execution_count": 110,
   "id": "ca80789d",
   "metadata": {},
   "outputs": [
    {
     "name": "stdout",
     "output_type": "stream",
     "text": [
      "The enum member as a string is : Days.Mon\n",
      "he enum member as a repr is : <Days.Sun: 1>\n",
      "The type of enum member is : <enum 'Days'>\n",
      "The name of enum member is : Tue\n"
     ]
    }
   ],
   "source": [
    "import enum\n",
    "# Using enum class create enumerations\n",
    "class Days(enum.Enum):\n",
    "   Sun = 1\n",
    "   Mon = 2\n",
    "   Tue = 3\n",
    "# print the enum member as a string\n",
    "print (\"The enum member as a string is : \",end=\"\")\n",
    "print (Days.Mon)\n",
    "\n",
    "# print the enum member as a repr\n",
    "print (\"he enum member as a repr is : \",end=\"\")\n",
    "print (repr(Days.Sun))\n",
    "\n",
    "# Check type of enum member\n",
    "\n",
    "print (\"The type of enum member is : \",end =\"\")\n",
    "print (type(Days.Mon))\n",
    "\n",
    "# print name of enum member\n",
    "print (\"The name of enum member is : \",end =\"\")\n",
    "print (Days.Tue.name)"
   ]
  },
  {
   "cell_type": "code",
   "execution_count": 12,
   "id": "b6f6106e",
   "metadata": {},
   "outputs": [],
   "source": [
    "def fib1(x):\n",
    "    if(x==0 or x==1 ):\n",
    "        return x\n",
    "    \n",
    "    else:\n",
    "        return fib1(x-2)+fib1(x-1)\n",
    "def fib2(x):\n",
    "    \n",
    "    a=0\n",
    "    b=1\n",
    "    for i in range(x):#1,1,2,3,5,8,13,21,34,55,89,144\n",
    "        a,b=b,a+b\n",
    "    return a"
   ]
  },
  {
   "cell_type": "code",
   "execution_count": 13,
   "id": "1e3f1d7f",
   "metadata": {},
   "outputs": [
    {
     "name": "stdout",
     "output_type": "stream",
     "text": [
      "55\n"
     ]
    },
    {
     "data": {
      "text/plain": [
       "55"
      ]
     },
     "execution_count": 13,
     "metadata": {},
     "output_type": "execute_result"
    }
   ],
   "source": [
    "print(fib1(10))\n",
    "fib2(10)"
   ]
  },
  {
   "cell_type": "code",
   "execution_count": 14,
   "id": "7c605c64",
   "metadata": {},
   "outputs": [],
   "source": [
    "import time\n",
    "def check_speed(fn,limit):\n",
    "    l=[]\n",
    "    for i in range(1,limit+1):\n",
    "        start_time=int(round(time.time()*1000))\n",
    "        fn(i)\n",
    "        end_time=int(round(time.time()*1000))\n",
    "        actual_time=end_time - start_time\n",
    "        l.append(actual_time)\n",
    "    return l\n",
    "    "
   ]
  },
  {
   "cell_type": "code",
   "execution_count": null,
   "id": "63cb9d35",
   "metadata": {},
   "outputs": [],
   "source": [
    "fib3_ls=check_speed(fib3,35)\n",
    "fib2_ls=check_speed(fib2,35)"
   ]
  },
  {
   "cell_type": "code",
   "execution_count": 18,
   "id": "ada79a2d",
   "metadata": {},
   "outputs": [
    {
     "ename": "NameError",
     "evalue": "name 'fib1_ls' is not defined",
     "output_type": "error",
     "traceback": [
      "\u001b[1;31m---------------------------------------------------------------------------\u001b[0m",
      "\u001b[1;31mNameError\u001b[0m                                 Traceback (most recent call last)",
      "\u001b[1;32m~\\AppData\\Local\\Temp\\ipykernel_6300\\99886710.py\u001b[0m in \u001b[0;36m<module>\u001b[1;34m\u001b[0m\n\u001b[1;32m----> 1\u001b[1;33m \u001b[0mprint\u001b[0m\u001b[1;33m(\u001b[0m\u001b[0mfib1_ls\u001b[0m\u001b[1;33m)\u001b[0m\u001b[1;33m\u001b[0m\u001b[1;33m\u001b[0m\u001b[0m\n\u001b[0m\u001b[0;32m      2\u001b[0m \u001b[0mprint\u001b[0m\u001b[1;33m(\u001b[0m\u001b[0mfib2_ls\u001b[0m\u001b[1;33m)\u001b[0m\u001b[1;33m\u001b[0m\u001b[1;33m\u001b[0m\u001b[0m\n",
      "\u001b[1;31mNameError\u001b[0m: name 'fib1_ls' is not defined"
     ]
    }
   ],
   "source": [
    "print(fib1_ls)\n",
    "print(fib2_ls)"
   ]
  },
  {
   "cell_type": "code",
   "execution_count": 19,
   "id": "edeba40a",
   "metadata": {},
   "outputs": [],
   "source": [
    "import matplotlib.pyplot as plt"
   ]
  },
  {
   "cell_type": "code",
   "execution_count": 20,
   "id": "e141feba",
   "metadata": {},
   "outputs": [
    {
     "data": {
      "image/png": "[encoded data removed]",
      "text/plain": [
       "<Figure size 640x480 with 1 Axes>"
      ]
     },
     "metadata": {},
     "output_type": "display_data"
    }
   ],
   "source": [
    "plt.figure()\n",
    "plt.xlabel(\"fib(n)\")\n",
    "plt.ylabel(\"time(millisecond)\")\n",
    "plt.plot(fib3_ls)\n",
    "plt.plot(fib2_ls)\n",
    "plt.show()"
   ]
  },
  {
   "cell_type": "code",
   "execution_count": 16,
   "id": "df369fe1",
   "metadata": {},
   "outputs": [],
   "source": [
    "def fib3(n,a=0,b=1):\n",
    "    if n==0: \n",
    "        return a\n",
    "    return fib3(n-1,b,a+b)"
   ]
  },
  {
   "cell_type": "code",
   "execution_count": null,
   "id": "3bde31b6",
   "metadata": {},
   "outputs": [],
   "source": []
  },
  {
   "cell_type": "code",
   "execution_count": null,
   "id": "c3054985",
   "metadata": {},
   "outputs": [],
   "source": []
  }
 ],
 "metadata": {
  "kernelspec": {
   "display_name": "Python 3 (ipykernel)",
   "language": "python",
   "name": "python3"
  },
  "language_info": {
   "codemirror_mode": {
    "name": "ipython",
    "version": 3
   },
   "file_extension": ".py",
   "mimetype": "text/x-python",
   "name": "python",
   "nbconvert_exporter": "python",
   "pygments_lexer": "ipython3",
   "version": "3.9.13"
  }
 },
 "nbformat": 4,
 "nbformat_minor": 5
}

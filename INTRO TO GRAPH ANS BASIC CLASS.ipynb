{
 "cells": [
  {
   "cell_type": "code",
   "execution_count": 7,
   "id": "ca283d1e",
   "metadata": {},
   "outputs": [],
   "source": [
    "import networkx as nx\n",
    "import matplotlib.pyplot as plt\n",
    "\n",
    "def visualize_graph(graph):\n",
    "    G = nx.DiGraph()\n",
    "\n",
    "    # Add nodes to the graph\n",
    "    for node in graph.graph.keys():\n",
    "        G.add_node(node)\n",
    "\n",
    "    # Add edges to the graph\n",
    "    for source, destinations in graph.graph.items():\n",
    "        for destination in destinations:\n",
    "            G.add_edge(source, destination)\n",
    "\n",
    "    # Create a layout for the graph\n",
    "    pos = nx.spring_layout(G)\n",
    "\n",
    "    # Draw the graph\n",
    "    nx.draw(G, pos, with_labels=True, node_color='lightblue', node_size=500, edge_color='gray', arrows=True)\n",
    "\n",
    "    # Show the graph\n",
    "    plt.show()\n",
    "DiGraph.draw_graph=visualize_graph"
   ]
  },
  {
   "cell_type": "markdown",
   "id": "2e7f95ec",
   "metadata": {},
   "source": [
    "# INTRO TO GRPAHS\n",
    "#### GRAPHS WITH DIRECTION IS CALLED DIRECTED GRAPH ELSE UNDIRECTED GRAPH\n",
    "#### IT IS CONNECTED BY EDGES AND IMPLEMENTED USING 2D ARRAY OR MATRIX WHICH CONSUMES ALOT OF MEMORY\n",
    "#### BCZ MOST OF VALUES ARE ZERO IF NUMBER OF EDGES ARE SMALLER AS COMPARED TO NO OF NODE IT IS SPARSE GRAPH \n",
    "#### ELSE DENSE GRAPH\n",
    "      "
   ]
  },
  {
   "cell_type": "markdown",
   "id": "8f3af5fa",
   "metadata": {},
   "source": [
    "## DEFAULT DICTIONARY"
   ]
  },
  {
   "cell_type": "code",
   "execution_count": 4,
   "id": "2822c0cd",
   "metadata": {},
   "outputs": [
    {
     "name": "stdout",
     "output_type": "stream",
     "text": [
      "1\n",
      "2\n",
      "Not Present\n"
     ]
    }
   ],
   "source": [
    "# Python program to demonstrate\n",
    "# defaultdict\n",
    "\n",
    "\n",
    "from collections import defaultdict\n",
    "\n",
    "\n",
    "# Function to return a default\n",
    "# values for keys that is not\n",
    "# present\n",
    "def def_value():\n",
    "\treturn \"Not Present\"\n",
    "\t\n",
    "# Defining the dict\n",
    "d = defaultdict(def_value)\n",
    "d[\"a\"] = 1\n",
    "d[\"b\"] = 2\n",
    "\n",
    "print(d[\"a\"])\n",
    "print(d[\"b\"])\n",
    "print(d[\"c\"]) # it will also add c to dictionary with value not present\n"
   ]
  },
  {
   "cell_type": "code",
   "execution_count": 5,
   "id": "06874b1c",
   "metadata": {},
   "outputs": [
    {
     "data": {
      "text/plain": [
       "dict_keys(['a', 'b', 'c'])"
      ]
     },
     "execution_count": 5,
     "metadata": {},
     "output_type": "execute_result"
    }
   ],
   "source": [
    "\n",
    "d.keys()"
   ]
  },
  {
   "cell_type": "code",
   "execution_count": 6,
   "id": "48e27817",
   "metadata": {},
   "outputs": [],
   "source": [
    "class DiGraph:\n",
    "    def __init__(self):\n",
    "        self.g={}   #g stands for graph\n",
    "    def add_node(self,node):\n",
    "        self.g[node]=[]\n",
    "    def add_edge(self,source,destination):\n",
    "        if source not in self.g or destination not in self.g:\n",
    "            raise Exception(\"NODE DOES NOT EXIST\")\n",
    "        if destination not in self.g[source]:\n",
    "            self.g[source].append(destination)\n",
    "    def __str__(self):\n",
    "        return str(self.g)"
   ]
  },
  {
   "cell_type": "code",
   "execution_count": 8,
   "id": "1833aa76",
   "metadata": {},
   "outputs": [],
   "source": [
    "d=DiGraph()\n",
    "d.add_node('a')\n",
    "d.add_node('b')\n",
    "d.add_node('c')\n",
    "d.add_edge('a','b')\n",
    "d.add_edge('a','c')\n",
    "d.add_node('d')\n",
    "d.add_edge('b','d')\n",
    "d.add_node('e')\n",
    "d.add_node('f')\n",
    "d.add_edge('c','e')\n",
    "d.add_edge('c','f')\n",
    "d.add_edge('c','f')\n",
    "#search weighted directed graphs "
   ]
  },
  {
   "cell_type": "code",
   "execution_count": 9,
   "id": "aa02de00",
   "metadata": {},
   "outputs": [
    {
     "name": "stdout",
     "output_type": "stream",
     "text": [
      "{'a': ['b', 'c'], 'b': ['d'], 'c': ['e', 'f'], 'd': [], 'e': [], 'f': []}\n"
     ]
    }
   ],
   "source": [
    "print(d)"
   ]
  },
  {
   "cell_type": "code",
   "execution_count": null,
   "id": "c1b02431",
   "metadata": {},
   "outputs": [],
   "source": []
  },
  {
   "cell_type": "code",
   "execution_count": null,
   "id": "0eb949e2",
   "metadata": {},
   "outputs": [],
   "source": []
  }
 ],
 "metadata": {
  "kernelspec": {
   "display_name": "Python 3 (ipykernel)",
   "language": "python",
   "name": "python3"
  },
  "language_info": {
   "codemirror_mode": {
    "name": "ipython",
    "version": 3
   },
   "file_extension": ".py",
   "mimetype": "text/x-python",
   "name": "python",
   "nbconvert_exporter": "python",
   "pygments_lexer": "ipython3",
   "version": "3.9.13"
  }
 },
 "nbformat": 4,
 "nbformat_minor": 5
}

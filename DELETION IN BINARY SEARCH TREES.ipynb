{
 "cells": [
  {
   "cell_type": "code",
   "execution_count": 1,
   "id": "eba49725",
   "metadata": {},
   "outputs": [],
   "source": [
    "class TreeNode:\n",
    "    def __init__(self,data=0):\n",
    "        self.val=data\n",
    "        self.right=None\n",
    "        self.left=None"
   ]
  },
  {
   "cell_type": "code",
   "execution_count": 2,
   "id": "167255c9",
   "metadata": {},
   "outputs": [],
   "source": [
    "class BST(TreeNode):\n",
    "    def __init__(self,data=0,parent=None):\n",
    "        super().__init__(data)\n",
    "        self.parent=parent\n",
    "    def insert(self,value,parent=None):\n",
    "        new_node=BST(value)\n",
    "        parent=self\n",
    "        if value>self.val:\n",
    "            if self.right is None:\n",
    "                self.right=new_node\n",
    "                self.right.parent=parent\n",
    "            else:\n",
    "                self.right.insert(value,parent)\n",
    "        if value<self.val:\n",
    "            if self.left is None:\n",
    "                self.left=new_node\n",
    "                self.left.parent=parent\n",
    "            else:\n",
    "                self.left.insert(value,parent)"
   ]
  },
  {
   "cell_type": "code",
   "execution_count": 3,
   "id": "890ba34a",
   "metadata": {},
   "outputs": [],
   "source": [
    "def search(self,value):\n",
    "    if self.val==value:\n",
    "        return self\n",
    "    if value>self.val:\n",
    "        if self.right:\n",
    "            return self.right.search(value)\n",
    "    if value<self.val:\n",
    "        if self.left:\n",
    "            return self.left.search(value)\n",
    "BST.search=search\n",
    "    "
   ]
  },
  {
   "cell_type": "markdown",
   "id": "ee1e0910",
   "metadata": {},
   "source": [
    "# TREE VISUALIZATION"
   ]
  },
  {
   "cell_type": "code",
   "execution_count": 4,
   "id": "92c61601",
   "metadata": {},
   "outputs": [],
   "source": [
    "\n",
    "from graphviz import Digraph\n",
    "def visualize_tree(tree):\n",
    "    if tree is None:\n",
    "        return \"NOTHING IN TREE\"\n",
    "    def add_nodes_edges(tree,dot=None):\n",
    "        if dot is None:\n",
    "            dot=Digraph()\n",
    "            dot.attr('node' ,shape='circle')\n",
    "            dot.node(name=str(tree),label=str(tree.val))\n",
    "        for child in [tree.left,tree.right]:\n",
    "            if child is not None:\n",
    "                if child==tree.left: dot.attr('node',shape='circle',style='filled',fillcolor='lightblue')\n",
    "                if child==tree.right:dot.attr('node',shape='doublecircle',style='filled',fillcolor='seashell')\n",
    "                dot.node(name=str(child),label=str(child.val))\n",
    "                dot.edge(str(tree),str(child))\n",
    "                dot=add_nodes_edges(child,dot=dot)\n",
    "            \n",
    "        return dot\n",
    "    dot=add_nodes_edges(tree)\n",
    "    \n",
    "    display(dot)\n",
    "            \n",
    "                \n"
   ]
  },
  {
   "cell_type": "code",
   "execution_count": 5,
   "id": "72858864",
   "metadata": {},
   "outputs": [
    {
     "name": "stdout",
     "output_type": "stream",
     "text": [
      "20\n"
     ]
    }
   ],
   "source": [
    "b=BST(5)\n",
    "b.insert(1)\n",
    "b.insert(20)\n",
    "b.insert(10)\n",
    "b.insert(50)\n",
    "b.insert(30)\n",
    "b.insert(40)\n",
    "b.insert(60)\n",
    "\n",
    "print(b.right.right.parent.val)\n",
    "#visualize_tree(b)"
   ]
  },
  {
   "cell_type": "code",
   "execution_count": 6,
   "id": "56b970ce",
   "metadata": {},
   "outputs": [
    {
     "name": "stdout",
     "output_type": "stream",
     "text": [
      "5\n"
     ]
    }
   ],
   "source": [
    "def find_root(self):\n",
    "    \"\"\"FIND ABSOLUTE ROOT OF BST TO WHICH SELF BELONGS\"\"\"\n",
    "    temp=self\n",
    "    while temp.parent is not None:\n",
    "        temp=temp.parent\n",
    "    return temp\n",
    "    \"\"\" keep going untill no parent left\"\"\"\n",
    "BST.find_root=find_root\n",
    "print((b.find_root()).val)"
   ]
  },
  {
   "cell_type": "code",
   "execution_count": 7,
   "id": "458f3913",
   "metadata": {},
   "outputs": [],
   "source": [
    "def find_min(self):\n",
    "    \"\"\"FINDS MINIMUM FROM SELF TILL END OF TREE\"\"\"\n",
    "    mini=self\n",
    "    if self.left is not None: #as left is always smaller than root so when there is no node it is min\n",
    "           mini=self.left.find_min()\n",
    "    return mini\n",
    "BST.find_min=find_min"
   ]
  },
  {
   "cell_type": "code",
   "execution_count": 8,
   "id": "7159f522",
   "metadata": {},
   "outputs": [
    {
     "name": "stdout",
     "output_type": "stream",
     "text": [
      "1\n"
     ]
    },
    {
     "data": {
      "image/svg+xml": [
       "<?xml version=\"1.0\" encoding=\"UTF-8\" standalone=\"no\"?>\n",
       "<!DOCTYPE svg PUBLIC \"-//W3C//DTD SVG 1.1//EN\"\n",
       " \"http://www.w3.org/Graphics/SVG/1.1/DTD/svg11.dtd\">\n",
       "<!-- Generated by graphviz version 8.0.5 (20230430.1635)\n",
       " -->\n",
       "<!-- Pages: 1 -->\n",
       "<svg width=\"171pt\" height=\"377pt\"\n",
       " viewBox=\"0.00 0.00 170.63 377.02\" xmlns=\"http://www.w3.org/2000/svg\" xmlns:xlink=\"http://www.w3.org/1999/xlink\">\n",
       "<g id=\"graph0\" class=\"graph\" transform=\"scale(1 1) rotate(0) translate(4 373.02)\">\n",
       "<polygon fill=\"white\" stroke=\"none\" points=\"-4,4 -4,-373.02 166.63,-373.02 166.63,4 -4,4\"/>\n",
       "<!-- __main__.BST object at 0x000002108DE412E0 -->\n",
       "<g id=\"node1\" class=\"node\">\n",
       "<title>__main__.BST object at 0x000002108DE412E0</title>\n",
       "<ellipse fill=\"none\" stroke=\"black\" cx=\"48\" cy=\"-351.02\" rx=\"18\" ry=\"18\"/>\n",
       "<text text-anchor=\"middle\" x=\"48\" y=\"-345.59\" font-family=\"Times New Roman,serif\" font-size=\"14.00\">5</text>\n",
       "</g>\n",
       "<!-- __main__.BST object at 0x000002108DE41100 -->\n",
       "<g id=\"node2\" class=\"node\">\n",
       "<title>__main__.BST object at 0x000002108DE41100</title>\n",
       "<ellipse fill=\"lightblue\" stroke=\"black\" cx=\"18\" cy=\"-273.39\" rx=\"18\" ry=\"18\"/>\n",
       "<text text-anchor=\"middle\" x=\"18\" y=\"-267.97\" font-family=\"Times New Roman,serif\" font-size=\"14.00\">1</text>\n",
       "</g>\n",
       "<!-- __main__.BST object at 0x000002108DE412E0&#45;&gt;__main__.BST object at 0x000002108DE41100 -->\n",
       "<g id=\"edge1\" class=\"edge\">\n",
       "<title>__main__.BST object at 0x000002108DE412E0&#45;&gt;__main__.BST object at 0x000002108DE41100</title>\n",
       "<path fill=\"none\" stroke=\"black\" d=\"M41.64,-333.98C37.81,-324.32 32.83,-311.78 28.44,-300.7\"/>\n",
       "<polygon fill=\"black\" stroke=\"black\" points=\"31.4,-299.67 24.46,-291.67 24.89,-302.25 31.4,-299.67\"/>\n",
       "</g>\n",
       "<!-- __main__.BST object at 0x000002108DE41970 -->\n",
       "<g id=\"node3\" class=\"node\">\n",
       "<title>__main__.BST object at 0x000002108DE41970</title>\n",
       "<ellipse fill=\"seashell\" stroke=\"black\" cx=\"78\" cy=\"-273.39\" rx=\"19.63\" ry=\"19.63\"/>\n",
       "<ellipse fill=\"none\" stroke=\"black\" cx=\"78\" cy=\"-273.39\" rx=\"23.63\" ry=\"23.63\"/>\n",
       "<text text-anchor=\"middle\" x=\"78\" y=\"-267.97\" font-family=\"Times New Roman,serif\" font-size=\"14.00\">20</text>\n",
       "</g>\n",
       "<!-- __main__.BST object at 0x000002108DE412E0&#45;&gt;__main__.BST object at 0x000002108DE41970 -->\n",
       "<g id=\"edge2\" class=\"edge\">\n",
       "<title>__main__.BST object at 0x000002108DE412E0&#45;&gt;__main__.BST object at 0x000002108DE41970</title>\n",
       "<path fill=\"none\" stroke=\"black\" d=\"M54.36,-333.98C57.6,-325.83 61.64,-315.63 65.47,-305.98\"/>\n",
       "<polygon fill=\"black\" stroke=\"black\" points=\"69.05,-307.45 69.48,-296.86 62.54,-304.86 69.05,-307.45\"/>\n",
       "</g>\n",
       "<!-- __main__.BST object at 0x000002108DE41670 -->\n",
       "<g id=\"node4\" class=\"node\">\n",
       "<title>__main__.BST object at 0x000002108DE41670</title>\n",
       "<ellipse fill=\"lightblue\" stroke=\"black\" cx=\"48\" cy=\"-190.14\" rx=\"19.63\" ry=\"19.63\"/>\n",
       "<text text-anchor=\"middle\" x=\"48\" y=\"-184.71\" font-family=\"Times New Roman,serif\" font-size=\"14.00\">10</text>\n",
       "</g>\n",
       "<!-- __main__.BST object at 0x000002108DE41970&#45;&gt;__main__.BST object at 0x000002108DE41670 -->\n",
       "<g id=\"edge3\" class=\"edge\">\n",
       "<title>__main__.BST object at 0x000002108DE41970&#45;&gt;__main__.BST object at 0x000002108DE41670</title>\n",
       "<path fill=\"none\" stroke=\"black\" d=\"M70.12,-251.04C66.54,-241.34 62.25,-229.73 58.41,-219.32\"/>\n",
       "<polygon fill=\"black\" stroke=\"black\" points=\"61.36,-218.21 54.61,-210.05 54.79,-220.64 61.36,-218.21\"/>\n",
       "</g>\n",
       "<!-- __main__.BST object at 0x000002108DE41E50 -->\n",
       "<g id=\"node5\" class=\"node\">\n",
       "<title>__main__.BST object at 0x000002108DE41E50</title>\n",
       "<ellipse fill=\"seashell\" stroke=\"black\" cx=\"109\" cy=\"-190.14\" rx=\"19.63\" ry=\"19.63\"/>\n",
       "<ellipse fill=\"none\" stroke=\"black\" cx=\"109\" cy=\"-190.14\" rx=\"23.63\" ry=\"23.63\"/>\n",
       "<text text-anchor=\"middle\" x=\"109\" y=\"-184.71\" font-family=\"Times New Roman,serif\" font-size=\"14.00\">50</text>\n",
       "</g>\n",
       "<!-- __main__.BST object at 0x000002108DE41970&#45;&gt;__main__.BST object at 0x000002108DE41E50 -->\n",
       "<g id=\"edge4\" class=\"edge\">\n",
       "<title>__main__.BST object at 0x000002108DE41970&#45;&gt;__main__.BST object at 0x000002108DE41E50</title>\n",
       "<path fill=\"none\" stroke=\"black\" d=\"M86.14,-251.04C89.43,-242.43 93.29,-232.32 96.89,-222.88\"/>\n",
       "<polygon fill=\"black\" stroke=\"black\" points=\"100.51,-224.21 100.8,-213.62 93.97,-221.72 100.51,-224.21\"/>\n",
       "</g>\n",
       "<!-- __main__.BST object at 0x000002108DE41610 -->\n",
       "<g id=\"node6\" class=\"node\">\n",
       "<title>__main__.BST object at 0x000002108DE41610</title>\n",
       "<ellipse fill=\"lightblue\" stroke=\"black\" cx=\"78\" cy=\"-106.88\" rx=\"19.63\" ry=\"19.63\"/>\n",
       "<text text-anchor=\"middle\" x=\"78\" y=\"-101.46\" font-family=\"Times New Roman,serif\" font-size=\"14.00\">30</text>\n",
       "</g>\n",
       "<!-- __main__.BST object at 0x000002108DE41E50&#45;&gt;__main__.BST object at 0x000002108DE41610 -->\n",
       "<g id=\"edge5\" class=\"edge\">\n",
       "<title>__main__.BST object at 0x000002108DE41E50&#45;&gt;__main__.BST object at 0x000002108DE41610</title>\n",
       "<path fill=\"none\" stroke=\"black\" d=\"M100.86,-167.79C97.15,-158.09 92.72,-146.47 88.75,-136.07\"/>\n",
       "<polygon fill=\"black\" stroke=\"black\" points=\"91.67,-134.89 84.83,-126.79 85.13,-137.38 91.67,-134.89\"/>\n",
       "</g>\n",
       "<!-- __main__.BST object at 0x000002108DDF5070 -->\n",
       "<g id=\"node8\" class=\"node\">\n",
       "<title>__main__.BST object at 0x000002108DDF5070</title>\n",
       "<ellipse fill=\"seashell\" stroke=\"black\" cx=\"139\" cy=\"-106.88\" rx=\"19.63\" ry=\"19.63\"/>\n",
       "<ellipse fill=\"none\" stroke=\"black\" cx=\"139\" cy=\"-106.88\" rx=\"23.63\" ry=\"23.63\"/>\n",
       "<text text-anchor=\"middle\" x=\"139\" y=\"-101.46\" font-family=\"Times New Roman,serif\" font-size=\"14.00\">60</text>\n",
       "</g>\n",
       "<!-- __main__.BST object at 0x000002108DE41E50&#45;&gt;__main__.BST object at 0x000002108DDF5070 -->\n",
       "<g id=\"edge7\" class=\"edge\">\n",
       "<title>__main__.BST object at 0x000002108DE41E50&#45;&gt;__main__.BST object at 0x000002108DDF5070</title>\n",
       "<path fill=\"none\" stroke=\"black\" d=\"M116.88,-167.79C120.06,-159.18 123.79,-149.07 127.28,-139.63\"/>\n",
       "<polygon fill=\"black\" stroke=\"black\" points=\"130.89,-140.96 131.07,-130.37 124.32,-138.54 130.89,-140.96\"/>\n",
       "</g>\n",
       "<!-- __main__.BST object at 0x000002108DDF54C0 -->\n",
       "<g id=\"node7\" class=\"node\">\n",
       "<title>__main__.BST object at 0x000002108DDF54C0</title>\n",
       "<ellipse fill=\"seashell\" stroke=\"black\" cx=\"78\" cy=\"-23.63\" rx=\"19.63\" ry=\"19.63\"/>\n",
       "<ellipse fill=\"none\" stroke=\"black\" cx=\"78\" cy=\"-23.63\" rx=\"23.63\" ry=\"23.63\"/>\n",
       "<text text-anchor=\"middle\" x=\"78\" y=\"-18.2\" font-family=\"Times New Roman,serif\" font-size=\"14.00\">40</text>\n",
       "</g>\n",
       "<!-- __main__.BST object at 0x000002108DE41610&#45;&gt;__main__.BST object at 0x000002108DDF54C0 -->\n",
       "<g id=\"edge6\" class=\"edge\">\n",
       "<title>__main__.BST object at 0x000002108DE41610&#45;&gt;__main__.BST object at 0x000002108DDF54C0</title>\n",
       "<path fill=\"none\" stroke=\"black\" d=\"M78,-87.04C78,-78.52 78,-68.19 78,-58.41\"/>\n",
       "<polygon fill=\"black\" stroke=\"black\" points=\"81.5,-58.72 78,-48.72 74.5,-58.72 81.5,-58.72\"/>\n",
       "</g>\n",
       "</g>\n",
       "</svg>\n"
      ],
      "text/plain": [
       "<graphviz.graphs.Digraph at 0x2108de41b50>"
      ]
     },
     "metadata": {},
     "output_type": "display_data"
    }
   ],
   "source": [
    "print(b.find_min().val)\n",
    "visualize_tree(b)"
   ]
  },
  {
   "cell_type": "code",
   "execution_count": 9,
   "id": "8e9617d4",
   "metadata": {},
   "outputs": [],
   "source": [
    "def set_for_parent(self,node):\n",
    "    \"\"\"it takes one node and connect it to parent of self \"\"\"\n",
    "    if self.parent is None:return\n",
    "    \n",
    "    if self.parent.right==self:\n",
    "        self.parent.right=node\n",
    "    if self.parent.left==self:\n",
    "        self.parent.left=node\n",
    "\n",
    "BST.set_for_parent=set_for_parent    "
   ]
  },
  {
   "cell_type": "code",
   "execution_count": 11,
   "id": "11ee3198",
   "metadata": {},
   "outputs": [],
   "source": [
    "def replace_with_node(self,node):\n",
    "    \"\"\"REPLACE SELF WITH NODE(WHICH IS CHILD) MAKE SURE TO SET PARENT OF NODE ASSUME WE HAVE NO CHILDREN OTHER THAN NODE\"\"\"\n",
    "    self.set_for_parent(node)#replace node with parent\n",
    "    node.parent=self.parent#set parent of node to parent of self(parent of new node)\n",
    "    self.parent=None #self parent is none now self is not pointing to any node it is not necccessay bcz python handles it\n",
    "    return node.find_root()\n",
    "BST.replace_with_node=replace_with_node"
   ]
  },
  {
   "cell_type": "code",
   "execution_count": 12,
   "id": "a1375620",
   "metadata": {},
   "outputs": [],
   "source": [
    "def delete(self,val):\n",
    "    #when there is only one node(root) and value matches with ir\n",
    "    if self.parent is None and self.left is None and self.right is None and self.val==val:\n",
    "        return None  # it will return new root of tree if there is only one node root will be none and so the tree\n",
    "    \n",
    "    #when node you want to delete has no child\n",
    "    if self.val==val:\n",
    "        if self.right is None and self.left is None:#it is leaf\n",
    "            self.set_for_parent(None)  #it will be none\n",
    "            return self.find_root()\n",
    "        \n",
    "    #when node you want to delete has one childe\n",
    "        if self.right is  None: #if right is none left cannot be none bcz we have tackled leaf above \n",
    "            return self.replace_with_node(self.left)  #it replace node to be deleted with its only child\n",
    "        if self.left is None:\n",
    "            return self.replace_with_node(self.right)  #it replace node to be deleted with its only child\n",
    "        \n",
    "        #now we have both children find successor and replace it with self\n",
    "        # as we consider min from right tree as sucessor it can never have two child \n",
    "        successor=self.right.find_min()\n",
    "        \n",
    "        #copy succersor value here\n",
    "        self.val=successor.val\n",
    "        \n",
    "        return self.right.delete(successor.val)\n",
    "        \n",
    "    # if value doesnot match than if value is samller than self.val we go left else we go right    \n",
    "    if val<self.val:\n",
    "        if self.left:\n",
    "            return self.left.delete(val)\n",
    "        else:\n",
    "            return self.find_root() #nothing to delet\n",
    "    \n",
    "    else:\n",
    "        if self.right is not None:\n",
    "            return self.right.delete(val)\n",
    "    \n",
    "        else:\n",
    "            return self.find_root()\n",
    "BST.delete=delete"
   ]
  },
  {
   "cell_type": "markdown",
   "id": "759df730",
   "metadata": {},
   "source": [
    "# CHECKING DELETE"
   ]
  },
  {
   "cell_type": "code",
   "execution_count": 13,
   "id": "769d98d5",
   "metadata": {},
   "outputs": [
    {
     "data": {
      "image/svg+xml": [
       "<?xml version=\"1.0\" encoding=\"UTF-8\" standalone=\"no\"?>\n",
       "<!DOCTYPE svg PUBLIC \"-//W3C//DTD SVG 1.1//EN\"\n",
       " \"http://www.w3.org/Graphics/SVG/1.1/DTD/svg11.dtd\">\n",
       "<!-- Generated by graphviz version 8.0.5 (20230430.1635)\n",
       " -->\n",
       "<!-- Pages: 1 -->\n",
       "<svg width=\"141pt\" height=\"380pt\"\n",
       " viewBox=\"0.00 0.00 140.63 380.27\" xmlns=\"http://www.w3.org/2000/svg\" xmlns:xlink=\"http://www.w3.org/1999/xlink\">\n",
       "<g id=\"graph0\" class=\"graph\" transform=\"scale(1 1) rotate(0) translate(4 376.27)\">\n",
       "<polygon fill=\"white\" stroke=\"none\" points=\"-4,4 -4,-376.27 136.63,-376.27 136.63,4 -4,4\"/>\n",
       "<!-- __main__.BST object at 0x000002108DE412E0 -->\n",
       "<g id=\"node1\" class=\"node\">\n",
       "<title>__main__.BST object at 0x000002108DE412E0</title>\n",
       "<ellipse fill=\"none\" stroke=\"black\" cx=\"48\" cy=\"-352.64\" rx=\"19.63\" ry=\"19.63\"/>\n",
       "<text text-anchor=\"middle\" x=\"48\" y=\"-347.22\" font-family=\"Times New Roman,serif\" font-size=\"14.00\">10</text>\n",
       "</g>\n",
       "<!-- __main__.BST object at 0x000002108DE41100 -->\n",
       "<g id=\"node2\" class=\"node\">\n",
       "<title>__main__.BST object at 0x000002108DE41100</title>\n",
       "<ellipse fill=\"lightblue\" stroke=\"black\" cx=\"18\" cy=\"-273.39\" rx=\"18\" ry=\"18\"/>\n",
       "<text text-anchor=\"middle\" x=\"18\" y=\"-267.97\" font-family=\"Times New Roman,serif\" font-size=\"14.00\">1</text>\n",
       "</g>\n",
       "<!-- __main__.BST object at 0x000002108DE412E0&#45;&gt;__main__.BST object at 0x000002108DE41100 -->\n",
       "<g id=\"edge1\" class=\"edge\">\n",
       "<title>__main__.BST object at 0x000002108DE412E0&#45;&gt;__main__.BST object at 0x000002108DE41100</title>\n",
       "<path fill=\"none\" stroke=\"black\" d=\"M41.19,-334.11C37.34,-324.2 32.45,-311.6 28.15,-300.54\"/>\n",
       "<polygon fill=\"black\" stroke=\"black\" points=\"31.15,-299.59 24.27,-291.53 24.63,-302.12 31.15,-299.59\"/>\n",
       "</g>\n",
       "<!-- __main__.BST object at 0x000002108DE41970 -->\n",
       "<g id=\"node3\" class=\"node\">\n",
       "<title>__main__.BST object at 0x000002108DE41970</title>\n",
       "<ellipse fill=\"seashell\" stroke=\"black\" cx=\"78\" cy=\"-273.39\" rx=\"19.63\" ry=\"19.63\"/>\n",
       "<ellipse fill=\"none\" stroke=\"black\" cx=\"78\" cy=\"-273.39\" rx=\"23.63\" ry=\"23.63\"/>\n",
       "<text text-anchor=\"middle\" x=\"78\" y=\"-267.97\" font-family=\"Times New Roman,serif\" font-size=\"14.00\">20</text>\n",
       "</g>\n",
       "<!-- __main__.BST object at 0x000002108DE412E0&#45;&gt;__main__.BST object at 0x000002108DE41970 -->\n",
       "<g id=\"edge2\" class=\"edge\">\n",
       "<title>__main__.BST object at 0x000002108DE412E0&#45;&gt;__main__.BST object at 0x000002108DE41970</title>\n",
       "<path fill=\"none\" stroke=\"black\" d=\"M54.81,-334.11C58.03,-325.81 61.99,-315.63 65.71,-306.04\"/>\n",
       "<polygon fill=\"black\" stroke=\"black\" points=\"69.26,-307.58 69.61,-296.99 62.73,-305.04 69.26,-307.58\"/>\n",
       "</g>\n",
       "<!-- __main__.BST object at 0x000002108DE41E50 -->\n",
       "<g id=\"node4\" class=\"node\">\n",
       "<title>__main__.BST object at 0x000002108DE41E50</title>\n",
       "<ellipse fill=\"seashell\" stroke=\"black\" cx=\"78\" cy=\"-190.14\" rx=\"19.63\" ry=\"19.63\"/>\n",
       "<ellipse fill=\"none\" stroke=\"black\" cx=\"78\" cy=\"-190.14\" rx=\"23.63\" ry=\"23.63\"/>\n",
       "<text text-anchor=\"middle\" x=\"78\" y=\"-184.71\" font-family=\"Times New Roman,serif\" font-size=\"14.00\">50</text>\n",
       "</g>\n",
       "<!-- __main__.BST object at 0x000002108DE41970&#45;&gt;__main__.BST object at 0x000002108DE41E50 -->\n",
       "<g id=\"edge3\" class=\"edge\">\n",
       "<title>__main__.BST object at 0x000002108DE41970&#45;&gt;__main__.BST object at 0x000002108DE41E50</title>\n",
       "<path fill=\"none\" stroke=\"black\" d=\"M78,-249.32C78,-241.78 78,-233.23 78,-225.05\"/>\n",
       "<polygon fill=\"black\" stroke=\"black\" points=\"81.5,-225.26 78,-215.26 74.5,-225.26 81.5,-225.26\"/>\n",
       "</g>\n",
       "<!-- __main__.BST object at 0x000002108DE41610 -->\n",
       "<g id=\"node5\" class=\"node\">\n",
       "<title>__main__.BST object at 0x000002108DE41610</title>\n",
       "<ellipse fill=\"lightblue\" stroke=\"black\" cx=\"48\" cy=\"-106.88\" rx=\"19.63\" ry=\"19.63\"/>\n",
       "<text text-anchor=\"middle\" x=\"48\" y=\"-101.46\" font-family=\"Times New Roman,serif\" font-size=\"14.00\">30</text>\n",
       "</g>\n",
       "<!-- __main__.BST object at 0x000002108DE41E50&#45;&gt;__main__.BST object at 0x000002108DE41610 -->\n",
       "<g id=\"edge4\" class=\"edge\">\n",
       "<title>__main__.BST object at 0x000002108DE41E50&#45;&gt;__main__.BST object at 0x000002108DE41610</title>\n",
       "<path fill=\"none\" stroke=\"black\" d=\"M70.12,-167.79C66.54,-158.09 62.25,-146.47 58.41,-136.07\"/>\n",
       "<polygon fill=\"black\" stroke=\"black\" points=\"61.36,-134.96 54.61,-126.79 54.79,-137.38 61.36,-134.96\"/>\n",
       "</g>\n",
       "<!-- __main__.BST object at 0x000002108DDF5070 -->\n",
       "<g id=\"node7\" class=\"node\">\n",
       "<title>__main__.BST object at 0x000002108DDF5070</title>\n",
       "<ellipse fill=\"seashell\" stroke=\"black\" cx=\"109\" cy=\"-106.88\" rx=\"19.63\" ry=\"19.63\"/>\n",
       "<ellipse fill=\"none\" stroke=\"black\" cx=\"109\" cy=\"-106.88\" rx=\"23.63\" ry=\"23.63\"/>\n",
       "<text text-anchor=\"middle\" x=\"109\" y=\"-101.46\" font-family=\"Times New Roman,serif\" font-size=\"14.00\">60</text>\n",
       "</g>\n",
       "<!-- __main__.BST object at 0x000002108DE41E50&#45;&gt;__main__.BST object at 0x000002108DDF5070 -->\n",
       "<g id=\"edge6\" class=\"edge\">\n",
       "<title>__main__.BST object at 0x000002108DE41E50&#45;&gt;__main__.BST object at 0x000002108DDF5070</title>\n",
       "<path fill=\"none\" stroke=\"black\" d=\"M86.14,-167.79C89.43,-159.18 93.29,-149.07 96.89,-139.63\"/>\n",
       "<polygon fill=\"black\" stroke=\"black\" points=\"100.51,-140.96 100.8,-130.37 93.97,-138.47 100.51,-140.96\"/>\n",
       "</g>\n",
       "<!-- __main__.BST object at 0x000002108DDF54C0 -->\n",
       "<g id=\"node6\" class=\"node\">\n",
       "<title>__main__.BST object at 0x000002108DDF54C0</title>\n",
       "<ellipse fill=\"seashell\" stroke=\"black\" cx=\"48\" cy=\"-23.63\" rx=\"19.63\" ry=\"19.63\"/>\n",
       "<ellipse fill=\"none\" stroke=\"black\" cx=\"48\" cy=\"-23.63\" rx=\"23.63\" ry=\"23.63\"/>\n",
       "<text text-anchor=\"middle\" x=\"48\" y=\"-18.2\" font-family=\"Times New Roman,serif\" font-size=\"14.00\">40</text>\n",
       "</g>\n",
       "<!-- __main__.BST object at 0x000002108DE41610&#45;&gt;__main__.BST object at 0x000002108DDF54C0 -->\n",
       "<g id=\"edge5\" class=\"edge\">\n",
       "<title>__main__.BST object at 0x000002108DE41610&#45;&gt;__main__.BST object at 0x000002108DDF54C0</title>\n",
       "<path fill=\"none\" stroke=\"black\" d=\"M48,-87.04C48,-78.52 48,-68.19 48,-58.41\"/>\n",
       "<polygon fill=\"black\" stroke=\"black\" points=\"51.5,-58.72 48,-48.72 44.5,-58.72 51.5,-58.72\"/>\n",
       "</g>\n",
       "</g>\n",
       "</svg>\n"
      ],
      "text/plain": [
       "<graphviz.graphs.Digraph at 0x2108de894c0>"
      ]
     },
     "metadata": {},
     "output_type": "display_data"
    }
   ],
   "source": [
    "b=b.delete(5)\n",
    "visualize_tree(b)\n"
   ]
  },
  {
   "cell_type": "code",
   "execution_count": 14,
   "id": "ef163067",
   "metadata": {},
   "outputs": [
    {
     "data": {
      "image/svg+xml": [
       "<?xml version=\"1.0\" encoding=\"UTF-8\" standalone=\"no\"?>\n",
       "<!DOCTYPE svg PUBLIC \"-//W3C//DTD SVG 1.1//EN\"\n",
       " \"http://www.w3.org/Graphics/SVG/1.1/DTD/svg11.dtd\">\n",
       "<!-- Generated by graphviz version 8.0.5 (20230430.1635)\n",
       " -->\n",
       "<!-- Pages: 1 -->\n",
       "<svg width=\"141pt\" height=\"297pt\"\n",
       " viewBox=\"0.00 0.00 140.63 297.02\" xmlns=\"http://www.w3.org/2000/svg\" xmlns:xlink=\"http://www.w3.org/1999/xlink\">\n",
       "<g id=\"graph0\" class=\"graph\" transform=\"scale(1 1) rotate(0) translate(4 293.02)\">\n",
       "<polygon fill=\"white\" stroke=\"none\" points=\"-4,4 -4,-293.02 136.63,-293.02 136.63,4 -4,4\"/>\n",
       "<!-- __main__.BST object at 0x000002108DE412E0 -->\n",
       "<g id=\"node1\" class=\"node\">\n",
       "<title>__main__.BST object at 0x000002108DE412E0</title>\n",
       "<ellipse fill=\"none\" stroke=\"black\" cx=\"48\" cy=\"-269.39\" rx=\"19.63\" ry=\"19.63\"/>\n",
       "<text text-anchor=\"middle\" x=\"48\" y=\"-263.97\" font-family=\"Times New Roman,serif\" font-size=\"14.00\">20</text>\n",
       "</g>\n",
       "<!-- __main__.BST object at 0x000002108DE41100 -->\n",
       "<g id=\"node2\" class=\"node\">\n",
       "<title>__main__.BST object at 0x000002108DE41100</title>\n",
       "<ellipse fill=\"lightblue\" stroke=\"black\" cx=\"18\" cy=\"-190.14\" rx=\"18\" ry=\"18\"/>\n",
       "<text text-anchor=\"middle\" x=\"18\" y=\"-184.71\" font-family=\"Times New Roman,serif\" font-size=\"14.00\">1</text>\n",
       "</g>\n",
       "<!-- __main__.BST object at 0x000002108DE412E0&#45;&gt;__main__.BST object at 0x000002108DE41100 -->\n",
       "<g id=\"edge1\" class=\"edge\">\n",
       "<title>__main__.BST object at 0x000002108DE412E0&#45;&gt;__main__.BST object at 0x000002108DE41100</title>\n",
       "<path fill=\"none\" stroke=\"black\" d=\"M41.19,-250.86C37.34,-240.94 32.45,-228.35 28.15,-217.28\"/>\n",
       "<polygon fill=\"black\" stroke=\"black\" points=\"31.15,-216.33 24.27,-208.28 24.63,-218.87 31.15,-216.33\"/>\n",
       "</g>\n",
       "<!-- __main__.BST object at 0x000002108DE41E50 -->\n",
       "<g id=\"node3\" class=\"node\">\n",
       "<title>__main__.BST object at 0x000002108DE41E50</title>\n",
       "<ellipse fill=\"seashell\" stroke=\"black\" cx=\"78\" cy=\"-190.14\" rx=\"19.63\" ry=\"19.63\"/>\n",
       "<ellipse fill=\"none\" stroke=\"black\" cx=\"78\" cy=\"-190.14\" rx=\"23.63\" ry=\"23.63\"/>\n",
       "<text text-anchor=\"middle\" x=\"78\" y=\"-184.71\" font-family=\"Times New Roman,serif\" font-size=\"14.00\">50</text>\n",
       "</g>\n",
       "<!-- __main__.BST object at 0x000002108DE412E0&#45;&gt;__main__.BST object at 0x000002108DE41E50 -->\n",
       "<g id=\"edge2\" class=\"edge\">\n",
       "<title>__main__.BST object at 0x000002108DE412E0&#45;&gt;__main__.BST object at 0x000002108DE41E50</title>\n",
       "<path fill=\"none\" stroke=\"black\" d=\"M54.81,-250.86C58.03,-242.56 61.99,-232.38 65.71,-222.79\"/>\n",
       "<polygon fill=\"black\" stroke=\"black\" points=\"69.26,-224.32 69.61,-213.73 62.73,-221.79 69.26,-224.32\"/>\n",
       "</g>\n",
       "<!-- __main__.BST object at 0x000002108DE41610 -->\n",
       "<g id=\"node4\" class=\"node\">\n",
       "<title>__main__.BST object at 0x000002108DE41610</title>\n",
       "<ellipse fill=\"lightblue\" stroke=\"black\" cx=\"48\" cy=\"-106.88\" rx=\"19.63\" ry=\"19.63\"/>\n",
       "<text text-anchor=\"middle\" x=\"48\" y=\"-101.46\" font-family=\"Times New Roman,serif\" font-size=\"14.00\">30</text>\n",
       "</g>\n",
       "<!-- __main__.BST object at 0x000002108DE41E50&#45;&gt;__main__.BST object at 0x000002108DE41610 -->\n",
       "<g id=\"edge3\" class=\"edge\">\n",
       "<title>__main__.BST object at 0x000002108DE41E50&#45;&gt;__main__.BST object at 0x000002108DE41610</title>\n",
       "<path fill=\"none\" stroke=\"black\" d=\"M70.12,-167.79C66.54,-158.09 62.25,-146.47 58.41,-136.07\"/>\n",
       "<polygon fill=\"black\" stroke=\"black\" points=\"61.36,-134.96 54.61,-126.79 54.79,-137.38 61.36,-134.96\"/>\n",
       "</g>\n",
       "<!-- __main__.BST object at 0x000002108DDF5070 -->\n",
       "<g id=\"node6\" class=\"node\">\n",
       "<title>__main__.BST object at 0x000002108DDF5070</title>\n",
       "<ellipse fill=\"seashell\" stroke=\"black\" cx=\"109\" cy=\"-106.88\" rx=\"19.63\" ry=\"19.63\"/>\n",
       "<ellipse fill=\"none\" stroke=\"black\" cx=\"109\" cy=\"-106.88\" rx=\"23.63\" ry=\"23.63\"/>\n",
       "<text text-anchor=\"middle\" x=\"109\" y=\"-101.46\" font-family=\"Times New Roman,serif\" font-size=\"14.00\">60</text>\n",
       "</g>\n",
       "<!-- __main__.BST object at 0x000002108DE41E50&#45;&gt;__main__.BST object at 0x000002108DDF5070 -->\n",
       "<g id=\"edge5\" class=\"edge\">\n",
       "<title>__main__.BST object at 0x000002108DE41E50&#45;&gt;__main__.BST object at 0x000002108DDF5070</title>\n",
       "<path fill=\"none\" stroke=\"black\" d=\"M86.14,-167.79C89.43,-159.18 93.29,-149.07 96.89,-139.63\"/>\n",
       "<polygon fill=\"black\" stroke=\"black\" points=\"100.51,-140.96 100.8,-130.37 93.97,-138.47 100.51,-140.96\"/>\n",
       "</g>\n",
       "<!-- __main__.BST object at 0x000002108DDF54C0 -->\n",
       "<g id=\"node5\" class=\"node\">\n",
       "<title>__main__.BST object at 0x000002108DDF54C0</title>\n",
       "<ellipse fill=\"seashell\" stroke=\"black\" cx=\"48\" cy=\"-23.63\" rx=\"19.63\" ry=\"19.63\"/>\n",
       "<ellipse fill=\"none\" stroke=\"black\" cx=\"48\" cy=\"-23.63\" rx=\"23.63\" ry=\"23.63\"/>\n",
       "<text text-anchor=\"middle\" x=\"48\" y=\"-18.2\" font-family=\"Times New Roman,serif\" font-size=\"14.00\">40</text>\n",
       "</g>\n",
       "<!-- __main__.BST object at 0x000002108DE41610&#45;&gt;__main__.BST object at 0x000002108DDF54C0 -->\n",
       "<g id=\"edge4\" class=\"edge\">\n",
       "<title>__main__.BST object at 0x000002108DE41610&#45;&gt;__main__.BST object at 0x000002108DDF54C0</title>\n",
       "<path fill=\"none\" stroke=\"black\" d=\"M48,-87.04C48,-78.52 48,-68.19 48,-58.41\"/>\n",
       "<polygon fill=\"black\" stroke=\"black\" points=\"51.5,-58.72 48,-48.72 44.5,-58.72 51.5,-58.72\"/>\n",
       "</g>\n",
       "</g>\n",
       "</svg>\n"
      ],
      "text/plain": [
       "<graphviz.graphs.Digraph at 0x2108de89a60>"
      ]
     },
     "metadata": {},
     "output_type": "display_data"
    }
   ],
   "source": [
    "b=b.delete(10)\n",
    "visualize_tree(b)"
   ]
  },
  {
   "cell_type": "code",
   "execution_count": 15,
   "id": "a5c4a52a",
   "metadata": {},
   "outputs": [
    {
     "data": {
      "image/svg+xml": [
       "<?xml version=\"1.0\" encoding=\"UTF-8\" standalone=\"no\"?>\n",
       "<!DOCTYPE svg PUBLIC \"-//W3C//DTD SVG 1.1//EN\"\n",
       " \"http://www.w3.org/Graphics/SVG/1.1/DTD/svg11.dtd\">\n",
       "<!-- Generated by graphviz version 8.0.5 (20230430.1635)\n",
       " -->\n",
       "<!-- Pages: 1 -->\n",
       "<svg width=\"140pt\" height=\"214pt\"\n",
       " viewBox=\"0.00 0.00 139.63 213.76\" xmlns=\"http://www.w3.org/2000/svg\" xmlns:xlink=\"http://www.w3.org/1999/xlink\">\n",
       "<g id=\"graph0\" class=\"graph\" transform=\"scale(1 1) rotate(0) translate(4 209.76)\">\n",
       "<polygon fill=\"white\" stroke=\"none\" points=\"-4,4 -4,-209.76 135.63,-209.76 135.63,4 -4,4\"/>\n",
       "<!-- __main__.BST object at 0x000002108DE412E0 -->\n",
       "<g id=\"node1\" class=\"node\">\n",
       "<title>__main__.BST object at 0x000002108DE412E0</title>\n",
       "<ellipse fill=\"none\" stroke=\"black\" cx=\"48\" cy=\"-186.14\" rx=\"19.63\" ry=\"19.63\"/>\n",
       "<text text-anchor=\"middle\" x=\"48\" y=\"-180.71\" font-family=\"Times New Roman,serif\" font-size=\"14.00\">30</text>\n",
       "</g>\n",
       "<!-- __main__.BST object at 0x000002108DE41100 -->\n",
       "<g id=\"node2\" class=\"node\">\n",
       "<title>__main__.BST object at 0x000002108DE41100</title>\n",
       "<ellipse fill=\"lightblue\" stroke=\"black\" cx=\"18\" cy=\"-106.88\" rx=\"18\" ry=\"18\"/>\n",
       "<text text-anchor=\"middle\" x=\"18\" y=\"-101.46\" font-family=\"Times New Roman,serif\" font-size=\"14.00\">1</text>\n",
       "</g>\n",
       "<!-- __main__.BST object at 0x000002108DE412E0&#45;&gt;__main__.BST object at 0x000002108DE41100 -->\n",
       "<g id=\"edge1\" class=\"edge\">\n",
       "<title>__main__.BST object at 0x000002108DE412E0&#45;&gt;__main__.BST object at 0x000002108DE41100</title>\n",
       "<path fill=\"none\" stroke=\"black\" d=\"M41.19,-167.61C37.34,-157.69 32.45,-145.09 28.15,-134.03\"/>\n",
       "<polygon fill=\"black\" stroke=\"black\" points=\"31.15,-133.08 24.27,-125.03 24.63,-135.61 31.15,-133.08\"/>\n",
       "</g>\n",
       "<!-- __main__.BST object at 0x000002108DE41E50 -->\n",
       "<g id=\"node3\" class=\"node\">\n",
       "<title>__main__.BST object at 0x000002108DE41E50</title>\n",
       "<ellipse fill=\"seashell\" stroke=\"black\" cx=\"78\" cy=\"-106.88\" rx=\"19.63\" ry=\"19.63\"/>\n",
       "<ellipse fill=\"none\" stroke=\"black\" cx=\"78\" cy=\"-106.88\" rx=\"23.63\" ry=\"23.63\"/>\n",
       "<text text-anchor=\"middle\" x=\"78\" y=\"-101.46\" font-family=\"Times New Roman,serif\" font-size=\"14.00\">50</text>\n",
       "</g>\n",
       "<!-- __main__.BST object at 0x000002108DE412E0&#45;&gt;__main__.BST object at 0x000002108DE41E50 -->\n",
       "<g id=\"edge2\" class=\"edge\">\n",
       "<title>__main__.BST object at 0x000002108DE412E0&#45;&gt;__main__.BST object at 0x000002108DE41E50</title>\n",
       "<path fill=\"none\" stroke=\"black\" d=\"M54.81,-167.61C58.03,-159.3 61.99,-149.12 65.71,-139.53\"/>\n",
       "<polygon fill=\"black\" stroke=\"black\" points=\"69.26,-141.07 69.61,-130.48 62.73,-138.53 69.26,-141.07\"/>\n",
       "</g>\n",
       "<!-- __main__.BST object at 0x000002108DDF54C0 -->\n",
       "<g id=\"node4\" class=\"node\">\n",
       "<title>__main__.BST object at 0x000002108DDF54C0</title>\n",
       "<ellipse fill=\"lightblue\" stroke=\"black\" cx=\"47\" cy=\"-23.63\" rx=\"19.63\" ry=\"19.63\"/>\n",
       "<text text-anchor=\"middle\" x=\"47\" y=\"-18.2\" font-family=\"Times New Roman,serif\" font-size=\"14.00\">40</text>\n",
       "</g>\n",
       "<!-- __main__.BST object at 0x000002108DE41E50&#45;&gt;__main__.BST object at 0x000002108DDF54C0 -->\n",
       "<g id=\"edge3\" class=\"edge\">\n",
       "<title>__main__.BST object at 0x000002108DE41E50&#45;&gt;__main__.BST object at 0x000002108DDF54C0</title>\n",
       "<path fill=\"none\" stroke=\"black\" d=\"M69.86,-84.53C66.15,-74.83 61.72,-63.22 57.75,-52.81\"/>\n",
       "<polygon fill=\"black\" stroke=\"black\" points=\"60.67,-51.63 53.83,-43.54 54.13,-54.13 60.67,-51.63\"/>\n",
       "</g>\n",
       "<!-- __main__.BST object at 0x000002108DDF5070 -->\n",
       "<g id=\"node5\" class=\"node\">\n",
       "<title>__main__.BST object at 0x000002108DDF5070</title>\n",
       "<ellipse fill=\"seashell\" stroke=\"black\" cx=\"108\" cy=\"-23.63\" rx=\"19.63\" ry=\"19.63\"/>\n",
       "<ellipse fill=\"none\" stroke=\"black\" cx=\"108\" cy=\"-23.63\" rx=\"23.63\" ry=\"23.63\"/>\n",
       "<text text-anchor=\"middle\" x=\"108\" y=\"-18.2\" font-family=\"Times New Roman,serif\" font-size=\"14.00\">60</text>\n",
       "</g>\n",
       "<!-- __main__.BST object at 0x000002108DE41E50&#45;&gt;__main__.BST object at 0x000002108DDF5070 -->\n",
       "<g id=\"edge4\" class=\"edge\">\n",
       "<title>__main__.BST object at 0x000002108DE41E50&#45;&gt;__main__.BST object at 0x000002108DDF5070</title>\n",
       "<path fill=\"none\" stroke=\"black\" d=\"M85.88,-84.53C89.06,-75.92 92.79,-65.81 96.28,-56.37\"/>\n",
       "<polygon fill=\"black\" stroke=\"black\" points=\"99.89,-57.71 100.07,-47.12 93.32,-55.28 99.89,-57.71\"/>\n",
       "</g>\n",
       "</g>\n",
       "</svg>\n"
      ],
      "text/plain": [
       "<graphviz.graphs.Digraph at 0x2108de89d30>"
      ]
     },
     "metadata": {},
     "output_type": "display_data"
    }
   ],
   "source": [
    "b=b.delete(20)\n",
    "visualize_tree(b)"
   ]
  },
  {
   "cell_type": "code",
   "execution_count": 16,
   "id": "0df8dc44",
   "metadata": {},
   "outputs": [
    {
     "data": {
      "image/svg+xml": [
       "<?xml version=\"1.0\" encoding=\"UTF-8\" standalone=\"no\"?>\n",
       "<!DOCTYPE svg PUBLIC \"-//W3C//DTD SVG 1.1//EN\"\n",
       " \"http://www.w3.org/Graphics/SVG/1.1/DTD/svg11.dtd\">\n",
       "<!-- Generated by graphviz version 8.0.5 (20230430.1635)\n",
       " -->\n",
       "<!-- Pages: 1 -->\n",
       "<svg width=\"110pt\" height=\"214pt\"\n",
       " viewBox=\"0.00 0.00 109.63 213.76\" xmlns=\"http://www.w3.org/2000/svg\" xmlns:xlink=\"http://www.w3.org/1999/xlink\">\n",
       "<g id=\"graph0\" class=\"graph\" transform=\"scale(1 1) rotate(0) translate(4 209.76)\">\n",
       "<polygon fill=\"white\" stroke=\"none\" points=\"-4,4 -4,-209.76 105.63,-209.76 105.63,4 -4,4\"/>\n",
       "<!-- __main__.BST object at 0x000002108DE412E0 -->\n",
       "<g id=\"node1\" class=\"node\">\n",
       "<title>__main__.BST object at 0x000002108DE412E0</title>\n",
       "<ellipse fill=\"none\" stroke=\"black\" cx=\"48\" cy=\"-186.14\" rx=\"19.63\" ry=\"19.63\"/>\n",
       "<text text-anchor=\"middle\" x=\"48\" y=\"-180.71\" font-family=\"Times New Roman,serif\" font-size=\"14.00\">40</text>\n",
       "</g>\n",
       "<!-- __main__.BST object at 0x000002108DE41100 -->\n",
       "<g id=\"node2\" class=\"node\">\n",
       "<title>__main__.BST object at 0x000002108DE41100</title>\n",
       "<ellipse fill=\"lightblue\" stroke=\"black\" cx=\"18\" cy=\"-106.88\" rx=\"18\" ry=\"18\"/>\n",
       "<text text-anchor=\"middle\" x=\"18\" y=\"-101.46\" font-family=\"Times New Roman,serif\" font-size=\"14.00\">1</text>\n",
       "</g>\n",
       "<!-- __main__.BST object at 0x000002108DE412E0&#45;&gt;__main__.BST object at 0x000002108DE41100 -->\n",
       "<g id=\"edge1\" class=\"edge\">\n",
       "<title>__main__.BST object at 0x000002108DE412E0&#45;&gt;__main__.BST object at 0x000002108DE41100</title>\n",
       "<path fill=\"none\" stroke=\"black\" d=\"M41.19,-167.61C37.34,-157.69 32.45,-145.09 28.15,-134.03\"/>\n",
       "<polygon fill=\"black\" stroke=\"black\" points=\"31.15,-133.08 24.27,-125.03 24.63,-135.61 31.15,-133.08\"/>\n",
       "</g>\n",
       "<!-- __main__.BST object at 0x000002108DE41E50 -->\n",
       "<g id=\"node3\" class=\"node\">\n",
       "<title>__main__.BST object at 0x000002108DE41E50</title>\n",
       "<ellipse fill=\"seashell\" stroke=\"black\" cx=\"78\" cy=\"-106.88\" rx=\"19.63\" ry=\"19.63\"/>\n",
       "<ellipse fill=\"none\" stroke=\"black\" cx=\"78\" cy=\"-106.88\" rx=\"23.63\" ry=\"23.63\"/>\n",
       "<text text-anchor=\"middle\" x=\"78\" y=\"-101.46\" font-family=\"Times New Roman,serif\" font-size=\"14.00\">50</text>\n",
       "</g>\n",
       "<!-- __main__.BST object at 0x000002108DE412E0&#45;&gt;__main__.BST object at 0x000002108DE41E50 -->\n",
       "<g id=\"edge2\" class=\"edge\">\n",
       "<title>__main__.BST object at 0x000002108DE412E0&#45;&gt;__main__.BST object at 0x000002108DE41E50</title>\n",
       "<path fill=\"none\" stroke=\"black\" d=\"M54.81,-167.61C58.03,-159.3 61.99,-149.12 65.71,-139.53\"/>\n",
       "<polygon fill=\"black\" stroke=\"black\" points=\"69.26,-141.07 69.61,-130.48 62.73,-138.53 69.26,-141.07\"/>\n",
       "</g>\n",
       "<!-- __main__.BST object at 0x000002108DDF5070 -->\n",
       "<g id=\"node4\" class=\"node\">\n",
       "<title>__main__.BST object at 0x000002108DDF5070</title>\n",
       "<ellipse fill=\"seashell\" stroke=\"black\" cx=\"78\" cy=\"-23.63\" rx=\"19.63\" ry=\"19.63\"/>\n",
       "<ellipse fill=\"none\" stroke=\"black\" cx=\"78\" cy=\"-23.63\" rx=\"23.63\" ry=\"23.63\"/>\n",
       "<text text-anchor=\"middle\" x=\"78\" y=\"-18.2\" font-family=\"Times New Roman,serif\" font-size=\"14.00\">60</text>\n",
       "</g>\n",
       "<!-- __main__.BST object at 0x000002108DE41E50&#45;&gt;__main__.BST object at 0x000002108DDF5070 -->\n",
       "<g id=\"edge3\" class=\"edge\">\n",
       "<title>__main__.BST object at 0x000002108DE41E50&#45;&gt;__main__.BST object at 0x000002108DDF5070</title>\n",
       "<path fill=\"none\" stroke=\"black\" d=\"M78,-82.81C78,-75.27 78,-66.72 78,-58.54\"/>\n",
       "<polygon fill=\"black\" stroke=\"black\" points=\"81.5,-58.75 78,-48.75 74.5,-58.75 81.5,-58.75\"/>\n",
       "</g>\n",
       "</g>\n",
       "</svg>\n"
      ],
      "text/plain": [
       "<graphviz.graphs.Digraph at 0x2108de89eb0>"
      ]
     },
     "metadata": {},
     "output_type": "display_data"
    }
   ],
   "source": [
    "b=b.delete(30)\n",
    "visualize_tree(b)"
   ]
  },
  {
   "cell_type": "code",
   "execution_count": 17,
   "id": "378ab7f0",
   "metadata": {},
   "outputs": [
    {
     "data": {
      "image/svg+xml": [
       "<?xml version=\"1.0\" encoding=\"UTF-8\" standalone=\"no\"?>\n",
       "<!DOCTYPE svg PUBLIC \"-//W3C//DTD SVG 1.1//EN\"\n",
       " \"http://www.w3.org/Graphics/SVG/1.1/DTD/svg11.dtd\">\n",
       "<!-- Generated by graphviz version 8.0.5 (20230430.1635)\n",
       " -->\n",
       "<!-- Pages: 1 -->\n",
       "<svg width=\"110pt\" height=\"131pt\"\n",
       " viewBox=\"0.00 0.00 109.63 130.51\" xmlns=\"http://www.w3.org/2000/svg\" xmlns:xlink=\"http://www.w3.org/1999/xlink\">\n",
       "<g id=\"graph0\" class=\"graph\" transform=\"scale(1 1) rotate(0) translate(4 126.51)\">\n",
       "<polygon fill=\"white\" stroke=\"none\" points=\"-4,4 -4,-126.51 105.63,-126.51 105.63,4 -4,4\"/>\n",
       "<!-- __main__.BST object at 0x000002108DE412E0 -->\n",
       "<g id=\"node1\" class=\"node\">\n",
       "<title>__main__.BST object at 0x000002108DE412E0</title>\n",
       "<ellipse fill=\"none\" stroke=\"black\" cx=\"48\" cy=\"-102.88\" rx=\"19.63\" ry=\"19.63\"/>\n",
       "<text text-anchor=\"middle\" x=\"48\" y=\"-97.46\" font-family=\"Times New Roman,serif\" font-size=\"14.00\">50</text>\n",
       "</g>\n",
       "<!-- __main__.BST object at 0x000002108DE41100 -->\n",
       "<g id=\"node2\" class=\"node\">\n",
       "<title>__main__.BST object at 0x000002108DE41100</title>\n",
       "<ellipse fill=\"lightblue\" stroke=\"black\" cx=\"18\" cy=\"-23.63\" rx=\"18\" ry=\"18\"/>\n",
       "<text text-anchor=\"middle\" x=\"18\" y=\"-18.2\" font-family=\"Times New Roman,serif\" font-size=\"14.00\">1</text>\n",
       "</g>\n",
       "<!-- __main__.BST object at 0x000002108DE412E0&#45;&gt;__main__.BST object at 0x000002108DE41100 -->\n",
       "<g id=\"edge1\" class=\"edge\">\n",
       "<title>__main__.BST object at 0x000002108DE412E0&#45;&gt;__main__.BST object at 0x000002108DE41100</title>\n",
       "<path fill=\"none\" stroke=\"black\" d=\"M41.19,-84.35C37.34,-74.43 32.45,-61.84 28.15,-50.77\"/>\n",
       "<polygon fill=\"black\" stroke=\"black\" points=\"31.15,-49.83 24.27,-41.77 24.63,-52.36 31.15,-49.83\"/>\n",
       "</g>\n",
       "<!-- __main__.BST object at 0x000002108DDF5070 -->\n",
       "<g id=\"node3\" class=\"node\">\n",
       "<title>__main__.BST object at 0x000002108DDF5070</title>\n",
       "<ellipse fill=\"seashell\" stroke=\"black\" cx=\"78\" cy=\"-23.63\" rx=\"19.63\" ry=\"19.63\"/>\n",
       "<ellipse fill=\"none\" stroke=\"black\" cx=\"78\" cy=\"-23.63\" rx=\"23.63\" ry=\"23.63\"/>\n",
       "<text text-anchor=\"middle\" x=\"78\" y=\"-18.2\" font-family=\"Times New Roman,serif\" font-size=\"14.00\">60</text>\n",
       "</g>\n",
       "<!-- __main__.BST object at 0x000002108DE412E0&#45;&gt;__main__.BST object at 0x000002108DDF5070 -->\n",
       "<g id=\"edge2\" class=\"edge\">\n",
       "<title>__main__.BST object at 0x000002108DE412E0&#45;&gt;__main__.BST object at 0x000002108DDF5070</title>\n",
       "<path fill=\"none\" stroke=\"black\" d=\"M54.81,-84.35C58.03,-76.05 61.99,-65.87 65.71,-56.28\"/>\n",
       "<polygon fill=\"black\" stroke=\"black\" points=\"69.26,-57.81 69.61,-47.23 62.73,-55.28 69.26,-57.81\"/>\n",
       "</g>\n",
       "</g>\n",
       "</svg>\n"
      ],
      "text/plain": [
       "<graphviz.graphs.Digraph at 0x2108de89e20>"
      ]
     },
     "metadata": {},
     "output_type": "display_data"
    }
   ],
   "source": [
    "b=b.delete(40)\n",
    "visualize_tree(b)"
   ]
  },
  {
   "cell_type": "code",
   "execution_count": 18,
   "id": "9ca21409",
   "metadata": {},
   "outputs": [
    {
     "data": {
      "image/svg+xml": [
       "<?xml version=\"1.0\" encoding=\"UTF-8\" standalone=\"no\"?>\n",
       "<!DOCTYPE svg PUBLIC \"-//W3C//DTD SVG 1.1//EN\"\n",
       " \"http://www.w3.org/Graphics/SVG/1.1/DTD/svg11.dtd\">\n",
       "<!-- Generated by graphviz version 8.0.5 (20230430.1635)\n",
       " -->\n",
       "<!-- Pages: 1 -->\n",
       "<svg width=\"47pt\" height=\"119pt\"\n",
       " viewBox=\"0.00 0.00 47.25 119.25\" xmlns=\"http://www.w3.org/2000/svg\" xmlns:xlink=\"http://www.w3.org/1999/xlink\">\n",
       "<g id=\"graph0\" class=\"graph\" transform=\"scale(1 1) rotate(0) translate(4 115.25)\">\n",
       "<polygon fill=\"white\" stroke=\"none\" points=\"-4,4 -4,-115.25 43.25,-115.25 43.25,4 -4,4\"/>\n",
       "<!-- __main__.BST object at 0x000002108DE412E0 -->\n",
       "<g id=\"node1\" class=\"node\">\n",
       "<title>__main__.BST object at 0x000002108DE412E0</title>\n",
       "<ellipse fill=\"none\" stroke=\"black\" cx=\"19.63\" cy=\"-91.63\" rx=\"19.63\" ry=\"19.63\"/>\n",
       "<text text-anchor=\"middle\" x=\"19.63\" y=\"-86.2\" font-family=\"Times New Roman,serif\" font-size=\"14.00\">60</text>\n",
       "</g>\n",
       "<!-- __main__.BST object at 0x000002108DE41100 -->\n",
       "<g id=\"node2\" class=\"node\">\n",
       "<title>__main__.BST object at 0x000002108DE41100</title>\n",
       "<ellipse fill=\"lightblue\" stroke=\"black\" cx=\"19.63\" cy=\"-18\" rx=\"18\" ry=\"18\"/>\n",
       "<text text-anchor=\"middle\" x=\"19.63\" y=\"-12.57\" font-family=\"Times New Roman,serif\" font-size=\"14.00\">1</text>\n",
       "</g>\n",
       "<!-- __main__.BST object at 0x000002108DE412E0&#45;&gt;__main__.BST object at 0x000002108DE41100 -->\n",
       "<g id=\"edge1\" class=\"edge\">\n",
       "<title>__main__.BST object at 0x000002108DE412E0&#45;&gt;__main__.BST object at 0x000002108DE41100</title>\n",
       "<path fill=\"none\" stroke=\"black\" d=\"M19.63,-71.81C19.63,-64.28 19.63,-55.46 19.63,-47.2\"/>\n",
       "<polygon fill=\"black\" stroke=\"black\" points=\"23.13,-47.46 19.63,-37.46 16.13,-47.46 23.13,-47.46\"/>\n",
       "</g>\n",
       "</g>\n",
       "</svg>\n"
      ],
      "text/plain": [
       "<graphviz.graphs.Digraph at 0x2108de89700>"
      ]
     },
     "metadata": {},
     "output_type": "display_data"
    }
   ],
   "source": [
    "b=b.delete(50)\n",
    "visualize_tree(b)"
   ]
  },
  {
   "cell_type": "code",
   "execution_count": 19,
   "id": "1b62062b",
   "metadata": {},
   "outputs": [
    {
     "data": {
      "image/svg+xml": [
       "<?xml version=\"1.0\" encoding=\"UTF-8\" standalone=\"no\"?>\n",
       "<!DOCTYPE svg PUBLIC \"-//W3C//DTD SVG 1.1//EN\"\n",
       " \"http://www.w3.org/Graphics/SVG/1.1/DTD/svg11.dtd\">\n",
       "<!-- Generated by graphviz version 8.0.5 (20230430.1635)\n",
       " -->\n",
       "<!-- Pages: 1 -->\n",
       "<svg width=\"44pt\" height=\"44pt\"\n",
       " viewBox=\"0.00 0.00 44.00 44.00\" xmlns=\"http://www.w3.org/2000/svg\" xmlns:xlink=\"http://www.w3.org/1999/xlink\">\n",
       "<g id=\"graph0\" class=\"graph\" transform=\"scale(1 1) rotate(0) translate(4 40)\">\n",
       "<polygon fill=\"white\" stroke=\"none\" points=\"-4,4 -4,-40 40,-40 40,4 -4,4\"/>\n",
       "<!-- __main__.BST object at 0x000002108DE41100 -->\n",
       "<g id=\"node1\" class=\"node\">\n",
       "<title>__main__.BST object at 0x000002108DE41100</title>\n",
       "<ellipse fill=\"none\" stroke=\"black\" cx=\"18\" cy=\"-18\" rx=\"18\" ry=\"18\"/>\n",
       "<text text-anchor=\"middle\" x=\"18\" y=\"-12.57\" font-family=\"Times New Roman,serif\" font-size=\"14.00\">1</text>\n",
       "</g>\n",
       "</g>\n",
       "</svg>\n"
      ],
      "text/plain": [
       "<graphviz.graphs.Digraph at 0x2108de89d90>"
      ]
     },
     "metadata": {},
     "output_type": "display_data"
    }
   ],
   "source": [
    "b=b.delete(60)\n",
    "visualize_tree(b)"
   ]
  },
  {
   "cell_type": "code",
   "execution_count": 20,
   "id": "6920bfa7",
   "metadata": {},
   "outputs": [
    {
     "data": {
      "text/plain": [
       "'NOTHING IN TREE'"
      ]
     },
     "execution_count": 20,
     "metadata": {},
     "output_type": "execute_result"
    }
   ],
   "source": [
    "b=b.delete(1)\n",
    "visualize_tree(b)"
   ]
  },
  {
   "cell_type": "markdown",
   "id": "1208e554",
   "metadata": {},
   "source": [
    "# ISSUES WITH BST - BALANCE"
   ]
  },
  {
   "cell_type": "code",
   "execution_count": 21,
   "id": "6eede00a",
   "metadata": {},
   "outputs": [],
   "source": [
    "l=[1,2,4,9,13,21,51,71,82]"
   ]
  },
  {
   "cell_type": "code",
   "execution_count": 22,
   "id": "f35a9748",
   "metadata": {},
   "outputs": [],
   "source": [
    "n=BST(l[0])\n",
    "for i in l:\n",
    "    n.insert(i)"
   ]
  },
  {
   "cell_type": "code",
   "execution_count": 23,
   "id": "0bd74ded",
   "metadata": {},
   "outputs": [
    {
     "data": {
      "image/svg+xml": [
       "<?xml version=\"1.0\" encoding=\"UTF-8\" standalone=\"no\"?>\n",
       "<!DOCTYPE svg PUBLIC \"-//W3C//DTD SVG 1.1//EN\"\n",
       " \"http://www.w3.org/Graphics/SVG/1.1/DTD/svg11.dtd\">\n",
       "<!-- Generated by graphviz version 8.0.5 (20230430.1635)\n",
       " -->\n",
       "<!-- Pages: 1 -->\n",
       "<svg width=\"55pt\" height=\"700pt\"\n",
       " viewBox=\"0.00 0.00 55.25 700.27\" xmlns=\"http://www.w3.org/2000/svg\" xmlns:xlink=\"http://www.w3.org/1999/xlink\">\n",
       "<g id=\"graph0\" class=\"graph\" transform=\"scale(1 1) rotate(0) translate(4 696.27)\">\n",
       "<polygon fill=\"white\" stroke=\"none\" points=\"-4,4 -4,-696.27 51.25,-696.27 51.25,4 -4,4\"/>\n",
       "<!-- __main__.BST object at 0x0000024484537C70 -->\n",
       "<g id=\"node1\" class=\"node\">\n",
       "<title>__main__.BST object at 0x0000024484537C70</title>\n",
       "<ellipse fill=\"none\" stroke=\"black\" cx=\"23.63\" cy=\"-674.27\" rx=\"18\" ry=\"18\"/>\n",
       "<text text-anchor=\"middle\" x=\"23.63\" y=\"-668.85\" font-family=\"Times New Roman,serif\" font-size=\"14.00\">1</text>\n",
       "</g>\n",
       "<!-- __main__.BST object at 0x00000244845377F0 -->\n",
       "<g id=\"node2\" class=\"node\">\n",
       "<title>__main__.BST object at 0x00000244845377F0</title>\n",
       "<ellipse fill=\"seashell\" stroke=\"black\" cx=\"23.63\" cy=\"-598.27\" rx=\"18\" ry=\"18\"/>\n",
       "<ellipse fill=\"none\" stroke=\"black\" cx=\"23.63\" cy=\"-598.27\" rx=\"22\" ry=\"22\"/>\n",
       "<text text-anchor=\"middle\" x=\"23.63\" y=\"-592.85\" font-family=\"Times New Roman,serif\" font-size=\"14.00\">2</text>\n",
       "</g>\n",
       "<!-- __main__.BST object at 0x0000024484537C70&#45;&gt;__main__.BST object at 0x00000244845377F0 -->\n",
       "<g id=\"edge1\" class=\"edge\">\n",
       "<title>__main__.BST object at 0x0000024484537C70&#45;&gt;__main__.BST object at 0x00000244845377F0</title>\n",
       "<path fill=\"none\" stroke=\"black\" d=\"M23.63,-656.11C23.63,-648.75 23.63,-639.9 23.63,-631.4\"/>\n",
       "<polygon fill=\"black\" stroke=\"black\" points=\"27.13,-631.58 23.63,-621.58 20.13,-631.58 27.13,-631.58\"/>\n",
       "</g>\n",
       "<!-- __main__.BST object at 0x0000024484537910 -->\n",
       "<g id=\"node3\" class=\"node\">\n",
       "<title>__main__.BST object at 0x0000024484537910</title>\n",
       "<ellipse fill=\"seashell\" stroke=\"black\" cx=\"23.63\" cy=\"-518.27\" rx=\"18\" ry=\"18\"/>\n",
       "<ellipse fill=\"none\" stroke=\"black\" cx=\"23.63\" cy=\"-518.27\" rx=\"22\" ry=\"22\"/>\n",
       "<text text-anchor=\"middle\" x=\"23.63\" y=\"-512.85\" font-family=\"Times New Roman,serif\" font-size=\"14.00\">4</text>\n",
       "</g>\n",
       "<!-- __main__.BST object at 0x00000244845377F0&#45;&gt;__main__.BST object at 0x0000024484537910 -->\n",
       "<g id=\"edge2\" class=\"edge\">\n",
       "<title>__main__.BST object at 0x00000244845377F0&#45;&gt;__main__.BST object at 0x0000024484537910</title>\n",
       "<path fill=\"none\" stroke=\"black\" d=\"M23.63,-575.96C23.63,-568.39 23.63,-559.7 23.63,-551.43\"/>\n",
       "<polygon fill=\"black\" stroke=\"black\" points=\"27.13,-551.56 23.63,-541.56 20.13,-551.56 27.13,-551.56\"/>\n",
       "</g>\n",
       "<!-- __main__.BST object at 0x0000024484537DF0 -->\n",
       "<g id=\"node4\" class=\"node\">\n",
       "<title>__main__.BST object at 0x0000024484537DF0</title>\n",
       "<ellipse fill=\"seashell\" stroke=\"black\" cx=\"23.63\" cy=\"-438.27\" rx=\"18\" ry=\"18\"/>\n",
       "<ellipse fill=\"none\" stroke=\"black\" cx=\"23.63\" cy=\"-438.27\" rx=\"22\" ry=\"22\"/>\n",
       "<text text-anchor=\"middle\" x=\"23.63\" y=\"-432.85\" font-family=\"Times New Roman,serif\" font-size=\"14.00\">9</text>\n",
       "</g>\n",
       "<!-- __main__.BST object at 0x0000024484537910&#45;&gt;__main__.BST object at 0x0000024484537DF0 -->\n",
       "<g id=\"edge3\" class=\"edge\">\n",
       "<title>__main__.BST object at 0x0000024484537910&#45;&gt;__main__.BST object at 0x0000024484537DF0</title>\n",
       "<path fill=\"none\" stroke=\"black\" d=\"M23.63,-495.96C23.63,-488.39 23.63,-479.7 23.63,-471.43\"/>\n",
       "<polygon fill=\"black\" stroke=\"black\" points=\"27.13,-471.56 23.63,-461.56 20.13,-471.56 27.13,-471.56\"/>\n",
       "</g>\n",
       "<!-- __main__.BST object at 0x0000024484537C10 -->\n",
       "<g id=\"node5\" class=\"node\">\n",
       "<title>__main__.BST object at 0x0000024484537C10</title>\n",
       "<ellipse fill=\"seashell\" stroke=\"black\" cx=\"23.63\" cy=\"-356.64\" rx=\"19.63\" ry=\"19.63\"/>\n",
       "<ellipse fill=\"none\" stroke=\"black\" cx=\"23.63\" cy=\"-356.64\" rx=\"23.63\" ry=\"23.63\"/>\n",
       "<text text-anchor=\"middle\" x=\"23.63\" y=\"-351.22\" font-family=\"Times New Roman,serif\" font-size=\"14.00\">13</text>\n",
       "</g>\n",
       "<!-- __main__.BST object at 0x0000024484537DF0&#45;&gt;__main__.BST object at 0x0000024484537C10 -->\n",
       "<g id=\"edge4\" class=\"edge\">\n",
       "<title>__main__.BST object at 0x0000024484537DF0&#45;&gt;__main__.BST object at 0x0000024484537C10</title>\n",
       "<path fill=\"none\" stroke=\"black\" d=\"M23.63,-415.93C23.63,-408.46 23.63,-399.87 23.63,-391.62\"/>\n",
       "<polygon fill=\"black\" stroke=\"black\" points=\"27.13,-391.72 23.63,-381.72 20.13,-391.72 27.13,-391.72\"/>\n",
       "</g>\n",
       "<!-- __main__.BST object at 0x0000024484537430 -->\n",
       "<g id=\"node6\" class=\"node\">\n",
       "<title>__main__.BST object at 0x0000024484537430</title>\n",
       "<ellipse fill=\"seashell\" stroke=\"black\" cx=\"23.63\" cy=\"-273.39\" rx=\"19.63\" ry=\"19.63\"/>\n",
       "<ellipse fill=\"none\" stroke=\"black\" cx=\"23.63\" cy=\"-273.39\" rx=\"23.63\" ry=\"23.63\"/>\n",
       "<text text-anchor=\"middle\" x=\"23.63\" y=\"-267.97\" font-family=\"Times New Roman,serif\" font-size=\"14.00\">21</text>\n",
       "</g>\n",
       "<!-- __main__.BST object at 0x0000024484537C10&#45;&gt;__main__.BST object at 0x0000024484537430 -->\n",
       "<g id=\"edge5\" class=\"edge\">\n",
       "<title>__main__.BST object at 0x0000024484537C10&#45;&gt;__main__.BST object at 0x0000024484537430</title>\n",
       "<path fill=\"none\" stroke=\"black\" d=\"M23.63,-332.58C23.63,-325.03 23.63,-316.48 23.63,-308.3\"/>\n",
       "<polygon fill=\"black\" stroke=\"black\" points=\"27.13,-308.51 23.63,-298.51 20.13,-308.51 27.13,-308.51\"/>\n",
       "</g>\n",
       "<!-- __main__.BST object at 0x0000024484537940 -->\n",
       "<g id=\"node7\" class=\"node\">\n",
       "<title>__main__.BST object at 0x0000024484537940</title>\n",
       "<ellipse fill=\"seashell\" stroke=\"black\" cx=\"23.63\" cy=\"-190.14\" rx=\"19.63\" ry=\"19.63\"/>\n",
       "<ellipse fill=\"none\" stroke=\"black\" cx=\"23.63\" cy=\"-190.14\" rx=\"23.63\" ry=\"23.63\"/>\n",
       "<text text-anchor=\"middle\" x=\"23.63\" y=\"-184.71\" font-family=\"Times New Roman,serif\" font-size=\"14.00\">51</text>\n",
       "</g>\n",
       "<!-- __main__.BST object at 0x0000024484537430&#45;&gt;__main__.BST object at 0x0000024484537940 -->\n",
       "<g id=\"edge6\" class=\"edge\">\n",
       "<title>__main__.BST object at 0x0000024484537430&#45;&gt;__main__.BST object at 0x0000024484537940</title>\n",
       "<path fill=\"none\" stroke=\"black\" d=\"M23.63,-249.32C23.63,-241.78 23.63,-233.23 23.63,-225.05\"/>\n",
       "<polygon fill=\"black\" stroke=\"black\" points=\"27.13,-225.26 23.63,-215.26 20.13,-225.26 27.13,-225.26\"/>\n",
       "</g>\n",
       "<!-- __main__.BST object at 0x00000244845376A0 -->\n",
       "<g id=\"node8\" class=\"node\">\n",
       "<title>__main__.BST object at 0x00000244845376A0</title>\n",
       "<ellipse fill=\"seashell\" stroke=\"black\" cx=\"23.63\" cy=\"-106.88\" rx=\"19.63\" ry=\"19.63\"/>\n",
       "<ellipse fill=\"none\" stroke=\"black\" cx=\"23.63\" cy=\"-106.88\" rx=\"23.63\" ry=\"23.63\"/>\n",
       "<text text-anchor=\"middle\" x=\"23.63\" y=\"-101.46\" font-family=\"Times New Roman,serif\" font-size=\"14.00\">71</text>\n",
       "</g>\n",
       "<!-- __main__.BST object at 0x0000024484537940&#45;&gt;__main__.BST object at 0x00000244845376A0 -->\n",
       "<g id=\"edge7\" class=\"edge\">\n",
       "<title>__main__.BST object at 0x0000024484537940&#45;&gt;__main__.BST object at 0x00000244845376A0</title>\n",
       "<path fill=\"none\" stroke=\"black\" d=\"M23.63,-166.07C23.63,-158.52 23.63,-149.97 23.63,-141.8\"/>\n",
       "<polygon fill=\"black\" stroke=\"black\" points=\"27.13,-142.01 23.63,-132.01 20.13,-142.01 27.13,-142.01\"/>\n",
       "</g>\n",
       "<!-- __main__.BST object at 0x0000024484537760 -->\n",
       "<g id=\"node9\" class=\"node\">\n",
       "<title>__main__.BST object at 0x0000024484537760</title>\n",
       "<ellipse fill=\"seashell\" stroke=\"black\" cx=\"23.63\" cy=\"-23.63\" rx=\"19.63\" ry=\"19.63\"/>\n",
       "<ellipse fill=\"none\" stroke=\"black\" cx=\"23.63\" cy=\"-23.63\" rx=\"23.63\" ry=\"23.63\"/>\n",
       "<text text-anchor=\"middle\" x=\"23.63\" y=\"-18.2\" font-family=\"Times New Roman,serif\" font-size=\"14.00\">82</text>\n",
       "</g>\n",
       "<!-- __main__.BST object at 0x00000244845376A0&#45;&gt;__main__.BST object at 0x0000024484537760 -->\n",
       "<g id=\"edge8\" class=\"edge\">\n",
       "<title>__main__.BST object at 0x00000244845376A0&#45;&gt;__main__.BST object at 0x0000024484537760</title>\n",
       "<path fill=\"none\" stroke=\"black\" d=\"M23.63,-82.81C23.63,-75.27 23.63,-66.72 23.63,-58.54\"/>\n",
       "<polygon fill=\"black\" stroke=\"black\" points=\"27.13,-58.75 23.63,-48.75 20.13,-58.75 27.13,-58.75\"/>\n",
       "</g>\n",
       "</g>\n",
       "</svg>\n"
      ],
      "text/plain": [
       "<graphviz.graphs.Digraph at 0x244844a55b0>"
      ]
     },
     "metadata": {},
     "output_type": "display_data"
    }
   ],
   "source": [
    "visualize_tree(n)"
   ]
  },
  {
   "cell_type": "code",
   "execution_count": 24,
   "id": "06efb570",
   "metadata": {},
   "outputs": [
    {
     "data": {
      "text/plain": [
       "'IF ROOT IS AT START IT IS PRE ORDER TRAVERSAL \\nIF ROOT IS AT MID IT IS MID ORDER TRAVERSAL\\nIF ROOT IS AT END IT IS IN ORDER TRAVERSAL'"
      ]
     },
     "execution_count": 24,
     "metadata": {},
     "output_type": "execute_result"
    }
   ],
   "source": [
    "def dfs_pre_order(self): #depth first search\n",
    "    if self.val is None:\n",
    "        return    \n",
    "    else:\n",
    "        print(self.val)\n",
    "        \n",
    "        if self.right:\n",
    "            self.right.dfs_pre_order()\n",
    "        if self.left:\n",
    "            self.left.dfs_pre_order()\n",
    "    return \n",
    "TreeNode.dfs_pre_order=dfs_pre_order\n",
    "\"\"\"IF ROOT IS AT START IT IS PRE ORDER TRAVERSAL \n",
    "IF ROOT IS AT MID IT IS MID ORDER TRAVERSAL\n",
    "IF ROOT IS AT END IT IS IN ORDER TRAVERSAL\"\"\""
   ]
  },
  {
   "cell_type": "code",
   "execution_count": 25,
   "id": "3bbd1445",
   "metadata": {},
   "outputs": [
    {
     "name": "stdout",
     "output_type": "stream",
     "text": [
      "1\n",
      "2\n",
      "4\n",
      "9\n",
      "13\n",
      "21\n",
      "51\n",
      "71\n",
      "82\n"
     ]
    }
   ],
   "source": [
    "n.dfs_pre_order()"
   ]
  },
  {
   "cell_type": "code",
   "execution_count": 26,
   "id": "61a8534a",
   "metadata": {},
   "outputs": [
    {
     "data": {
      "text/plain": [
       "'IF YOU INSERTED SORTED ELEMENT IN BST IT I HAS NO BENEFIT NOW YOY HAVE TO COVER DEPTH TO CHECK ELEMENT\\n     NOW WE DO ROTATION WHICH MAKE RB TRESS AND AVL TREES'"
      ]
     },
     "execution_count": 26,
     "metadata": {},
     "output_type": "execute_result"
    }
   ],
   "source": [
    "   \"\"\"IF YOU INSERTED SORTED ELEMENT IN BST IT I HAS NO BENEFIT NOW YOY HAVE TO COVER DEPTH TO CHECK ELEMENT\n",
    "        NOW WE DO ROTATION WHICH MAKE RB TRESS AND AVL TREES\"\"\""
   ]
  },
  {
   "cell_type": "code",
   "execution_count": null,
   "id": "512cdf1d",
   "metadata": {},
   "outputs": [],
   "source": []
  },
  {
   "cell_type": "code",
   "execution_count": null,
   "id": "60745b47",
   "metadata": {},
   "outputs": [],
   "source": []
  }
 ],
 "metadata": {
  "kernelspec": {
   "display_name": "Python 3 (ipykernel)",
   "language": "python",
   "name": "python3"
  },
  "language_info": {
   "codemirror_mode": {
    "name": "ipython",
    "version": 3
   },
   "file_extension": ".py",
   "mimetype": "text/x-python",
   "name": "python",
   "nbconvert_exporter": "python",
   "pygments_lexer": "ipython3",
   "version": "3.9.13"
  }
 },
 "nbformat": 4,
 "nbformat_minor": 5
}

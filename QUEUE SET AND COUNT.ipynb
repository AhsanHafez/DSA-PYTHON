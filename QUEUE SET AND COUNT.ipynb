{
 "cells": [
  {
   "cell_type": "markdown",
   "id": "b21cfc50",
   "metadata": {},
   "source": [
    "# QUEUE"
   ]
  },
  {
   "cell_type": "code",
   "execution_count": 1,
   "id": "056117e8",
   "metadata": {},
   "outputs": [],
   "source": [
    "class Queue:\n",
    "    def __init__(self):\n",
    "        self.size=5\n",
    "        self.q=list(range(self.size))\n",
    "        self.i=0\n",
    "        self.o=0\n",
    "        self.is_full=False\n",
    "        self.is_empty=True"
   ]
  },
  {
   "cell_type": "code",
   "execution_count": 2,
   "id": "91475cea",
   "metadata": {},
   "outputs": [],
   "source": [
    "q=Queue()"
   ]
  },
  {
   "cell_type": "code",
   "execution_count": 3,
   "id": "6d7066cc",
   "metadata": {},
   "outputs": [],
   "source": [
    "def inc(self,val):\n",
    "    if val+1==self.size:\n",
    "        val=0\n",
    "    else:\n",
    "        val+=1\n",
    "    return val\n",
    "Queue.inc=inc"
   ]
  },
  {
   "cell_type": "code",
   "execution_count": 4,
   "id": "1d8454c7",
   "metadata": {},
   "outputs": [],
   "source": [
    "def enqueue(self,val):\n",
    "    if self.is_full:\n",
    "        raise Exception(\"CANNOT ENQUEUE ON FULL LIST\")\n",
    "    else:\n",
    "        self.q[self.i]=val\n",
    "        self.i=self.inc(self.i)\n",
    "    \n",
    "    if self.i==self.o:\n",
    "        self.is_full=True\n",
    "    self.is_empty=False\n",
    "Queue.enqueue=enqueue"
   ]
  },
  {
   "cell_type": "code",
   "execution_count": 5,
   "id": "47bdd05e",
   "metadata": {},
   "outputs": [],
   "source": [
    "def dequeue(self):\n",
    "    if self.is_empty:\n",
    "        raise Exception(\"CANNOT DEQUEUE FROM EMPTY LIST\")\n",
    "    else:\n",
    "        val=self.q[self.o]\n",
    "        self.o=self.inc(self.o)\n",
    "    if self.o==self.i:\n",
    "        self.is_empty=True\n",
    "    self.is_full=False\n",
    "    return val\n",
    "Queue.dequeue=dequeue"
   ]
  },
  {
   "cell_type": "code",
   "execution_count": 6,
   "id": "7311ac76",
   "metadata": {},
   "outputs": [],
   "source": [
    "def __str__(self):\n",
    "    return str(self.q)+\" , in: \" +str(self.i) + \" , out:\" + str(self.o)\n",
    "Queue.__str__=__str__"
   ]
  },
  {
   "cell_type": "code",
   "execution_count": 7,
   "id": "8dd31dd6",
   "metadata": {},
   "outputs": [
    {
     "name": "stdout",
     "output_type": "stream",
     "text": [
      "[32, 33, 34, 35, 36] , in: 0 , out:0\n"
     ]
    }
   ],
   "source": [
    "q=Queue()\n",
    "q.enqueue(32)\n",
    "q.enqueue(33)\n",
    "q.enqueue(34)\n",
    "q.enqueue(35)\n",
    "q.enqueue(36)\n",
    "#q.enqueue(32)  #error\n",
    "print(q)"
   ]
  },
  {
   "cell_type": "code",
   "execution_count": 8,
   "id": "ecd46221",
   "metadata": {},
   "outputs": [
    {
     "name": "stdout",
     "output_type": "stream",
     "text": [
      "32\n",
      "33\n",
      "34\n",
      "35\n",
      "36\n"
     ]
    }
   ],
   "source": [
    "print(q.dequeue())\n",
    "print(q.dequeue())\n",
    "print(q.dequeue())\n",
    "print(q.dequeue())\n",
    "print(q.dequeue())\n",
    "#print(q.dequeue())  #error"
   ]
  },
  {
   "cell_type": "markdown",
   "id": "73b23e7b",
   "metadata": {},
   "source": [
    "# sets and basic operation"
   ]
  },
  {
   "cell_type": "code",
   "execution_count": 9,
   "id": "fec762e5",
   "metadata": {},
   "outputs": [
    {
     "name": "stdout",
     "output_type": "stream",
     "text": [
      "{'foo', 'bar', 'baz', 'qux'}\n"
     ]
    }
   ],
   "source": [
    "x=set([\"foo\",\"bar\",\"baz\",\"foo\",\"qux\"])\n",
    "print(x)"
   ]
  },
  {
   "cell_type": "code",
   "execution_count": 10,
   "id": "33e61cc5",
   "metadata": {},
   "outputs": [],
   "source": [
    "s=\"quux\"\n",
    "s=set(s)"
   ]
  },
  {
   "cell_type": "code",
   "execution_count": 11,
   "id": "3bfdcaa5",
   "metadata": {},
   "outputs": [
    {
     "name": "stdout",
     "output_type": "stream",
     "text": [
      "{'x', 'q', 'u'}\n"
     ]
    }
   ],
   "source": [
    "print(s)"
   ]
  },
  {
   "cell_type": "code",
   "execution_count": 12,
   "id": "70c6a5a5",
   "metadata": {},
   "outputs": [],
   "source": [
    "x={\"foo\",\"bar\",\"baz\",\"foo\",\"qux\"}"
   ]
  },
  {
   "cell_type": "code",
   "execution_count": 13,
   "id": "5b5e9b43",
   "metadata": {},
   "outputs": [
    {
     "name": "stdout",
     "output_type": "stream",
     "text": [
      "{'foo', 'bar', 'baz', 'qux'}\n"
     ]
    }
   ],
   "source": [
    "print(x)"
   ]
  },
  {
   "cell_type": "code",
   "execution_count": 14,
   "id": "da75e1eb",
   "metadata": {},
   "outputs": [],
   "source": [
    "x={\"foo\",\"bar\",\"baz\"}"
   ]
  },
  {
   "cell_type": "code",
   "execution_count": 15,
   "id": "3c128a9c",
   "metadata": {},
   "outputs": [
    {
     "name": "stdout",
     "output_type": "stream",
     "text": [
      "{'foo', 'bar', 'baz'}\n"
     ]
    }
   ],
   "source": [
    "print(x)"
   ]
  },
  {
   "cell_type": "code",
   "execution_count": 16,
   "id": "bae1230b",
   "metadata": {},
   "outputs": [
    {
     "data": {
      "text/plain": [
       "True"
      ]
     },
     "execution_count": 16,
     "metadata": {},
     "output_type": "execute_result"
    }
   ],
   "source": [
    "\"foo\" in x"
   ]
  },
  {
   "cell_type": "code",
   "execution_count": 17,
   "id": "a8549722",
   "metadata": {},
   "outputs": [],
   "source": [
    "x1={1,2,3,4}\n",
    "x2={5,6,7,8,9,11}"
   ]
  },
  {
   "cell_type": "code",
   "execution_count": 18,
   "id": "6a949084",
   "metadata": {},
   "outputs": [
    {
     "data": {
      "text/plain": [
       "{1, 2, 3, 4, 5, 6, 7, 8, 9, 11}"
      ]
     },
     "execution_count": 18,
     "metadata": {},
     "output_type": "execute_result"
    }
   ],
   "source": [
    "x1|x2\n",
    "x1.union(x2)#alternatives"
   ]
  },
  {
   "cell_type": "code",
   "execution_count": 19,
   "id": "a6936aa1",
   "metadata": {},
   "outputs": [
    {
     "data": {
      "text/plain": [
       "set()"
      ]
     },
     "execution_count": 19,
     "metadata": {},
     "output_type": "execute_result"
    }
   ],
   "source": [
    "x1.intersection(x2)"
   ]
  },
  {
   "cell_type": "code",
   "execution_count": 20,
   "id": "1cafc61d",
   "metadata": {},
   "outputs": [
    {
     "data": {
      "text/plain": [
       "{5, 6, 7, 8, 9, 11}"
      ]
     },
     "execution_count": 20,
     "metadata": {},
     "output_type": "execute_result"
    }
   ],
   "source": [
    "x2.difference(x1) #show element of x2 which are not in x1"
   ]
  },
  {
   "cell_type": "code",
   "execution_count": 21,
   "id": "610fab6c",
   "metadata": {},
   "outputs": [
    {
     "data": {
      "text/plain": [
       "True"
      ]
     },
     "execution_count": 21,
     "metadata": {},
     "output_type": "execute_result"
    }
   ],
   "source": [
    "x1.isdisjoint(x2) #if intersection is zero sets are disjoint"
   ]
  },
  {
   "cell_type": "code",
   "execution_count": 24,
   "id": "5c6799d2",
   "metadata": {},
   "outputs": [
    {
     "name": "stdout",
     "output_type": "stream",
     "text": [
      "False\n",
      "False\n",
      "False\n"
     ]
    }
   ],
   "source": [
    "a={1,2}\n",
    "b={1,2,3,4,5,6}\n",
    "c={1,2}\n",
    "print(a.issubset(b))\n",
    "print(a.issubset(c))\n",
    "print(b.issubset(c))"
   ]
  },
  {
   "cell_type": "code",
   "execution_count": 25,
   "id": "30d270c6",
   "metadata": {},
   "outputs": [
    {
     "data": {
      "text/plain": [
       "False"
      ]
     },
     "execution_count": 25,
     "metadata": {},
     "output_type": "execute_result"
    }
   ],
   "source": [
    "a<b  #proper subset"
   ]
  },
  {
   "cell_type": "code",
   "execution_count": 24,
   "id": "fb2e19fd",
   "metadata": {},
   "outputs": [
    {
     "name": "stdout",
     "output_type": "stream",
     "text": [
      "{1, 2, 5}\n"
     ]
    }
   ],
   "source": [
    "a.update([5])\n",
    "print(a)"
   ]
  },
  {
   "cell_type": "code",
   "execution_count": 25,
   "id": "a62680d3",
   "metadata": {},
   "outputs": [
    {
     "name": "stdout",
     "output_type": "stream",
     "text": [
      "{2, 5}\n"
     ]
    }
   ],
   "source": [
    "a.remove(1)\n",
    "print(a)"
   ]
  },
  {
   "cell_type": "markdown",
   "id": "896a8dc7",
   "metadata": {},
   "source": [
    "#  ANY AND ALL KEY WORDS"
   ]
  },
  {
   "cell_type": "code",
   "execution_count": 26,
   "id": "3093d2b3",
   "metadata": {},
   "outputs": [
    {
     "name": "stdout",
     "output_type": "stream",
     "text": [
      "ALL CONTRAINTS SATISFIED\n"
     ]
    }
   ],
   "source": [
    "a=5\n",
    "b=4 #bag is unordered data type with duplication allowed\n",
    "if a>2 and a<10 and b<10:\n",
    "    print(\"ALL CONTRAINTS SATISFIED\")"
   ]
  },
  {
   "cell_type": "code",
   "execution_count": 31,
   "id": "a06c3c6f",
   "metadata": {},
   "outputs": [],
   "source": [
    "constraint={a>2,a<10,b>0,b<5}"
   ]
  },
  {
   "cell_type": "code",
   "execution_count": 27,
   "id": "91560653",
   "metadata": {},
   "outputs": [
    {
     "ename": "NameError",
     "evalue": "name 'constraint' is not defined",
     "output_type": "error",
     "traceback": [
      "\u001b[1;31m---------------------------------------------------------------------------\u001b[0m",
      "\u001b[1;31mNameError\u001b[0m                                 Traceback (most recent call last)",
      "\u001b[1;32m~\\AppData\\Local\\Temp\\ipykernel_8008\\1093408181.py\u001b[0m in \u001b[0;36m<module>\u001b[1;34m\u001b[0m\n\u001b[1;32m----> 1\u001b[1;33m \u001b[1;32mif\u001b[0m \u001b[0mall\u001b[0m\u001b[1;33m(\u001b[0m\u001b[0mconstraint\u001b[0m\u001b[1;33m)\u001b[0m\u001b[1;33m:\u001b[0m\u001b[1;33m\u001b[0m\u001b[1;33m\u001b[0m\u001b[0m\n\u001b[0m\u001b[0;32m      2\u001b[0m     \u001b[0mprint\u001b[0m\u001b[1;33m(\u001b[0m\u001b[1;34m\"ALL CONSTRAINT SATISFIED\"\u001b[0m\u001b[1;33m)\u001b[0m\u001b[1;33m\u001b[0m\u001b[1;33m\u001b[0m\u001b[0m\n",
      "\u001b[1;31mNameError\u001b[0m: name 'constraint' is not defined"
     ]
    }
   ],
   "source": [
    "if all(constraint):\n",
    "    print(\"ALL CONSTRAINT SATISFIED\")"
   ]
  },
  {
   "cell_type": "code",
   "execution_count": null,
   "id": "3247057f",
   "metadata": {},
   "outputs": [],
   "source": [
    "if any(constraint):\n",
    "    print(\"AT LEAST ONE  CONSTRAINT IS SATISFIED\")"
   ]
  },
  {
   "cell_type": "markdown",
   "id": "6acba135",
   "metadata": {},
   "source": [
    "# QUANTIFIER"
   ]
  },
  {
   "cell_type": "code",
   "execution_count": 28,
   "id": "4f090c9d",
   "metadata": {},
   "outputs": [],
   "source": [
    "B={10,20,30,40,50 }"
   ]
  },
  {
   "cell_type": "markdown",
   "id": "9adebe32",
   "metadata": {},
   "source": [
    "# ∀X∈B,X<100   means all element is smaller than 100"
   ]
  },
  {
   "cell_type": "code",
   "execution_count": 29,
   "id": "a8d7edf0",
   "metadata": {},
   "outputs": [
    {
     "data": {
      "text/plain": [
       "True"
      ]
     },
     "execution_count": 29,
     "metadata": {},
     "output_type": "execute_result"
    }
   ],
   "source": [
    "all([x<100 for x in B])"
   ]
  },
  {
   "cell_type": "markdown",
   "id": "0ec2b9d1",
   "metadata": {},
   "source": [
    "# ∃X∈B,X<50  means each element is smaller than 50"
   ]
  },
  {
   "cell_type": "code",
   "execution_count": 32,
   "id": "46f76e95",
   "metadata": {},
   "outputs": [
    {
     "data": {
      "text/plain": [
       "False"
      ]
     },
     "execution_count": 32,
     "metadata": {},
     "output_type": "execute_result"
    }
   ],
   "source": [
    "all([x<50 for x in B])"
   ]
  },
  {
   "cell_type": "code",
   "execution_count": 33,
   "id": "a8a609a8",
   "metadata": {},
   "outputs": [],
   "source": [
    "def div_by_20(n):\n",
    "    return n%20==0"
   ]
  },
  {
   "cell_type": "markdown",
   "id": "2ad30e4b",
   "metadata": {},
   "source": [
    "# ∃X∈B,X is div_by_20       means each element is divisble than 20"
   ]
  },
  {
   "cell_type": "code",
   "execution_count": 34,
   "id": "5aa2071a",
   "metadata": {},
   "outputs": [
    {
     "data": {
      "text/plain": [
       "True"
      ]
     },
     "execution_count": 34,
     "metadata": {},
     "output_type": "execute_result"
    }
   ],
   "source": [
    "any([div_by_20(x) for x in B])"
   ]
  },
  {
   "cell_type": "code",
   "execution_count": 41,
   "id": "3c8a8523",
   "metadata": {},
   "outputs": [
    {
     "data": {
      "text/plain": [
       "False"
      ]
     },
     "execution_count": 41,
     "metadata": {},
     "output_type": "execute_result"
    }
   ],
   "source": [
    "all([div_by_20(x) for x in B])"
   ]
  },
  {
   "cell_type": "code",
   "execution_count": 36,
   "id": "08426eb4",
   "metadata": {},
   "outputs": [],
   "source": [
    "from collections import Counter"
   ]
  },
  {
   "cell_type": "code",
   "execution_count": 37,
   "id": "73e98f6c",
   "metadata": {},
   "outputs": [],
   "source": [
    "cnt=Counter()\n",
    "for word in [\"red\",\"blue\",\"blue\",\"blue\",\"red\",\"green\",\"yellow\"]:\n",
    "    cnt[word]+=1"
   ]
  },
  {
   "cell_type": "code",
   "execution_count": 38,
   "id": "707ac6e6",
   "metadata": {},
   "outputs": [
    {
     "data": {
      "text/plain": [
       "Counter({'red': 2, 'blue': 3, 'green': 1, 'yellow': 1})"
      ]
     },
     "execution_count": 38,
     "metadata": {},
     "output_type": "execute_result"
    }
   ],
   "source": [
    "cnt"
   ]
  },
  {
   "cell_type": "code",
   "execution_count": 39,
   "id": "07fbfda1",
   "metadata": {},
   "outputs": [
    {
     "data": {
      "text/plain": [
       "0"
      ]
     },
     "execution_count": 39,
     "metadata": {},
     "output_type": "execute_result"
    }
   ],
   "source": [
    "cnt[\"orange\"]"
   ]
  },
  {
   "cell_type": "code",
   "execution_count": 40,
   "id": "5ef96aae",
   "metadata": {},
   "outputs": [
    {
     "data": {
      "text/plain": [
       "[('blue', 3), ('red', 2), ('green', 1), ('yellow', 1)]"
      ]
     },
     "execution_count": 40,
     "metadata": {},
     "output_type": "execute_result"
    }
   ],
   "source": [
    "cnt.most_common(4)"
   ]
  },
  {
   "cell_type": "code",
   "execution_count": 45,
   "id": "9052facc",
   "metadata": {},
   "outputs": [],
   "source": [
    "cn=Counter()\n",
    "sentence='''A wondeful scenery has taken possession of my entire soul , like these sweet mornings of spring which I enjoy\n",
    "            with my whole heart I am alone and feel the charm of existence in this spot,ehich was created for the\n",
    "            bliss of souls like mine i am so happy'''\n",
    "for word in sentence.split():\n",
    "    cn[word]+=1"
   ]
  },
  {
   "cell_type": "code",
   "execution_count": 46,
   "id": "99194258",
   "metadata": {},
   "outputs": [
    {
     "data": {
      "text/plain": [
       "[('of', 4),\n",
       " ('my', 2),\n",
       " ('like', 2),\n",
       " ('I', 2),\n",
       " ('am', 2),\n",
       " ('the', 2),\n",
       " ('A', 1),\n",
       " ('wondeful', 1),\n",
       " ('scenery', 1),\n",
       " ('has', 1),\n",
       " ('taken', 1),\n",
       " ('possession', 1),\n",
       " ('entire', 1),\n",
       " ('soul', 1),\n",
       " (',', 1),\n",
       " ('these', 1),\n",
       " ('sweet', 1),\n",
       " ('mornings', 1),\n",
       " ('spring', 1),\n",
       " ('which', 1),\n",
       " ('enjoy', 1),\n",
       " ('with', 1),\n",
       " ('whole', 1),\n",
       " ('heart', 1),\n",
       " ('alone', 1),\n",
       " ('and', 1),\n",
       " ('feel', 1),\n",
       " ('charm', 1),\n",
       " ('existence', 1),\n",
       " ('in', 1),\n",
       " ('this', 1),\n",
       " ('spot,ehich', 1),\n",
       " ('was', 1),\n",
       " ('created', 1),\n",
       " ('for', 1),\n",
       " ('bliss', 1),\n",
       " ('souls', 1),\n",
       " ('mine', 1),\n",
       " ('i', 1),\n",
       " ('so', 1),\n",
       " ('happy', 1)]"
      ]
     },
     "execution_count": 46,
     "metadata": {},
     "output_type": "execute_result"
    }
   ],
   "source": [
    "cn.most_common()"
   ]
  },
  {
   "cell_type": "code",
   "execution_count": 47,
   "id": "972f5f23",
   "metadata": {},
   "outputs": [
    {
     "data": {
      "text/plain": [
       "'of'"
      ]
     },
     "execution_count": 47,
     "metadata": {},
     "output_type": "execute_result"
    }
   ],
   "source": [
    "cn.most_common(4)[0][0]  #alternative for most common"
   ]
  },
  {
   "cell_type": "code",
   "execution_count": 48,
   "id": "aa696174",
   "metadata": {},
   "outputs": [
    {
     "data": {
      "text/plain": [
       "('I', 2)"
      ]
     },
     "execution_count": 48,
     "metadata": {},
     "output_type": "execute_result"
    }
   ],
   "source": [
    "cn.most_common(4)[-1]    #least occurence"
   ]
  },
  {
   "cell_type": "code",
   "execution_count": null,
   "id": "c5ea2957",
   "metadata": {},
   "outputs": [],
   "source": []
  }
 ],
 "metadata": {
  "kernelspec": {
   "display_name": "Python 3 (ipykernel)",
   "language": "python",
   "name": "python3"
  },
  "language_info": {
   "codemirror_mode": {
    "name": "ipython",
    "version": 3
   },
   "file_extension": ".py",
   "mimetype": "text/x-python",
   "name": "python",
   "nbconvert_exporter": "python",
   "pygments_lexer": "ipython3",
   "version": "3.9.13"
  }
 },
 "nbformat": 4,
 "nbformat_minor": 5
}

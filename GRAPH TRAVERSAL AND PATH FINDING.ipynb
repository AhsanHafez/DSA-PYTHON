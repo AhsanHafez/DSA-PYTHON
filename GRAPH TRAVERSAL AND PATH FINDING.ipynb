{
 "cells": [
  {
   "cell_type": "code",
   "execution_count": null,
   "id": "7c79433a",
   "metadata": {},
   "outputs": [],
   "source": []
  },
  {
   "cell_type": "code",
   "execution_count": 1,
   "id": "157c51b3",
   "metadata": {},
   "outputs": [
    {
     "name": "stdout",
     "output_type": "stream",
     "text": [
      "Requirement already satisfied: networkx in c:\\users\\ok\\anaconda3\\new folder\\lib\\site-packages (2.8.4)\n",
      "Note: you may need to restart the kernel to use updated packages.\n"
     ]
    }
   ],
   "source": [
    "pip install networkx\n"
   ]
  },
  {
   "cell_type": "code",
   "execution_count": 2,
   "id": "ee2d4264",
   "metadata": {},
   "outputs": [],
   "source": [
    "import networkx as nx\n",
    "import matplotlib.pyplot as plt\n",
    "\n",
    "%matplotlib inline\n",
    "import warnings\n",
    "warnings.filterwarnings(\"ignore\")"
   ]
  },
  {
   "cell_type": "code",
   "execution_count": 3,
   "id": "c00a74f4",
   "metadata": {},
   "outputs": [],
   "source": [
    "class DiGraph:\n",
    "    def __init__(self):\n",
    "        self.graph={} #g=graph\n",
    "    def add_node(self,node):\n",
    "        if node in self.graph:\n",
    "            raise ValueError(\"SOURCE NODE ALREADY IN GRAPH\")\n",
    "        self.graph[node]=[]\n",
    "    def add_edge(self,source,destination):\n",
    "        if source not in self.graph or destination not in self.graph:#sanity check\n",
    "            raise Exception(\"NODES DOESNOT EXIST\")\n",
    "        if destination not in self.graph[source]:\n",
    "            self.graph[source].append(destination)\n",
    "  "
   ]
  },
  {
   "cell_type": "code",
   "execution_count": 4,
   "id": "7f076306",
   "metadata": {},
   "outputs": [],
   "source": [
    "import networkx as nx\n",
    "import matplotlib.pyplot as plt\n",
    "\n",
    "def visualize_graph(graph):\n",
    "    G = nx.DiGraph()\n",
    "\n",
    "    # Add nodes to the graph\n",
    "    for node in graph.graph.keys():\n",
    "        G.add_node(node)\n",
    "\n",
    "    # Add edges to the graph\n",
    "    for source, destinations in graph.graph.items():\n",
    "        for destination in destinations:\n",
    "            G.add_edge(source, destination)\n",
    "\n",
    "    # Create a layout for the graph\n",
    "    pos = nx.spring_layout(G)\n",
    "\n",
    "    # Draw the graph\n",
    "    nx.draw(G, pos, with_labels=True, node_color='lightblue', node_size=500, edge_color='gray', arrows=True)\n",
    "\n",
    "    # Show the graph\n",
    "    plt.show()\n",
    "DiGraph.draw_graph=visualize_graph"
   ]
  },
  {
   "cell_type": "code",
   "execution_count": 13,
   "id": "fb8abd47",
   "metadata": {},
   "outputs": [
    {
     "data": {
      "image/png": "[encoded data removed]",
      "text/plain": [
       "<Figure size 640x480 with 1 Axes>"
      ]
     },
     "metadata": {},
     "output_type": "display_data"
    }
   ],
   "source": [
    "g=DiGraph()\n",
    "g.add_node('a')\n",
    "g.add_node('b')\n",
    "g.add_node('c')\n",
    "g.add_node('d')\n",
    "g.add_node('e')\n",
    "g.add_node('f')\n",
    "g.add_edge('a','b')\n",
    "g.add_edge('a','c')\n",
    "g.add_edge('b','c')\n",
    "g.add_edge('b','d')\n",
    "g.add_edge('c','d')\n",
    "g.add_edge('d','c')\n",
    "g.add_edge('f','c')\n",
    "\n",
    "g.add_edge('e','f')\n",
    "g.draw_graph()"
   ]
  },
  {
   "cell_type": "code",
   "execution_count": 6,
   "id": "a246994c",
   "metadata": {},
   "outputs": [],
   "source": [
    "import pprint"
   ]
  },
  {
   "cell_type": "code",
   "execution_count": 7,
   "id": "d0c0c1df",
   "metadata": {},
   "outputs": [
    {
     "name": "stdout",
     "output_type": "stream",
     "text": [
      "{'a': ['b', 'c'], 'b': ['c', 'd'], 'c': ['d'], 'd': ['c'], 'e': ['f'], 'f': ['c']}\n",
      "{'a': ['b', 'c'],\n",
      " 'b': ['c', 'd'],\n",
      " 'c': ['d'],\n",
      " 'd': ['c'],\n",
      " 'e': ['f'],\n",
      " 'f': ['c']}\n"
     ]
    }
   ],
   "source": [
    "print(g.graph)  #Abstraction Police :  Don't freak out we are just looking\n",
    "pprint.pprint(g.graph) #pretty printing!"
   ]
  },
  {
   "cell_type": "code",
   "execution_count": 14,
   "id": "03b0be24",
   "metadata": {},
   "outputs": [],
   "source": [
    "def traverse_graph(self,start):\n",
    "    \"\"\"Traverse graph starting from given starting node\"\"\"\n",
    "    q=[ start ]\n",
    "    visited=[] #list of elements already visited\n",
    "    \n",
    "    while q:\n",
    "        current=q.pop(0)#deque\n",
    "        \n",
    "        #if we have already visited node dont traverse again\n",
    "        if current in visited:\n",
    "            continue\n",
    "        print(current)\n",
    "        \n",
    "        #adding to visited element list\n",
    "        visited.append(current)\n",
    "        \n",
    "        next_nodes=self.graph[current]\n",
    "        #adding all connected node to current node\n",
    "        for n in next_nodes:\n",
    "            q.append(n)#enque\n",
    "    \n",
    "DiGraph.traverse_graph=traverse_graph    "
   ]
  },
  {
   "cell_type": "code",
   "execution_count": 15,
   "id": "7d14e9c1",
   "metadata": {},
   "outputs": [
    {
     "name": "stdout",
     "output_type": "stream",
     "text": [
      "a\n",
      "b\n",
      "c\n",
      "d\n"
     ]
    }
   ],
   "source": [
    "g.traverse_graph('a')"
   ]
  },
  {
   "cell_type": "code",
   "execution_count": 16,
   "id": "7b774ab4",
   "metadata": {},
   "outputs": [],
   "source": [
    "def find_path(self,start,end,path=[]):\n",
    "    \"\"\"FIND PATH(NOT NECCESARILY SHORTEST ) FROM START TO END\"\"\"\n",
    "    if start not in self.graph:\n",
    "        raise ValueError(\"STARTING POINT NOT IN GRAPH\")\n",
    "    #print(start,' , ',end)\n",
    "    path=path+[start]\n",
    "    if start==end:\n",
    "        return path\n",
    "    for node in self.graph[start]:\n",
    "        if node not in path:\n",
    "            new_path=self.find_path(node,end,path)\n",
    "            if new_path:\n",
    "                return new_path\n",
    "    return None\n",
    "DiGraph.find_path=find_path"
   ]
  },
  {
   "cell_type": "code",
   "execution_count": 11,
   "id": "d2161586",
   "metadata": {},
   "outputs": [
    {
     "name": "stdout",
     "output_type": "stream",
     "text": [
      "None\n"
     ]
    }
   ],
   "source": [
    "print(g.find_path('a','f'))"
   ]
  },
  {
   "cell_type": "code",
   "execution_count": 23,
   "id": "27f426ed",
   "metadata": {},
   "outputs": [],
   "source": []
  },
  {
   "cell_type": "code",
   "execution_count": null,
   "id": "7ae103a6",
   "metadata": {},
   "outputs": [],
   "source": []
  }
 ],
 "metadata": {
  "kernelspec": {
   "display_name": "Python 3 (ipykernel)",
   "language": "python",
   "name": "python3"
  },
  "language_info": {
   "codemirror_mode": {
    "name": "ipython",
    "version": 3
   },
   "file_extension": ".py",
   "mimetype": "text/x-python",
   "name": "python",
   "nbconvert_exporter": "python",
   "pygments_lexer": "ipython3",
   "version": "3.9.13"
  }
 },
 "nbformat": 4,
 "nbformat_minor": 5
}

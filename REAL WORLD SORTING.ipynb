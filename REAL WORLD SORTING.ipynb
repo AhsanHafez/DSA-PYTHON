{
 "cells": [
  {
   "cell_type": "markdown",
   "id": "4ed94c3b",
   "metadata": {},
   "source": [
    "# SORTING IN REAL WORLD"
   ]
  },
  {
   "cell_type": "markdown",
   "id": "524b601b",
   "metadata": {},
   "source": [
    "## Descending Sort"
   ]
  },
  {
   "cell_type": "code",
   "execution_count": 1,
   "id": "ef0b9644",
   "metadata": {},
   "outputs": [],
   "source": [
    "def selection_sort(l):\n",
    "    for i in range(len(l)):\n",
    "        max_idx=i\n",
    "        for j in range(i,len(l)):\n",
    "            if l[j]>l[max_idx]: #descending sort\n",
    "                max_idx=j\n",
    "                \n",
    "        l[i],l[max_idx]=l[max_idx],l[i]\n",
    "        \n",
    "    "
   ]
  },
  {
   "cell_type": "code",
   "execution_count": 2,
   "id": "1bec05c6",
   "metadata": {},
   "outputs": [
    {
     "name": "stdout",
     "output_type": "stream",
     "text": [
      "[649, 483, 467, 349]\n"
     ]
    }
   ],
   "source": [
    "import random\n",
    "l=[random.randint(1,1000),random.randint(1,1000),random.randint(1,1000),random.randint(1,1000)]\n",
    "selection_sort(l)\n",
    "print(l)"
   ]
  },
  {
   "cell_type": "markdown",
   "id": "a3ae6d5b",
   "metadata": {},
   "source": [
    "### but there's a better way"
   ]
  },
  {
   "cell_type": "code",
   "execution_count": 3,
   "id": "00104870",
   "metadata": {},
   "outputs": [],
   "source": [
    "def less_than(a,b):\n",
    "    return a<b\n",
    "def greater_than(a,b):\n",
    "    return a>b"
   ]
  },
  {
   "cell_type": "code",
   "execution_count": 4,
   "id": "4e086818",
   "metadata": {},
   "outputs": [],
   "source": [
    "def selection_sort(l,comparison_function):\n",
    "    for i in range(len(l)):\n",
    "        idx=i\n",
    "        for j in range(i,len(l)):\n",
    "            if comparison_function(l[j],l[idx]):\n",
    "                idx=j\n",
    "        l[i],l[idx]=l[idx],l[i]"
   ]
  },
  {
   "cell_type": "code",
   "execution_count": 5,
   "id": "f4efe2a9",
   "metadata": {},
   "outputs": [
    {
     "name": "stdout",
     "output_type": "stream",
     "text": [
      "[868, 844, 425, 108]\n"
     ]
    }
   ],
   "source": [
    "import random\n",
    "l=[random.randint(1,1000),random.randint(1,1000),random.randint(1,1000),random.randint(1,1000)]\n",
    "selection_sort(l,greater_than)\n",
    "print(l)"
   ]
  },
  {
   "cell_type": "code",
   "execution_count": 6,
   "id": "49a07ba5",
   "metadata": {},
   "outputs": [],
   "source": [
    "all_tuple=[(1,2),(3,4),(5,6),(24,25) ]\n",
    "def tuple_less_than(a,b):\n",
    "    return sum(a)<sum(b)\n",
    "def tuple_greater_than(a,b):\n",
    "    return sum(a)>sum(b)"
   ]
  },
  {
   "cell_type": "code",
   "execution_count": 7,
   "id": "5e5ce9fd",
   "metadata": {},
   "outputs": [
    {
     "name": "stdout",
     "output_type": "stream",
     "text": [
      "ASCENDING \t[(1, 2), (3, 4), (5, 6), (24, 25)]\n",
      "DESCENDING \t[(24, 25), (5, 6), (3, 4), (1, 2)]\n"
     ]
    }
   ],
   "source": [
    "print(\"ASCENDING \\t\",end=\"\")\n",
    "selection_sort(all_tuple,tuple_less_than)\n",
    "print(all_tuple)\n",
    "\n",
    "print(\"DESCENDING \\t\",end=\"\")\n",
    "selection_sort(all_tuple,tuple_greater_than)\n",
    "print(all_tuple)"
   ]
  },
  {
   "cell_type": "code",
   "execution_count": 8,
   "id": "dc7e85a6",
   "metadata": {},
   "outputs": [],
   "source": [
    "def dictionary_less_than(a,b):\n",
    "    return sum(a.keys())<sum(b.keys())\n",
    "\n",
    "def dictionary_greater_than(a,b):\n",
    "    return sum(a.keys())>sum(b.keys())"
   ]
  },
  {
   "cell_type": "code",
   "execution_count": 9,
   "id": "43c0022e",
   "metadata": {},
   "outputs": [
    {
     "name": "stdout",
     "output_type": "stream",
     "text": [
      "ASCENDING \t[{1: 'one', 2: 'two', 3: 'THREE'}, {4: 'FOUR', 5: 'FIVE', 6: 'SIX'}, {7: 'one', 8: 'two', 9: 'THREE'}, {10: 'one', 11: 'two', 12: 'THREE'}]\n",
      "DESCENDING \t[{10: 'one', 11: 'two', 12: 'THREE'}, {7: 'one', 8: 'two', 9: 'THREE'}, {4: 'FOUR', 5: 'FIVE', 6: 'SIX'}, {1: 'one', 2: 'two', 3: 'THREE'}]\n"
     ]
    }
   ],
   "source": [
    "d=[{1:\"one\",2:\"two\",3:\"THREE\"},\n",
    "{4:\"FOUR\",5:\"FIVE\",6:\"SIX\"},\n",
    "{7:\"one\",8:\"two\",9:\"THREE\"}, \n",
    "{10:\"one\",11:\"two\",12:\"THREE\"}]\n",
    "print(\"ASCENDING \\t\",end=\"\")\n",
    "selection_sort(d,dictionary_less_than)\n",
    "print(d)\n",
    "print(\"DESCENDING \\t\",end=\"\")\n",
    "selection_sort(d,dictionary_greater_than)\n",
    "print(d)"
   ]
  },
  {
   "cell_type": "code",
   "execution_count": 10,
   "id": "cc26c9cf",
   "metadata": {},
   "outputs": [
    {
     "name": "stdout",
     "output_type": "stream",
     "text": [
      "AHSAN\n"
     ]
    }
   ],
   "source": [
    "student=[\n",
    "    {\"NAME\":\"AHSAN\",'age':25},\n",
    "    {\"NAME\":\"SAQIB\",'age':39},\n",
    "    {\"NAME\":\"ZAID\",'age':12},\n",
    "    {\"NAME\":\"ZOHAIB\",'age':13}\n",
    "]\n",
    "\n",
    "def age_less_than(a,b):\n",
    "    return a[\"age\"]<b[\"age\"]\n",
    "def age_less_than(a,b):\n",
    "    return a[\"age\"]<b[\"age\"]\n",
    "print(student[0][\"NAME\"])"
   ]
  },
  {
   "cell_type": "code",
   "execution_count": 11,
   "id": "25f6ee64",
   "metadata": {},
   "outputs": [],
   "source": [
    "selection_sort(student,age_less_than)"
   ]
  },
  {
   "cell_type": "code",
   "execution_count": 12,
   "id": "09efccaa",
   "metadata": {},
   "outputs": [
    {
     "name": "stdout",
     "output_type": "stream",
     "text": [
      "[{'NAME': 'ZAID', 'age': 12}, {'NAME': 'ZOHAIB', 'age': 13}, {'NAME': 'AHSAN', 'age': 25}, {'NAME': 'SAQIB', 'age': 39}]\n"
     ]
    }
   ],
   "source": [
    "print(student)"
   ]
  },
  {
   "cell_type": "code",
   "execution_count": 13,
   "id": "f9e2f378",
   "metadata": {},
   "outputs": [],
   "source": [
    "def student_age(a):\n",
    "    return a['age']"
   ]
  },
  {
   "cell_type": "code",
   "execution_count": 14,
   "id": "90540e7e",
   "metadata": {},
   "outputs": [
    {
     "name": "stdout",
     "output_type": "stream",
     "text": [
      "[{'NAME': 'ZAID', 'age': 12}, {'NAME': 'ZOHAIB', 'age': 13}, {'NAME': 'AHSAN', 'age': 25}, {'NAME': 'SAQIB', 'age': 39}]\n"
     ]
    }
   ],
   "source": [
    "print(student)"
   ]
  },
  {
   "cell_type": "code",
   "execution_count": 15,
   "id": "1b6bf33d",
   "metadata": {},
   "outputs": [
    {
     "name": "stdout",
     "output_type": "stream",
     "text": [
      "[{'NAME': 'ZAID', 'age': 12}, {'NAME': 'ZOHAIB', 'age': 13}, {'NAME': 'AHSAN', 'age': 25}, {'NAME': 'SAQIB', 'age': 39}]\n"
     ]
    }
   ],
   "source": [
    "student.sort(key=student_age)\n",
    "print(student)"
   ]
  },
  {
   "cell_type": "code",
   "execution_count": 16,
   "id": "5541db93",
   "metadata": {},
   "outputs": [],
   "source": [
    "class student:\n",
    "    def __init__(self,name,age):\n",
    "        self.name=name\n",
    "        self.age=age\n",
    "    def __str__(self):\n",
    "        return self.name+ \" : \" + str(self.age)"
   ]
  },
  {
   "cell_type": "code",
   "execution_count": 17,
   "id": "33a4973b",
   "metadata": {},
   "outputs": [],
   "source": [
    "s1=student(\"majid\",5)\n",
    "s2=student(\"usman\",7)\n",
    "s3=student(\"ali\",3)\n",
    "s=[s1,s2,s3]"
   ]
  },
  {
   "cell_type": "markdown",
   "id": "af8f2697",
   "metadata": {},
   "source": [
    "## Anonymous Function"
   ]
  },
  {
   "cell_type": "code",
   "execution_count": 24,
   "id": "bf33931c",
   "metadata": {},
   "outputs": [],
   "source": [
    "s.sort(key=lambda x:x.age ,reverse=True) #defining function x and return x.age"
   ]
  },
  {
   "cell_type": "code",
   "execution_count": 25,
   "id": "ca24df4b",
   "metadata": {},
   "outputs": [
    {
     "name": "stdout",
     "output_type": "stream",
     "text": [
      "usman : 7\n",
      "majid : 5\n",
      "ali : 3\n"
     ]
    }
   ],
   "source": [
    "for i in s:\n",
    "    print(i)"
   ]
  },
  {
   "cell_type": "code",
   "execution_count": null,
   "id": "6a539a18",
   "metadata": {},
   "outputs": [],
   "source": []
  }
 ],
 "metadata": {
  "kernelspec": {
   "display_name": "Python 3 (ipykernel)",
   "language": "python",
   "name": "python3"
  },
  "language_info": {
   "codemirror_mode": {
    "name": "ipython",
    "version": 3
   },
   "file_extension": ".py",
   "mimetype": "text/x-python",
   "name": "python",
   "nbconvert_exporter": "python",
   "pygments_lexer": "ipython3",
   "version": "3.9.13"
  }
 },
 "nbformat": 4,
 "nbformat_minor": 5
}

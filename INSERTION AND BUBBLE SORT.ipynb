{
 "cells": [
  {
   "cell_type": "markdown",
   "id": "bccb14f6",
   "metadata": {},
   "source": [
    "# SORTING"
   ]
  },
  {
   "cell_type": "markdown",
   "id": "35ae8818",
   "metadata": {},
   "source": [
    "## BUBBLE SORT"
   ]
  },
  {
   "cell_type": "code",
   "execution_count": 1,
   "id": "d0a045af",
   "metadata": {},
   "outputs": [],
   "source": [
    "def bubble_sort(lst):\n",
    "    for i in range(len(lst)):\n",
    "        is_change=False\n",
    "        for j in range((len(lst)-i)-1): #-1 makes sures you dont go outside list i.e comparing last element to i+1\n",
    "                if lst[j]>lst[j+1]:\n",
    "                    is_change=True\n",
    "                    lst[j],lst[j+1]=lst[j+1],lst[j]\n",
    "        if is_change==False: #if list is already sorted go back\n",
    "            return"
   ]
  },
  {
   "cell_type": "code",
   "execution_count": 2,
   "id": "dc5bd363",
   "metadata": {},
   "outputs": [
    {
     "name": "stdout",
     "output_type": "stream",
     "text": [
      "[1, 1, 1, 2, 2, 4, 5, 5, 6, 15, 110]\n"
     ]
    }
   ],
   "source": [
    "h=[1,2,4,1,2,5,5,6,1,110,15]\n",
    "bubble_sort(h)\n",
    "print(h)"
   ]
  },
  {
   "cell_type": "markdown",
   "id": "df1c239d",
   "metadata": {},
   "source": [
    "## INSERTION SORT"
   ]
  },
  {
   "cell_type": "code",
   "execution_count": 3,
   "id": "98863f4f",
   "metadata": {},
   "outputs": [],
   "source": [
    "def insertion_sort(lst):\n",
    "    for i in range(1,len(lst)):#as only element in list is always sorted\n",
    "        key=lst[i] # key is element to be replaced   b\n",
    "        j=i-1\n",
    "        while j>=0 and key<=lst[j]:\n",
    "            lst[j+1]=lst[j]  #moving thing one slot forward\n",
    "            j-=1\n",
    "        lst[j+1]=key"
   ]
  },
  {
   "cell_type": "code",
   "execution_count": 4,
   "id": "de446d89",
   "metadata": {},
   "outputs": [
    {
     "name": "stdout",
     "output_type": "stream",
     "text": [
      "[1, 1, 1, 2, 2, 4, 5, 5, 6, 15, 110]\n"
     ]
    }
   ],
   "source": [
    "h=[1,2,4,1,2,5,5,6,1,110,15]\n",
    "insertion_sort(h)\n",
    "print(h)"
   ]
  },
  {
   "cell_type": "code",
   "execution_count": null,
   "id": "dfec5b35",
   "metadata": {},
   "outputs": [],
   "source": []
  }
 ],
 "metadata": {
  "kernelspec": {
   "display_name": "Python 3 (ipykernel)",
   "language": "python",
   "name": "python3"
  },
  "language_info": {
   "codemirror_mode": {
    "name": "ipython",
    "version": 3
   },
   "file_extension": ".py",
   "mimetype": "text/x-python",
   "name": "python",
   "nbconvert_exporter": "python",
   "pygments_lexer": "ipython3",
   "version": "3.9.13"
  }
 },
 "nbformat": 4,
 "nbformat_minor": 5
}

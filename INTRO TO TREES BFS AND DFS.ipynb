{
 "cells": [
  {
   "cell_type": "markdown",
   "id": "d0a8b2b0",
   "metadata": {},
   "source": [
    "# TREE "
   ]
  },
  {
   "cell_type": "code",
   "execution_count": 1,
   "id": "048fab70",
   "metadata": {},
   "outputs": [
    {
     "data": {
      "text/plain": [
       "'THE ELEMENT WHICH HAS NO ELEMENT NEXT TO IT IS CALLED LEAF(LAST ELEMENT)'"
      ]
     },
     "execution_count": 1,
     "metadata": {},
     "output_type": "execute_result"
    }
   ],
   "source": [
    "class TreeNode:\n",
    "    def __init__(self,data=0):\n",
    "        self.val=data\n",
    "        self.left=None #BRACNCHES  LEVELS\n",
    "        self.right=None\n",
    "#head is root\n",
    "\"\"\"IN BINARY TREE EACH ELEMENT CAN HAVE MAXIMUM TWO BARCNHES OR NODES\"\"\"\n",
    "\"\"\"THE ELEMENT WHICH HAS NO ELEMENT NEXT TO IT IS CALLED LEAF(LAST ELEMENT)\"\"\""
   ]
  },
  {
   "cell_type": "markdown",
   "id": "4c1da576",
   "metadata": {},
   "source": [
    "# VISUALIZATION OF TREE"
   ]
  },
  {
   "cell_type": "code",
   "execution_count": 7,
   "id": "c2bc327c",
   "metadata": {},
   "outputs": [],
   "source": [
    "from graphviz import Digraph\n",
    "def visualize_tree(tree):\n",
    "    if tree is None:\n",
    "        return \"NOTHING IN TREE\"\n",
    "    def add_nodes_edges(tree,dot=None):\n",
    "        if dot is None:\n",
    "            dot=Digraph()\n",
    "            dot.attr('node' ,shape='circle')\n",
    "            dot.node(name=str(tree),label=str(tree.val))\n",
    "        for child in [tree.left,tree.right]:\n",
    "            if child is not None:\n",
    "                if child==tree.left: dot.attr('node',shape='circle',style='filled',fillcolor='lightblue')\n",
    "                if child==tree.right:dot.attr('node',shape='doublecircle',style='filled',fillcolor='seashell')\n",
    "                dot.node(name=str(child),label=str(child.val))\n",
    "                dot.edge(str(tree),str(child))\n",
    "                dot=add_nodes_edges(child,dot=dot)\n",
    "            \n",
    "        return dot\n",
    "    dot=add_nodes_edges(tree)\n",
    "    \n",
    "    display(dot)\n",
    "            \n",
    "                \n",
    "TreeNode.visualize_tree=visualize_tree               "
   ]
  },
  {
   "cell_type": "code",
   "execution_count": 8,
   "id": "e193147a",
   "metadata": {},
   "outputs": [],
   "source": [
    "t1=TreeNode(1)\n",
    "t1.right=TreeNode(2)\n",
    "t1.left=TreeNode(3) \n",
    "t1.right.right=TreeNode(55)\n",
    "t1.right.right.right=TreeNode(101)\n",
    "t1.right.right.right.right=TreeNode(1019)\n",
    "t1.right.right.right.left=TreeNode(200)\n",
    "t1.right.right.left=TreeNode(87)\n",
    "t1.left.left=TreeNode(5)\n",
    "t1.left.right=TreeNode(15)\n"
   ]
  },
  {
   "cell_type": "markdown",
   "id": "6e017c5d",
   "metadata": {},
   "source": [
    "# TREE TRAVERSAL-Depth Search First (DFS)"
   ]
  },
  {
   "cell_type": "code",
   "execution_count": 9,
   "id": "6a81ea4d",
   "metadata": {},
   "outputs": [
    {
     "data": {
      "text/plain": [
       "'IF ROOT IS AT START IT IS PRE ORDER TRAVERSAL \\nIF ROOT IS AT MID IT IS MID ORDER TRAVERSAL\\nIF ROOT IS AT END IT IS IN ORDER TRAVERSAL'"
      ]
     },
     "execution_count": 9,
     "metadata": {},
     "output_type": "execute_result"
    }
   ],
   "source": [
    "def dfs_pre_order(self): #depth first search\n",
    "    if self.val is None:\n",
    "        return    \n",
    "    else:\n",
    "        print(self.val)\n",
    "        \n",
    "        if self.right:\n",
    "            self.right.dfs_pre_order()\n",
    "        if self.left:\n",
    "            self.left.dfs_pre_order()\n",
    "    return \n",
    "TreeNode.dfs_pre_order=dfs_pre_order\n",
    "\"\"\"IF ROOT IS AT START IT IS PRE ORDER TRAVERSAL \n",
    "IF ROOT IS AT MID IT IS MID ORDER TRAVERSAL\n",
    "IF ROOT IS AT END IT IS IN ORDER TRAVERSAL\"\"\""
   ]
  },
  {
   "cell_type": "code",
   "execution_count": 10,
   "id": "7533aca9",
   "metadata": {},
   "outputs": [],
   "source": [
    "def dfs_mid_order(self):\n",
    "    if self.left:\n",
    "        self.left.dfs_mid_order()\n",
    "    print(self.val)\n",
    "    if self.right:\n",
    "        self.right.dfs_mid_order()\n",
    "TreeNode.dfs_mid_order=dfs_mid_order"
   ]
  },
  {
   "cell_type": "code",
   "execution_count": 11,
   "id": "f0acf01f",
   "metadata": {},
   "outputs": [],
   "source": [
    "def dfs_in_order(self):\n",
    "    if self.left:\n",
    "        self.left.dfs_in_order()\n",
    "    if self.right:\n",
    "        self.right.dfs_in_order()\n",
    "    print(self.val)\n",
    "TreeNode.dfs_in_order=dfs_in_order"
   ]
  },
  {
   "cell_type": "code",
   "execution_count": 12,
   "id": "59a37f1f",
   "metadata": {},
   "outputs": [
    {
     "name": "stdout",
     "output_type": "stream",
     "text": [
      "1\n",
      "2\n",
      "55\n",
      "101\n",
      "1019\n",
      "200\n",
      "87\n",
      "3\n",
      "15\n",
      "5\n",
      "\n",
      "\n",
      "5\n",
      "3\n",
      "15\n",
      "1\n",
      "2\n",
      "87\n",
      "55\n",
      "200\n",
      "101\n",
      "1019\n",
      "\n",
      "\n",
      "5\n",
      "15\n",
      "3\n",
      "87\n",
      "200\n",
      "1019\n",
      "101\n",
      "55\n",
      "2\n",
      "1\n"
     ]
    }
   ],
   "source": [
    "t1.dfs_pre_order()\n",
    "print(\"\\n\")\n",
    "t1.dfs_mid_order()\n",
    "print(\"\\n\")\n",
    "t1.dfs_in_order()"
   ]
  },
  {
   "cell_type": "markdown",
   "id": "a0fe06f0",
   "metadata": {},
   "source": [
    "# Tree Travversal - Breadth First Search"
   ]
  },
  {
   "cell_type": "code",
   "execution_count": 13,
   "id": "93801034",
   "metadata": {},
   "outputs": [],
   "source": [
    "def bfs(self):#breadth first search\n",
    "    #covers level by level not by whole depth first\n",
    "    l=[self]#WE will use it as queue initialzing it with root\n",
    "    while l:\n",
    "        current=l.pop(0)#deque\n",
    "        print(current.val)\n",
    "        if current.left:\n",
    "            l.append(current.left)#enque\n",
    "        if current.right:\n",
    "            l.append(current.right)#enque\n",
    "TreeNode.bfs=bfs      "
   ]
  },
  {
   "cell_type": "code",
   "execution_count": 9,
   "id": "073da84a",
   "metadata": {},
   "outputs": [
    {
     "name": "stdout",
     "output_type": "stream",
     "text": [
      "1\n",
      "3\n",
      "2\n",
      "5\n",
      "15\n",
      "55\n",
      "87\n",
      "101\n",
      "200\n",
      "1019\n"
     ]
    }
   ],
   "source": [
    "t1.bfs()"
   ]
  },
  {
   "cell_type": "markdown",
   "id": "711f0c17",
   "metadata": {},
   "source": [
    "# Using Trees For Problem Solving"
   ]
  },
  {
   "cell_type": "code",
   "execution_count": 11,
   "id": "7c88d6ec",
   "metadata": {},
   "outputs": [],
   "source": [
    "def dfs_apply(self,fn):\n",
    "    fn(self)\n",
    "    if self.left:\n",
    "        self.left.dfs_apply(fn)\n",
    "    if self.right:\n",
    "        self.right.dfs_apply(fn)\n",
    "TreeNode.dfs_apply=dfs_apply"
   ]
  },
  {
   "cell_type": "code",
   "execution_count": 12,
   "id": "f9bc9009",
   "metadata": {},
   "outputs": [],
   "source": [
    "class PerformSum:\n",
    "    def __init__(self):\n",
    "        self.sum=0\n",
    "    def process(self,node):\n",
    "        self.sum+=node.val\n",
    "    def get_sum(self):\n",
    "        return self.sum\n",
    "    def reset_sum(self):\n",
    "        self.sum=0\n",
    "p=PerformSum()"
   ]
  },
  {
   "cell_type": "code",
   "execution_count": 13,
   "id": "4c443ec6",
   "metadata": {},
   "outputs": [
    {
     "name": "stdout",
     "output_type": "stream",
     "text": [
      "1488\n"
     ]
    }
   ],
   "source": [
    "p.reset_sum()\n",
    "t1.dfs_apply(p.process)\n",
    "print(p.get_sum())"
   ]
  },
  {
   "cell_type": "code",
   "execution_count": 4,
   "id": "3fc03f2b",
   "metadata": {},
   "outputs": [
    {
     "data": {
      "image/svg+xml": [
       "<?xml version=\"1.0\" encoding=\"UTF-8\" standalone=\"no\"?>\n",
       "<!DOCTYPE svg PUBLIC \"-//W3C//DTD SVG 1.1//EN\"\n",
       " \"http://www.w3.org/Graphics/SVG/1.1/DTD/svg11.dtd\">\n",
       "<!-- Generated by graphviz version 8.0.5 (20230430.1635)\n",
       " -->\n",
       "<!-- Pages: 1 -->\n",
       "<svg width=\"254pt\" height=\"401pt\"\n",
       " viewBox=\"0.00 0.00 253.61 400.71\" xmlns=\"http://www.w3.org/2000/svg\" xmlns:xlink=\"http://www.w3.org/1999/xlink\">\n",
       "<g id=\"graph0\" class=\"graph\" transform=\"scale(1 1) rotate(0) translate(4 396.71)\">\n",
       "<polygon fill=\"white\" stroke=\"none\" points=\"-4,4 -4,-396.71 249.61,-396.71 249.61,4 -4,4\"/>\n",
       "<!-- __main__.TreeNode object at 0x0000021B588E8A00 -->\n",
       "<g id=\"node1\" class=\"node\">\n",
       "<title>__main__.TreeNode object at 0x0000021B588E8A00</title>\n",
       "<ellipse fill=\"none\" stroke=\"black\" cx=\"107\" cy=\"-374.71\" rx=\"18\" ry=\"18\"/>\n",
       "<text text-anchor=\"middle\" x=\"107\" y=\"-369.28\" font-family=\"Times New Roman,serif\" font-size=\"14.00\">1</text>\n",
       "</g>\n",
       "<!-- __main__.TreeNode object at 0x0000021B588E8F70 -->\n",
       "<g id=\"node2\" class=\"node\">\n",
       "<title>__main__.TreeNode object at 0x0000021B588E8F70</title>\n",
       "<ellipse fill=\"lightblue\" stroke=\"black\" cx=\"78\" cy=\"-298.71\" rx=\"18\" ry=\"18\"/>\n",
       "<text text-anchor=\"middle\" x=\"78\" y=\"-293.28\" font-family=\"Times New Roman,serif\" font-size=\"14.00\">3</text>\n",
       "</g>\n",
       "<!-- __main__.TreeNode object at 0x0000021B588E8A00&#45;&gt;__main__.TreeNode object at 0x0000021B588E8F70 -->\n",
       "<g id=\"edge1\" class=\"edge\">\n",
       "<title>__main__.TreeNode object at 0x0000021B588E8A00&#45;&gt;__main__.TreeNode object at 0x0000021B588E8F70</title>\n",
       "<path fill=\"none\" stroke=\"black\" d=\"M100.71,-357.65C97.08,-348.41 92.44,-336.56 88.3,-325.99\"/>\n",
       "<polygon fill=\"black\" stroke=\"black\" points=\"91.29,-325.02 84.38,-316.99 84.77,-327.58 91.29,-325.02\"/>\n",
       "</g>\n",
       "<!-- __main__.TreeNode object at 0x0000021B588E89D0 -->\n",
       "<g id=\"node5\" class=\"node\">\n",
       "<title>__main__.TreeNode object at 0x0000021B588E89D0</title>\n",
       "<ellipse fill=\"seashell\" stroke=\"black\" cx=\"139\" cy=\"-298.71\" rx=\"18\" ry=\"18\"/>\n",
       "<ellipse fill=\"none\" stroke=\"black\" cx=\"139\" cy=\"-298.71\" rx=\"22\" ry=\"22\"/>\n",
       "<text text-anchor=\"middle\" x=\"139\" y=\"-293.28\" font-family=\"Times New Roman,serif\" font-size=\"14.00\">2</text>\n",
       "</g>\n",
       "<!-- __main__.TreeNode object at 0x0000021B588E8A00&#45;&gt;__main__.TreeNode object at 0x0000021B588E89D0 -->\n",
       "<g id=\"edge4\" class=\"edge\">\n",
       "<title>__main__.TreeNode object at 0x0000021B588E8A00&#45;&gt;__main__.TreeNode object at 0x0000021B588E89D0</title>\n",
       "<path fill=\"none\" stroke=\"black\" d=\"M113.94,-357.65C117.51,-349.41 121.96,-339.1 126.13,-329.47\"/>\n",
       "<polygon fill=\"black\" stroke=\"black\" points=\"129.72,-330.99 130.47,-320.42 123.29,-328.21 129.72,-330.99\"/>\n",
       "</g>\n",
       "<!-- __main__.TreeNode object at 0x0000021B588E8070 -->\n",
       "<g id=\"node3\" class=\"node\">\n",
       "<title>__main__.TreeNode object at 0x0000021B588E8070</title>\n",
       "<ellipse fill=\"lightblue\" stroke=\"black\" cx=\"18\" cy=\"-217.08\" rx=\"18\" ry=\"18\"/>\n",
       "<text text-anchor=\"middle\" x=\"18\" y=\"-211.66\" font-family=\"Times New Roman,serif\" font-size=\"14.00\">5</text>\n",
       "</g>\n",
       "<!-- __main__.TreeNode object at 0x0000021B588E8F70&#45;&gt;__main__.TreeNode object at 0x0000021B588E8070 -->\n",
       "<g id=\"edge2\" class=\"edge\">\n",
       "<title>__main__.TreeNode object at 0x0000021B588E8F70&#45;&gt;__main__.TreeNode object at 0x0000021B588E8070</title>\n",
       "<path fill=\"none\" stroke=\"black\" d=\"M67.55,-283.84C58.57,-271.92 45.45,-254.52 34.97,-240.6\"/>\n",
       "<polygon fill=\"black\" stroke=\"black\" points=\"37.35,-238.94 28.53,-233.06 31.76,-243.15 37.35,-238.94\"/>\n",
       "</g>\n",
       "<!-- __main__.TreeNode object at 0x0000021B588E81F0 -->\n",
       "<g id=\"node4\" class=\"node\">\n",
       "<title>__main__.TreeNode object at 0x0000021B588E81F0</title>\n",
       "<ellipse fill=\"seashell\" stroke=\"black\" cx=\"78\" cy=\"-217.08\" rx=\"19.63\" ry=\"19.63\"/>\n",
       "<ellipse fill=\"none\" stroke=\"black\" cx=\"78\" cy=\"-217.08\" rx=\"23.63\" ry=\"23.63\"/>\n",
       "<text text-anchor=\"middle\" x=\"78\" y=\"-211.66\" font-family=\"Times New Roman,serif\" font-size=\"14.00\">15</text>\n",
       "</g>\n",
       "<!-- __main__.TreeNode object at 0x0000021B588E8F70&#45;&gt;__main__.TreeNode object at 0x0000021B588E81F0 -->\n",
       "<g id=\"edge3\" class=\"edge\">\n",
       "<title>__main__.TreeNode object at 0x0000021B588E8F70&#45;&gt;__main__.TreeNode object at 0x0000021B588E81F0</title>\n",
       "<path fill=\"none\" stroke=\"black\" d=\"M78,-280.43C78,-272.06 78,-261.7 78,-251.85\"/>\n",
       "<polygon fill=\"black\" stroke=\"black\" points=\"81.5,-252.07 78,-242.07 74.5,-252.07 81.5,-252.07\"/>\n",
       "</g>\n",
       "<!-- __main__.TreeNode object at 0x0000021B588E89A0 -->\n",
       "<g id=\"node6\" class=\"node\">\n",
       "<title>__main__.TreeNode object at 0x0000021B588E89A0</title>\n",
       "<ellipse fill=\"seashell\" stroke=\"black\" cx=\"143\" cy=\"-217.08\" rx=\"19.63\" ry=\"19.63\"/>\n",
       "<ellipse fill=\"none\" stroke=\"black\" cx=\"143\" cy=\"-217.08\" rx=\"23.63\" ry=\"23.63\"/>\n",
       "<text text-anchor=\"middle\" x=\"143\" y=\"-211.66\" font-family=\"Times New Roman,serif\" font-size=\"14.00\">55</text>\n",
       "</g>\n",
       "<!-- __main__.TreeNode object at 0x0000021B588E89D0&#45;&gt;__main__.TreeNode object at 0x0000021B588E89A0 -->\n",
       "<g id=\"edge5\" class=\"edge\">\n",
       "<title>__main__.TreeNode object at 0x0000021B588E89D0&#45;&gt;__main__.TreeNode object at 0x0000021B588E89A0</title>\n",
       "<path fill=\"none\" stroke=\"black\" d=\"M140.07,-276.37C140.45,-268.9 140.88,-260.3 141.29,-252.06\"/>\n",
       "<polygon fill=\"black\" stroke=\"black\" points=\"144.83,-252.32 141.84,-242.16 137.84,-251.97 144.83,-252.32\"/>\n",
       "</g>\n",
       "<!-- __main__.TreeNode object at 0x0000021B588E8100 -->\n",
       "<g id=\"node7\" class=\"node\">\n",
       "<title>__main__.TreeNode object at 0x0000021B588E8100</title>\n",
       "<ellipse fill=\"lightblue\" stroke=\"black\" cx=\"110\" cy=\"-129.34\" rx=\"19.63\" ry=\"19.63\"/>\n",
       "<text text-anchor=\"middle\" x=\"110\" y=\"-123.91\" font-family=\"Times New Roman,serif\" font-size=\"14.00\">87</text>\n",
       "</g>\n",
       "<!-- __main__.TreeNode object at 0x0000021B588E89A0&#45;&gt;__main__.TreeNode object at 0x0000021B588E8100 -->\n",
       "<g id=\"edge6\" class=\"edge\">\n",
       "<title>__main__.TreeNode object at 0x0000021B588E89A0&#45;&gt;__main__.TreeNode object at 0x0000021B588E8100</title>\n",
       "<path fill=\"none\" stroke=\"black\" d=\"M134.67,-194.44C130.46,-183.5 125.3,-170.1 120.79,-158.38\"/>\n",
       "<polygon fill=\"black\" stroke=\"black\" points=\"123.74,-157.28 116.88,-149.21 117.2,-159.8 123.74,-157.28\"/>\n",
       "</g>\n",
       "<!-- __main__.TreeNode object at 0x0000021B588E8EE0 -->\n",
       "<g id=\"node8\" class=\"node\">\n",
       "<title>__main__.TreeNode object at 0x0000021B588E8EE0</title>\n",
       "<ellipse fill=\"seashell\" stroke=\"black\" cx=\"176\" cy=\"-129.34\" rx=\"24.12\" ry=\"24.12\"/>\n",
       "<ellipse fill=\"none\" stroke=\"black\" cx=\"176\" cy=\"-129.34\" rx=\"28.12\" ry=\"28.12\"/>\n",
       "<text text-anchor=\"middle\" x=\"176\" y=\"-123.91\" font-family=\"Times New Roman,serif\" font-size=\"14.00\">101</text>\n",
       "</g>\n",
       "<!-- __main__.TreeNode object at 0x0000021B588E89A0&#45;&gt;__main__.TreeNode object at 0x0000021B588E8EE0 -->\n",
       "<g id=\"edge7\" class=\"edge\">\n",
       "<title>__main__.TreeNode object at 0x0000021B588E89A0&#45;&gt;__main__.TreeNode object at 0x0000021B588E8EE0</title>\n",
       "<path fill=\"none\" stroke=\"black\" d=\"M151.33,-194.44C154.64,-185.85 158.53,-175.72 162.24,-166.09\"/>\n",
       "<polygon fill=\"black\" stroke=\"black\" points=\"165.82,-167.52 166.15,-156.93 159.29,-165.01 165.82,-167.52\"/>\n",
       "</g>\n",
       "<!-- __main__.TreeNode object at 0x0000021B588E8910 -->\n",
       "<g id=\"node9\" class=\"node\">\n",
       "<title>__main__.TreeNode object at 0x0000021B588E8910</title>\n",
       "<ellipse fill=\"lightblue\" stroke=\"black\" cx=\"138\" cy=\"-32.61\" rx=\"24.12\" ry=\"24.12\"/>\n",
       "<text text-anchor=\"middle\" x=\"138\" y=\"-27.18\" font-family=\"Times New Roman,serif\" font-size=\"14.00\">200</text>\n",
       "</g>\n",
       "<!-- __main__.TreeNode object at 0x0000021B588E8EE0&#45;&gt;__main__.TreeNode object at 0x0000021B588E8910 -->\n",
       "<g id=\"edge8\" class=\"edge\">\n",
       "<title>__main__.TreeNode object at 0x0000021B588E8EE0&#45;&gt;__main__.TreeNode object at 0x0000021B588E8910</title>\n",
       "<path fill=\"none\" stroke=\"black\" d=\"M165.82,-102.95C161.23,-91.51 155.75,-77.86 150.88,-65.72\"/>\n",
       "<polygon fill=\"black\" stroke=\"black\" points=\"153.76,-64.5 146.79,-56.52 147.27,-67.11 153.76,-64.5\"/>\n",
       "</g>\n",
       "<!-- __main__.TreeNode object at 0x0000021B588E8D90 -->\n",
       "<g id=\"node10\" class=\"node\">\n",
       "<title>__main__.TreeNode object at 0x0000021B588E8D90</title>\n",
       "<ellipse fill=\"seashell\" stroke=\"black\" cx=\"213\" cy=\"-32.61\" rx=\"28.61\" ry=\"28.61\"/>\n",
       "<ellipse fill=\"none\" stroke=\"black\" cx=\"213\" cy=\"-32.61\" rx=\"32.61\" ry=\"32.61\"/>\n",
       "<text text-anchor=\"middle\" x=\"213\" y=\"-27.18\" font-family=\"Times New Roman,serif\" font-size=\"14.00\">1019</text>\n",
       "</g>\n",
       "<!-- __main__.TreeNode object at 0x0000021B588E8EE0&#45;&gt;__main__.TreeNode object at 0x0000021B588E8D90 -->\n",
       "<g id=\"edge9\" class=\"edge\">\n",
       "<title>__main__.TreeNode object at 0x0000021B588E8EE0&#45;&gt;__main__.TreeNode object at 0x0000021B588E8D90</title>\n",
       "<path fill=\"none\" stroke=\"black\" d=\"M185.92,-102.95C189.44,-93.92 193.5,-83.52 197.39,-73.57\"/>\n",
       "<polygon fill=\"black\" stroke=\"black\" points=\"200.97,-75.03 201.35,-64.44 194.45,-72.48 200.97,-75.03\"/>\n",
       "</g>\n",
       "</g>\n",
       "</svg>\n"
      ],
      "text/plain": [
       "<graphviz.graphs.Digraph at 0x21b5889dd00>"
      ]
     },
     "metadata": {},
     "output_type": "display_data"
    }
   ],
   "source": [
    "visualize_tree(t1)\n"
   ]
  },
  {
   "cell_type": "code",
   "execution_count": null,
   "id": "91ef33bb",
   "metadata": {},
   "outputs": [],
   "source": []
  }
 ],
 "metadata": {
  "kernelspec": {
   "display_name": "Python 3 (ipykernel)",
   "language": "python",
   "name": "python3"
  },
  "language_info": {
   "codemirror_mode": {
    "name": "ipython",
    "version": 3
   },
   "file_extension": ".py",
   "mimetype": "text/x-python",
   "name": "python",
   "nbconvert_exporter": "python",
   "pygments_lexer": "ipython3",
   "version": "3.9.13"
  }
 },
 "nbformat": 4,
 "nbformat_minor": 5
}

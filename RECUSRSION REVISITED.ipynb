{
 "cells": [
  {
   "cell_type": "code",
   "execution_count": 9,
   "id": "c46ebf51",
   "metadata": {},
   "outputs": [
    {
     "data": {
      "text/plain": [
       "'THE ELEMENT WHICH HAS NO ELEMENT NEXT TO IT IS CALLED LEAF(LAST ELEMENT)'"
      ]
     },
     "execution_count": 9,
     "metadata": {},
     "output_type": "execute_result"
    }
   ],
   "source": [
    "class TreeNode:\n",
    "    def __init__(self,data=0):\n",
    "        self.val=data\n",
    "        self.left=None #BRACNCHES  LEVELS\n",
    "        self.right=None\n",
    "#head is root\n",
    "\"\"\"IN BINARY TREE EACH ELEMENT CAN HAVE MAXIMUM TWO BARCNHES OR NODES\"\"\"\n",
    "\"\"\"THE ELEMENT WHICH HAS NO ELEMENT NEXT TO IT IS CALLED LEAF(LAST ELEMENT)\"\"\"\n"
   ]
  },
  {
   "cell_type": "code",
   "execution_count": 10,
   "id": "c5ab8924",
   "metadata": {},
   "outputs": [],
   "source": [
    "def count(self):\n",
    "    if self.right and self.left:\n",
    "        return 1+self.right.count()+self.left.count()\n",
    "    else:\n",
    "        if self.right:\n",
    "             return 1+self.right.count()\n",
    "\n",
    "        elif self.left:\n",
    "             return 1+self.left.count()\n",
    "        else:\n",
    "            return 1\n",
    "TreeNode.count=count"
   ]
  },
  {
   "cell_type": "code",
   "execution_count": 11,
   "id": "50918849",
   "metadata": {},
   "outputs": [],
   "source": [
    "t1=TreeNode(1)\n",
    "t1.right=TreeNode(2)\n",
    "t1.left=TreeNode(0) \n",
    "t1.right.right=TreeNode(55)\n",
    "t1.right.right.right=TreeNode(101)\n",
    "t1.right.right.right.right=TreeNode(1019)\n",
    "t1.right.right.right.left=TreeNode(100)\n",
    "t1.right.right.left=TreeNode(54)\n",
    "t1.left.left=TreeNode(-1)\n",
    "t1.left.right=TreeNode(0.5)\n",
    "\n"
   ]
  },
  {
   "cell_type": "code",
   "execution_count": 12,
   "id": "7120525d",
   "metadata": {},
   "outputs": [
    {
     "data": {
      "text/plain": [
       "10"
      ]
     },
     "execution_count": 12,
     "metadata": {},
     "output_type": "execute_result"
    }
   ],
   "source": [
    "t1.count()"
   ]
  },
  {
   "cell_type": "code",
   "execution_count": 13,
   "id": "4ed0caf8",
   "metadata": {},
   "outputs": [],
   "source": [
    "def height(self):\n",
    "    if self.right and self.left:\n",
    "        return 1 + max(self.right.height(),self.left.height() )\n",
    "    else:\n",
    "        if self.left:\n",
    "            return 1 + self.left.height()\n",
    "        elif self.right:\n",
    "            return 1+self.right.height()\n",
    "        else:\n",
    "            return 1\n",
    "TreeNode.height=height"
   ]
  },
  {
   "cell_type": "code",
   "execution_count": 14,
   "id": "a8db5f84",
   "metadata": {},
   "outputs": [
    {
     "data": {
      "text/plain": [
       "5"
      ]
     },
     "execution_count": 14,
     "metadata": {},
     "output_type": "execute_result"
    }
   ],
   "source": [
    "t1.height()"
   ]
  },
  {
   "cell_type": "code",
   "execution_count": 15,
   "id": "8e1468e1",
   "metadata": {},
   "outputs": [],
   "source": [
    "def hght(self):\n",
    "    height=1\n",
    "    left_height=0\n",
    "    right_height=0\n",
    "    if self.left:\n",
    "        left_height=self.left.hght()\n",
    "    if self.right:\n",
    "        right_height=self.right.hght()\n",
    "    return height +max(left_height,right_height)\n",
    "TreeNode.hght=hght"
   ]
  },
  {
   "cell_type": "code",
   "execution_count": 16,
   "id": "11069bc0",
   "metadata": {},
   "outputs": [
    {
     "data": {
      "text/plain": [
       "5"
      ]
     },
     "execution_count": 16,
     "metadata": {},
     "output_type": "execute_result"
    }
   ],
   "source": [
    "t1.hght()"
   ]
  },
  {
   "cell_type": "code",
   "execution_count": 17,
   "id": "e7ad3ef5",
   "metadata": {},
   "outputs": [],
   "source": [
    "def make_sure_bst(self):\n",
    "    if self.right and self.left:           \n",
    "        assert self.val<self.right.val , \"THIS IS NOT A BINARY SEARCH TREE\"\n",
    "        assert self.val>self.left.val , \"THIS IS NOT A BINARY SEARCH TREE\"   \n",
    "    else:\n",
    "        if self.right:\n",
    "            assert self.val<self.right.val , \"THIS IS NOT A BINARY SEARCH TREE\"\n",
    "        elif self.left:\n",
    "            assert self.val>self.left.val , \"THIS IS NOT A BINARY SEARCH TREE\" \n",
    "        else:\n",
    "            return\n",
    "    if self.right:\n",
    "        self.right.make_sure_bst()\n",
    "    if self.left:\n",
    "        self.left.make_sure_bst()\n",
    "    return True\n",
    "TreeNode.make_sure_bst=make_sure_bst"
   ]
  },
  {
   "cell_type": "code",
   "execution_count": 10,
   "id": "817693f0",
   "metadata": {},
   "outputs": [
    {
     "data": {
      "text/plain": [
       "True"
      ]
     },
     "execution_count": 10,
     "metadata": {},
     "output_type": "execute_result"
    }
   ],
   "source": [
    "t1.make_sure_bst() "
   ]
  },
  {
   "cell_type": "code",
   "execution_count": null,
   "id": "d3a5a43d",
   "metadata": {},
   "outputs": [],
   "source": []
  }
 ],
 "metadata": {
  "kernelspec": {
   "display_name": "Python 3 (ipykernel)",
   "language": "python",
   "name": "python3"
  },
  "language_info": {
   "codemirror_mode": {
    "name": "ipython",
    "version": 3
   },
   "file_extension": ".py",
   "mimetype": "text/x-python",
   "name": "python",
   "nbconvert_exporter": "python",
   "pygments_lexer": "ipython3",
   "version": "3.9.13"
  }
 },
 "nbformat": 4,
 "nbformat_minor": 5
}

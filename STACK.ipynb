{
 "cells": [
  {
   "cell_type": "code",
   "execution_count": 1,
   "id": "b888a4b8",
   "metadata": {},
   "outputs": [
    {
     "data": {
      "text/plain": [
       "'STACK IS LAST IN FIRST OUT YOU CAN ONLY ACCESS THE VALUE INSERT LASTESTLY \\nAND IF YOU CAN ACCES FROM RANDOM INDEX IT IS NOT STACK'"
      ]
     },
     "execution_count": 1,
     "metadata": {},
     "output_type": "execute_result"
    }
   ],
   "source": [
    "'''STACK IS LAST IN FIRST OUT YOU CAN ONLY ACCESS THE VALUE INSERT LASTESTLY \n",
    "AND IF YOU CAN ACCES FROM RANDOM INDEX IT IS NOT STACK'''"
   ]
  },
  {
   "cell_type": "code",
   "execution_count": 2,
   "id": "d66e326e",
   "metadata": {},
   "outputs": [
    {
     "name": "stdout",
     "output_type": "stream",
     "text": [
      "[12, 13, 14]\n",
      "14\n",
      "13\n",
      "12\n"
     ]
    }
   ],
   "source": [
    "s=[]\n",
    "s.append(12)#same as push\n",
    "s.append(13)\n",
    "s.append(14)\n",
    "\n",
    "print(s)\n",
    "\n",
    "print(s.pop())\n",
    "print(s.pop())\n",
    "print(s.pop())\n",
    "#print(s.pop())\n"
   ]
  },
  {
   "cell_type": "code",
   "execution_count": 3,
   "id": "9b09aef0",
   "metadata": {},
   "outputs": [
    {
     "name": "stdout",
     "output_type": "stream",
     "text": [
      "[1, 2, 3]\n"
     ]
    },
    {
     "data": {
      "text/plain": [
       "2"
      ]
     },
     "execution_count": 3,
     "metadata": {},
     "output_type": "execute_result"
    }
   ],
   "source": [
    "s=[]\n",
    "s.append(1)\n",
    "s.append(2)\n",
    "s.append(3)\n",
    "print(s)\n",
    "\n",
    "s[1]"
   ]
  },
  {
   "cell_type": "code",
   "execution_count": 4,
   "id": "209b1697",
   "metadata": {},
   "outputs": [],
   "source": [
    "class Stack:\n",
    "    def __init__(self):\n",
    "        self.stack=[]\n",
    "    def push(self,value):\n",
    "        self.stack.append(value)\n",
    "    def pop(self):\n",
    "        return self.stack.pop()\n",
    "    def peek(self):#it doesnot remove element \n",
    "        return self.stack[len(self.stack)-1]"
   ]
  },
  {
   "cell_type": "code",
   "execution_count": 5,
   "id": "6a72de0f",
   "metadata": {},
   "outputs": [
    {
     "name": "stdout",
     "output_type": "stream",
     "text": [
      "1\n",
      "1\n"
     ]
    }
   ],
   "source": [
    "s=Stack() \n",
    "s.push(1) #you are  breaking abstarction dont do that only use public function\n",
    "#print(s.stack[0])\n",
    "print(s.peek())\n",
    "print(s.peek())\n",
    "#print(s[1])  #it shows error which is success bcz you can't acces any element except the element last enter\n",
    "#print(s) "
   ]
  },
  {
   "cell_type": "code",
   "execution_count": 6,
   "id": "7b84363d",
   "metadata": {},
   "outputs": [],
   "source": [
    "def BracketMatching(expression):\n",
    "    l=[\"[\" ,\"(\" ,\"{\" ]\n",
    "    l1=[\")\",\"}\" ,\"]\" ]\n",
    "    s=Stack()\n",
    "    for i in expression:\n",
    "        if i in l:\n",
    "            if i==\"[\":\n",
    "                s.push(\"]\")\n",
    "            if i==\"(\":\n",
    "                s.push(\")\")\n",
    "            if i==\"{\":\n",
    "                s.push(\"}\")\n",
    "        if i in l1:\n",
    "            q=s.pop()\n",
    "    if len(s.stack)!=0:\n",
    "        raise Exception(\"WARNING! BRACKET MISSING...\")\n",
    "    print(\"EXPRESSION HAS NO ISSUES IN TERMS OF BRACKET\")     "
   ]
  },
  {
   "cell_type": "code",
   "execution_count": 7,
   "id": "b891ab65",
   "metadata": {},
   "outputs": [
    {
     "name": "stdout",
     "output_type": "stream",
     "text": [
      "EXPRESSION HAS NO ISSUES IN TERMS OF BRACKET\n",
      "EXPRESSION HAS NO ISSUES IN TERMS OF BRACKET\n",
      "EXPRESSION HAS NO ISSUES IN TERMS OF BRACKET\n"
     ]
    }
   ],
   "source": [
    "expression=[\"({[]})\" ,\"[{{8}}]\" ,\"{[()]}\"]\n",
    "for i in expression:\n",
    "    BracketMatching(i)"
   ]
  },
  {
   "cell_type": "code",
   "execution_count": 8,
   "id": "54eb10a8",
   "metadata": {},
   "outputs": [],
   "source": [
    "def BracketMatching(string):\n",
    "    opening=\"{[(\"\n",
    "    closing=\"}])\"\n",
    "    s=Stack()\n",
    "    mapping = dict(zip(opening,closing))#zip create dictionary from list taking first list as key and second as value\n",
    "    for c in string:\n",
    "        if c not in mapping.keys() and c not in mapping.values():\n",
    "            continue\n",
    "            \n",
    "        if c in mapping: #it only checks keys of dictionary which in this case is opening bracket\n",
    "            s.push(mapping[c])\n",
    "        elif len(s.stack)==0 or c != s.pop():\n",
    "            return False\n",
    "    return len(s.stack)==0\n",
    "        "
   ]
  },
  {
   "cell_type": "code",
   "execution_count": 9,
   "id": "6bf6cd2a",
   "metadata": {},
   "outputs": [
    {
     "name": "stdout",
     "output_type": "stream",
     "text": [
      "True\n",
      "True\n",
      "False\n"
     ]
    }
   ],
   "source": [
    "expression=[\"()\" ,\"[{{8}}]\" ,\"{[(}\"]\n",
    "for i in expression:\n",
    "       print(BracketMatching(i))"
   ]
  },
  {
   "cell_type": "code",
   "execution_count": 10,
   "id": "76ee1d98",
   "metadata": {},
   "outputs": [],
   "source": [
    "def dec_to_bin(decimal):\n",
    "    if decimal==0:\n",
    "        return 0\n",
    "    s=Stack()\n",
    "    while decimal!=0:\n",
    "        r=decimal%2\n",
    "        s.push(r)\n",
    "        decimal=decimal//2\n",
    "    ret=\"\"\n",
    "    while s.stack:\n",
    "        ret+=str(s.pop())\n",
    "    return ret\n"
   ]
  },
  {
   "cell_type": "code",
   "execution_count": 11,
   "id": "7e61d1de",
   "metadata": {},
   "outputs": [
    {
     "data": {
      "text/plain": [
       "'100110001001011001111111'"
      ]
     },
     "execution_count": 11,
     "metadata": {},
     "output_type": "execute_result"
    }
   ],
   "source": [
    "dec_to_bin(9999999)"
   ]
  },
  {
   "cell_type": "code",
   "execution_count": 3,
   "id": "086446e2",
   "metadata": {},
   "outputs": [
    {
     "data": {
      "text/plain": [
       "'POINTERS BASED STRUCTURES ARE NOT USED NORMALLY DUE TO CACHE COHERENCE'"
      ]
     },
     "execution_count": 3,
     "metadata": {},
     "output_type": "execute_result"
    }
   ],
   "source": [
    "'''POINTERS BASED STRUCTURES ARE NOT USED NORMALLY DUE TO CACHE COHERENCE'''"
   ]
  },
  {
   "cell_type": "code",
   "execution_count": null,
   "id": "ef7707e9",
   "metadata": {},
   "outputs": [],
   "source": []
  }
 ],
 "metadata": {
  "kernelspec": {
   "display_name": "Python 3 (ipykernel)",
   "language": "python",
   "name": "python3"
  },
  "language_info": {
   "codemirror_mode": {
    "name": "ipython",
    "version": 3
   },
   "file_extension": ".py",
   "mimetype": "text/x-python",
   "name": "python",
   "nbconvert_exporter": "python",
   "pygments_lexer": "ipython3",
   "version": "3.9.13"
  }
 },
 "nbformat": 4,
 "nbformat_minor": 5
}
